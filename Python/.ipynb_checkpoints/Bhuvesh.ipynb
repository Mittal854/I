{
 "cells": [
  {
   "cell_type": "markdown",
   "id": "72f2985f",
   "metadata": {},
   "source": [
    "a=2\n",
    "b=5\n",
    "c=a**b\n",
    "z=2*(4**2)+3*(4**2-10)\n",
    "print(c)\n",
    "print(z)"
   ]
  },
  {
   "cell_type": "markdown",
   "id": "80fd3a05",
   "metadata": {},
   "source": [
    "a "
   ]
  },
  {
   "cell_type": "code",
   "execution_count": 1,
   "id": "19a1739e",
   "metadata": {},
   "outputs": [
    {
     "ename": "TypeError",
     "evalue": "'tuple' object does not support item assignment",
     "output_type": "error",
     "traceback": [
      "\u001b[1;31m---------------------------------------------------------------------------\u001b[0m",
      "\u001b[1;31mTypeError\u001b[0m                                 Traceback (most recent call last)",
      "Input \u001b[1;32mIn [1]\u001b[0m, in \u001b[0;36m<cell line: 2>\u001b[1;34m()\u001b[0m\n\u001b[0;32m      1\u001b[0m a\u001b[38;5;241m=\u001b[39m(\u001b[38;5;241m10\u001b[39m,\u001b[38;5;241m20\u001b[39m,\u001b[38;5;241m3\u001b[39m,\u001b[38;5;241m4\u001b[39m,\u001b[38;5;241m5\u001b[39m)\n\u001b[1;32m----> 2\u001b[0m a[\u001b[38;5;241m1\u001b[39m]\u001b[38;5;241m=\u001b[39m\u001b[38;5;241m8\u001b[39m\n\u001b[0;32m      3\u001b[0m \u001b[38;5;28mprint\u001b[39m(a)\n",
      "\u001b[1;31mTypeError\u001b[0m: 'tuple' object does not support item assignment"
     ]
    }
   ],
   "source": [
    "a=(10,20,3,4,5)\n",
    "a[1]=8\n",
    "print(a)"
   ]
  },
  {
   "cell_type": "code",
   "execution_count": 2,
   "id": "463aba35",
   "metadata": {},
   "outputs": [
    {
     "name": "stdout",
     "output_type": "stream",
     "text": [
      "75\n"
     ]
    }
   ],
   "source": [
    "s={\"name\":\"arnav\",\"class\":9,\"marks\":75}\n",
    "m=s[\"marks\"]\n",
    "print(m)`````````````````````````````````````````````````````````"
   ]
  },
  {
   "cell_type": "code",
   "execution_count": 7,
   "id": "e1601c2c",
   "metadata": {},
   "outputs": [
    {
     "name": "stdout",
     "output_type": "stream",
     "text": [
      "Python1\n"
     ]
    }
   ],
   "source": [
    "print(\"Python\"+str(1))"
   ]
  },
  {
   "cell_type": "code",
   "execution_count": 2,
   "id": "5ad4a068",
   "metadata": {},
   "outputs": [
    {
     "name": "stdout",
     "output_type": "stream",
     "text": [
      "22.19\n"
     ]
    }
   ],
   "source": [
    "x=22.19\n",
    "print(\"%5.2f\"%x)"
   ]
  },
  {
   "cell_type": "code",
   "execution_count": 3,
   "id": "b2543b7e",
   "metadata": {},
   "outputs": [
    {
     "name": "stdout",
     "output_type": "stream",
     "text": [
      "123.456000\n"
     ]
    }
   ],
   "source": [
    "x=123.456\n",
    "print(\"{0:1f}\".format(x))"
   ]
  },
  {
   "cell_type": "code",
   "execution_count": 4,
   "id": "701eb5eb",
   "metadata": {},
   "outputs": [
    {
     "data": {
      "text/plain": [
       "'hello,good,andmorning'"
      ]
     },
     "execution_count": 4,
     "metadata": {},
     "output_type": "execute_result"
    }
   ],
   "source": [
    "s='{0},{1},and{2}'\n",
    "s.format('hello','good','morning')"
   ]
  },
  {
   "cell_type": "code",
   "execution_count": 5,
   "id": "d0b6d6b8",
   "metadata": {},
   "outputs": [
    {
     "ename": "NameError",
     "evalue": "name 'dave' is not defined",
     "output_type": "error",
     "traceback": [
      "\u001b[1;31m---------------------------------------------------------------------------\u001b[0m",
      "\u001b[1;31mNameError\u001b[0m                                 Traceback (most recent call last)",
      "Input \u001b[1;32mIn [5]\u001b[0m, in \u001b[0;36m<cell line: 1>\u001b[1;34m()\u001b[0m\n\u001b[1;32m----> 1\u001b[0m name\u001b[38;5;241m=\u001b[39m\u001b[43mdave\u001b[49m\n\u001b[0;32m      2\u001b[0m \u001b[38;5;28mprint\u001b[39m(\u001b[38;5;124m\"\u001b[39m\u001b[38;5;124mname\u001b[39m\u001b[38;5;124m\"\u001b[39m)\n",
      "\u001b[1;31mNameError\u001b[0m: name 'dave' is not defined"
     ]
    }
   ],
   "source": [
    "name=dave\n",
    "print(\"name\")"
   ]
  },
  {
   "cell_type": "code",
   "execution_count": null,
   "id": "1d2fa3dd",
   "metadata": {},
   "outputs": [],
   "source": [
    "x=4+3%5\n",
    "print(x)"
   ]
  },
  {
   "cell_type": "markdown",
   "id": "6eb84f78",
   "metadata": {},
   "source": [
    "### booleans"
   ]
  },
  {
   "cell_type": "code",
   "execution_count": null,
   "id": "d9aaccfb",
   "metadata": {},
   "outputs": [],
   "source": [
    "a=10\n",
    "b=20\n",
    "print(a>b)\n",
    "print(a<b)\n",
    "print(a==b)\n",
    "print(a>=b)\n",
    "print(a<=b)\n",
    "print(a!=b)"
   ]
  },
  {
   "cell_type": "code",
   "execution_count": null,
   "id": "bd3dc723",
   "metadata": {},
   "outputs": [],
   "source": [
    "c1=a>b\n",
    "print(c1)"
   ]
  },
  {
   "cell_type": "markdown",
   "id": "77bcfc7e",
   "metadata": {},
   "source": [
    "### if else"
   ]
  },
  {
   "cell_type": "code",
   "execution_count": 1,
   "id": "9cec1658",
   "metadata": {},
   "outputs": [
    {
     "name": "stdout",
     "output_type": "stream",
     "text": [
      "2\n",
      "n is even\n"
     ]
    }
   ],
   "source": [
    "n=int(input()) \n",
    "if n%2==0:\n",
    "   print(\"n is even\")\n",
    "else:\n",
    "   print(\"n is odd\")"
   ]
  },
  {
   "cell_type": "code",
   "execution_count": 2,
   "id": "639fe634",
   "metadata": {},
   "outputs": [
    {
     "name": "stdout",
     "output_type": "stream",
     "text": [
      "a\n",
      "word is vowel\n"
     ]
    }
   ],
   "source": [
    "word=input()\n",
    "if word == \"a\" or \"e\" or \"i\" or \"o\" or \"u\":\n",
    "    print(\"word is vowel\")\n",
    "else:\n",
    "    print(\"word is consonant\")\n",
    "    "
   ]
  },
  {
   "cell_type": "code",
   "execution_count": 4,
   "id": "e5e9964d",
   "metadata": {
    "scrolled": true
   },
   "outputs": [
    {
     "name": "stdout",
     "output_type": "stream",
     "text": [
      "1\n",
      "2\n",
      "3\n",
      "a is not biggest\n"
     ]
    }
   ],
   "source": [
    "a=int(input())\n",
    "b=int(input())\n",
    "c=int(input())\n",
    "if a>b and a>c:\n",
    "    print(\"a is biggest\")\n",
    "else:\n",
    "    print(\"a is not biggest\")"
   ]
  },
  {
   "cell_type": "code",
   "execution_count": null,
   "id": "104d3b62",
   "metadata": {},
   "outputs": [],
   "source": [
    "x= 5\n",
    "if x < 6:\n",
    "    print(\"Hello\")\n",
    "if x == 5:\n",
    "    print(\"Hi\")\n",
    "else:\n",
    "    print(\"Hey\")"
   ]
  },
  {
   "cell_type": "code",
   "execution_count": null,
   "id": "58a48cd6",
   "metadata": {},
   "outputs": [],
   "source": [
    "n=int(input())\n",
    "if n>0:\n",
    "   print(\"positive\")\n",
    "elif n<0:\n",
    "   print(\"negative\")\n",
    "else:\n",
    "   print(\"zero\") "
   ]
  },
  {
   "cell_type": "code",
   "execution_count": null,
   "id": "2bdf3349",
   "metadata": {},
   "outputs": [],
   "source": [
    "if (10 < 0) and (0 < -10):\n",
    "     print(\"A\")\n",
    "elif (10 > 0) or False:\n",
    "     print(\"B\")\n",
    "else:\n",
    "    print(\"C\")\n"
   ]
  },
  {
   "cell_type": "code",
   "execution_count": null,
   "id": "a486cd4f",
   "metadata": {},
   "outputs": [],
   "source": [
    "a=int(input())\n",
    "b=int(input())\n",
    "c=int(input())\n",
    "if (a>=b) and (a>=c):\n",
    "    print(\"a is greatest\")\n",
    "elif (b>=a) and (b>=c):\n",
    "    print(\"b is greatest\")\n",
    "else:\n",
    "    print(\"c is greatest\")"
   ]
  },
  {
   "cell_type": "code",
   "execution_count": null,
   "id": "36aabc4c",
   "metadata": {},
   "outputs": [],
   "source": [
    "a=input()\n",
    "b=input()\n",
    "a==b"
   ]
  },
  {
   "cell_type": "code",
   "execution_count": null,
   "id": "3fc39d86",
   "metadata": {},
   "outputs": [],
   "source": [
    "n=int(input())\n",
    "count=1\n",
    "sum=0\n",
    "while count<=n:\n",
    "      sum=sum + count\n",
    "      count=count+1\n",
    "print(sum)"
   ]
  },
  {
   "cell_type": "code",
   "execution_count": null,
   "id": "16219cc5",
   "metadata": {},
   "outputs": [],
   "source": [
    "n=int(input())\n",
    "count=0\n",
    "sum=0\n",
    "while count<=n:\n",
    "      sum=sum+count\n",
    "      count=count+2\n",
    "print(sum)    "
   ]
  },
  {
   "cell_type": "code",
   "execution_count": null,
   "id": "ed2186d3",
   "metadata": {},
   "outputs": [],
   "source": [
    "i=0\n",
    "while i<10:\n",
    "    print(i)\n",
    "    i=i+1"
   ]
  },
  {
   "cell_type": "code",
   "execution_count": null,
   "id": "bb8b843f",
   "metadata": {},
   "outputs": [],
   "source": [
    "S=int(input())\n",
    "E=int(input())\n",
    "W=int(input())\n",
    "C=0\n",
    "while S<=E:\n",
    "    C=(S-32)*5/9\n",
    "    print(S ,end=' ')\n",
    "    print(int(C))\n",
    "    S=S+W    "
   ]
  },
  {
   "cell_type": "code",
   "execution_count": null,
   "id": "b987cd92",
   "metadata": {},
   "outputs": [],
   "source": [
    "n=list(input())\n",
    "print(n[0])\n",
    "a=len(list(n))\n",
    "print(n[a-1])"
   ]
  },
  {
   "cell_type": "code",
   "execution_count": null,
   "id": "fe3683f6",
   "metadata": {},
   "outputs": [],
   "source": [
    "marks=int(input())\n",
    "if marks>=90:\n",
    "    print(\"A\")\n",
    "elif 90>marks>=80:\n",
    "    print(\"B\")\n",
    "elif 80>marks>=70:\n",
    "    print(\"C\")\n",
    "elif 70>marks>=60:\n",
    "    print(\"D\")\n",
    "else:\n",
    "    print(\"Fail\")"
   ]
  },
  {
   "cell_type": "code",
   "execution_count": null,
   "id": "c1142ec3",
   "metadata": {},
   "outputs": [],
   "source": [
    "x=10\n",
    "for i in range(1,x+1):\n",
    "    if i%2==0:\n",
    "        print(i)"
   ]
  },
  {
   "cell_type": "code",
   "execution_count": null,
   "id": "a4aec343",
   "metadata": {},
   "outputs": [],
   "source": [
    "x=10\n",
    "sum=0\n",
    "for i in range(1,x+1):\n",
    "    sum=sum+i\n",
    "print(sum)    "
   ]
  },
  {
   "cell_type": "code",
   "execution_count": null,
   "id": "fd2f5c3d",
   "metadata": {
    "scrolled": true
   },
   "outputs": [],
   "source": [
    "while n>0:\n",
    "    n=int(input())\n",
    "    if n==1:\n",
    "        a=int(input())\n",
    "        b=int(input())\n",
    "        c=a+b\n",
    "        print(c)\n",
    "    elif n==2:\n",
    "        a=int(input())\n",
    "        b=int(input())\n",
    "        c=a-b\n",
    "        print(c)\n",
    "    elif n==3:\n",
    "        a=int(input())\n",
    "        b=int(input())\n",
    "        c=a*b\n",
    "        print(c)  \n",
    "    elif n==4:\n",
    "        a=int(input())\n",
    "        b=int(input())\n",
    "        c=a/b\n",
    "        print(c)\n",
    "    elif n==5:\n",
    "        a=int(input())\n",
    "        b=int(input())\n",
    "        c=a%b\n",
    "        print(c)\n",
    "    elif n==6:\n",
    "        print(\"\")\n",
    "        break\n",
    "    else:\n",
    "        print(\"Invalid operation\")"
   ]
  },
  {
   "cell_type": "code",
   "execution_count": null,
   "id": "9c9ecf47",
   "metadata": {},
   "outputs": [],
   "source": [
    "n=342\n",
    "sum1=0\n",
    "sum2=0\n",
    "d=int(i)\n",
    "\n",
    "if d%2==0:\n",
    "        sum1=sum1+i\n",
    "elif d%2!=0:\n",
    "        sum2=sum2+i\n",
    "print(sum1)\n",
    "print(sum2)"
   ]
  },
  {
   "cell_type": "code",
   "execution_count": null,
   "id": "500c7323",
   "metadata": {},
   "outputs": [],
   "source": [
    "n=int(input())\n",
    "i=1\n",
    "while i<=n:\n",
    "    j=1\n",
    "    while j<=n:\n",
    "        print(n,end(''))\n",
    "        j=j+1\n",
    "    print('')\n",
    "    i=i+1"
   ]
  },
  {
   "cell_type": "code",
   "execution_count": null,
   "id": "18a1e98f",
   "metadata": {},
   "outputs": [],
   "source": [
    "n=int(input())\n",
    "i=1\n",
    "while i<=n:\n",
    "    j=1\n",
    "    while j<=i:\n",
    "        print(\"*\",end=(''))\n",
    "        j=j+1\n",
    "    print('')\n",
    "    i=i+1\n",
    "        "
   ]
  },
  {
   "cell_type": "code",
   "execution_count": null,
   "id": "2aff26ed",
   "metadata": {},
   "outputs": [],
   "source": [
    "n=int(input())\n",
    "i=n\n",
    "while i>0:\n",
    "    j=1\n",
    "    while j<=i:\n",
    "        print(j,end=(''))\n",
    "        j=j+1\n",
    "    print('')\n",
    "    i=i-1\n",
    "        "
   ]
  },
  {
   "cell_type": "code",
   "execution_count": null,
   "id": "b0886959",
   "metadata": {},
   "outputs": [],
   "source": [
    "n=int(input())\n",
    "i=1\n",
    "while i<=n:\n",
    "    j=1\n",
    "    while j<=i:\n",
    "        print(i-j+1,end=(''))\n",
    "        j=j+1\n",
    "    print('')\n",
    "    i=i+1"
   ]
  },
  {
   "cell_type": "code",
   "execution_count": null,
   "id": "224d6429",
   "metadata": {},
   "outputs": [],
   "source": [
    "n=int(input())\n",
    "i=1\n",
    "\n",
    "while i<=n:\n",
    "    j=1\n",
    "    start_char=chr(ord('A')+i-1)\n",
    "    while j<=i:\n",
    "        char_p=chr(ord(start_char)+j-1)\n",
    "        print(char_p,end='')\n",
    "        j=j+1\n",
    "    print()\n",
    "    i=i+1"
   ]
  },
  {
   "cell_type": "code",
   "execution_count": null,
   "id": "354ddd85",
   "metadata": {},
   "outputs": [],
   "source": [
    "n=int(input())\n",
    "i=1\n",
    "\n",
    "while i<=n:\n",
    "    j=1\n",
    "    start_char=chr(ord('A')+n-i)\n",
    "    while j<=i:\n",
    "        char_p=chr(ord(start_char)+j-1)\n",
    "        print(char_p,end='')\n",
    "        j=j+1\n",
    "    print()\n",
    "    i=i+1"
   ]
  },
  {
   "cell_type": "code",
   "execution_count": null,
   "id": "02b97201",
   "metadata": {},
   "outputs": [],
   "source": [
    "n=int(input())\n",
    "i=1\n",
    "\n",
    "while i<=n:\n",
    "    j=1\n",
    "    start_char=chr(ord('A')+i-1)\n",
    "    while j<=i:\n",
    "        print(start_char,end='')\n",
    "        j=j+1\n",
    "    print()\n",
    "    i=i+1"
   ]
  },
  {
   "cell_type": "code",
   "execution_count": null,
   "id": "22d95a4e",
   "metadata": {},
   "outputs": [],
   "source": [
    "n=int(input())\n",
    "i=1\n",
    "while i<=n:\n",
    "    j=1\n",
    "    while j<=n-i+1:\n",
    "        print(n-i+1,end=(''))\n",
    "        j=j+1\n",
    "    print('')\n",
    "    i=i+1"
   ]
  },
  {
   "cell_type": "code",
   "execution_count": null,
   "id": "4c61a435",
   "metadata": {},
   "outputs": [],
   "source": [
    "n=int(input())\n",
    "i=1\n",
    "while i<=n:\n",
    "    spaces=1\n",
    "    while spaces<=n-i:\n",
    "        print(' ',end='')\n",
    "        spaces=spaces+1\n",
    "    no=1\n",
    "    while no<=i:\n",
    "        print(no,end='')\n",
    "        no=no+1\n",
    "    print('')\n",
    "    i=i+1\n",
    "        "
   ]
  },
  {
   "cell_type": "code",
   "execution_count": null,
   "id": "40f32773",
   "metadata": {},
   "outputs": [],
   "source": [
    "n=int(input())\n",
    "i=1\n",
    "while i<=n:\n",
    "    spaces=1\n",
    "    while spaces<=n-i:\n",
    "        print(' ',end='')\n",
    "        spaces=spaces+1\n",
    "    j=1\n",
    "    while j<=i:\n",
    "        print(\"*\",end='')\n",
    "        j=j+1\n",
    "    j=i-1\n",
    "    while j>=1:\n",
    "        print(\"*\",end='')\n",
    "        j=j-1\n",
    "    print('')\n",
    "    i=i+1"
   ]
  },
  {
   "cell_type": "code",
   "execution_count": null,
   "id": "6d9ab110",
   "metadata": {},
   "outputs": [],
   "source": [
    "n=int(input())\n",
    "i=1\n",
    "while i<=n:\n",
    "    spaces=1\n",
    "    while spaces<=n-i:\n",
    "        print(' ',end='')\n",
    "        spaces=spaces+1\n",
    "    j=1\n",
    "    p=1\n",
    "    while j<=i:\n",
    "        print(p+i-1,end='')\n",
    "        j=j+1\n",
    "        p=p+1\n",
    "\n",
    "    while p>=1:\n",
    "        print(p,end='')\n",
    "        p=p-1\n",
    "    print('')\n",
    "    i=i+1"
   ]
  },
  {
   "cell_type": "markdown",
   "id": "be64e5f8",
   "metadata": {},
   "source": [
    "sum of digits"
   ]
  },
  {
   "cell_type": "code",
   "execution_count": null,
   "id": "bb8be11f",
   "metadata": {},
   "outputs": [],
   "source": [
    "n=int(input())\n",
    "sum=0\n",
    "while n>0:\n",
    "    d=n%10\n",
    "    n=n//10\n",
    "    sum=sum+d\n",
    "print(sum)    "
   ]
  },
  {
   "cell_type": "code",
   "execution_count": null,
   "id": "87670cc6",
   "metadata": {},
   "outputs": [],
   "source": [
    "x=1\n",
    "sum=0\n",
    "while x<=10:\n",
    "    sum=sum+x\n",
    "    x=x+1\n",
    "print(sum)    "
   ]
  },
  {
   "cell_type": "code",
   "execution_count": null,
   "id": "c6a8beea",
   "metadata": {},
   "outputs": [],
   "source": [
    "n=int(input())\n",
    "i=n\n",
    "fact=1\n",
    "while i>0:\n",
    "    \n",
    "    fact=fact*i\n",
    "    i=i-1\n",
    "print(fact)    "
   ]
  },
  {
   "cell_type": "code",
   "execution_count": null,
   "id": "9f2142e4",
   "metadata": {},
   "outputs": [],
   "source": [
    "n=int(input())\n",
    "i=n\n",
    "fact=1\n",
    "while i>0:\n",
    "\n",
    "        fact=fact*i\n",
    "        i=i-1\n",
    "print(fact)    "
   ]
  },
  {
   "cell_type": "code",
   "execution_count": null,
   "id": "f58fe17d",
   "metadata": {},
   "outputs": [],
   "source": [
    "chr(0xfeb2)"
   ]
  },
  {
   "cell_type": "code",
   "execution_count": null,
   "id": "c77425ea",
   "metadata": {},
   "outputs": [],
   "source": [
    "n=int(input())\n",
    "sum=1\n",
    "for i in range(n):\n",
    "    sum=sum+i\n",
    "print(sum)    "
   ]
  },
  {
   "cell_type": "code",
   "execution_count": null,
   "id": "ac3387d3",
   "metadata": {},
   "outputs": [],
   "source": [
    "i=1\n",
    "while i<5:\n",
    "    if i==3:\n",
    "        break\n",
    "    print(i,end=\" \")\n",
    "    i = i +1"
   ]
  },
  {
   "cell_type": "code",
   "execution_count": null,
   "id": "de5a1dac",
   "metadata": {},
   "outputs": [],
   "source": [
    "n=int(input())\n",
    "a=0\n",
    "b=1\n",
    "sum=0\n",
    "count=0\n",
    "while count<=n:\n",
    "    count+=1\n",
    "    a=b\n",
    "    b=sum\n",
    "    sum=a+b\n",
    "print(b)    "
   ]
  },
  {
   "cell_type": "code",
   "execution_count": null,
   "id": "35572af7",
   "metadata": {
    "scrolled": true
   },
   "outputs": [],
   "source": [
    "li = ['abcd',5,'def',5]\n",
    "li.remove(5)\n",
    "print(li)"
   ]
  },
  {
   "cell_type": "code",
   "execution_count": null,
   "id": "9f8f1456",
   "metadata": {},
   "outputs": [],
   "source": [
    "n=int(input())\n",
    "i=1\n",
    "while i<=n:\n",
    "    j=1\n",
    "    while j<=i:\n",
    "        if i==j==1:\n",
    "            print('1',end='')\n",
    "        elif j==1:\n",
    "            print('1',end='')\n",
    "        elif i==j:\n",
    "            print('1',end='')\n",
    "        else:\n",
    "            print('2',end='')\n",
    "        j=j+1\n",
    "    print('')\n",
    "    i=i+1"
   ]
  },
  {
   "cell_type": "code",
   "execution_count": null,
   "id": "d7da1b96",
   "metadata": {},
   "outputs": [],
   "source": [
    "n=int(input())\n",
    "i=1\n",
    "while i<=n:\n",
    "    spaces=1\n",
    "    while spaces<=n-i:\n",
    "        print(' ',end='')\n",
    "        spaces=spaces+1\n",
    "    j=1\n",
    "    p=1\n",
    "    while j<=i:\n",
    "        print(p+i-1,end='')\n",
    "        j=j+1\n",
    "        p=p-1\n",
    "    j=i-1\n",
    "    p=i-1\n",
    "\n",
    "    while p<=i:\n",
    "        print(p+i-1,end='')\n",
    "        p=p+1\n",
    "    print('')\n",
    "    i=i+1"
   ]
  },
  {
   "cell_type": "code",
   "execution_count": null,
   "id": "0a589f7d",
   "metadata": {},
   "outputs": [],
   "source": [
    "n=int(input())\n",
    "i=1\n",
    "if n%2==0:\n",
    "    print()\n",
    "else:    \n",
    "    while i<=(n//2)+1:\n",
    "        spaces=1\n",
    "        while spaces<=n-i:\n",
    "            print(' ',end='')\n",
    "            spaces=spaces+1\n",
    "        j=1\n",
    "        while j<=i:\n",
    "            print(\"*\",end='')\n",
    "            j=j+1\n",
    "        j=i-1\n",
    "        while j>=1:\n",
    "            print(\"*\",end='')\n",
    "            j=j-1\n",
    "        print('')\n",
    "        i=i+1\n",
    "    while i<=n-((n//2)+1):\n",
    "        spaces=1\n",
    "        while spaces<=n-i:\n",
    "            print(' ',end='')\n",
    "            spaces=spaces+1\n",
    "        j=1\n",
    "        while j<=i:\n",
    "            print(\"*\",end='')\n",
    "            j=j+1\n",
    "        j=i-1\n",
    "        while j>=1:\n",
    "            print(\"*\",end='')\n",
    "            j=j-1\n",
    "        print('')\n",
    "        i=i+1\n",
    "            "
   ]
  },
  {
   "cell_type": "code",
   "execution_count": null,
   "id": "7d23bab9",
   "metadata": {},
   "outputs": [],
   "source": [
    "n=int(input())\n",
    "k=2\n",
    "count=0\n",
    "i=1\n",
    "while k<=n:\n",
    "    while i<=k:\n",
    "        if k%i==0:\n",
    "            count=count+1\n",
    "            \n",
    "        i=i+1\n",
    "    if count==2:\n",
    "        print(k)\n",
    "    k=k+1  "
   ]
  },
  {
   "cell_type": "code",
   "execution_count": null,
   "id": "f3639a12",
   "metadata": {},
   "outputs": [],
   "source": [
    "def func(a):\n",
    "    a = a + 10\n",
    "    return a\n",
    "a = 5\n",
    "func(a)\n",
    "print(a)"
   ]
  },
  {
   "cell_type": "code",
   "execution_count": null,
   "id": "a684543a",
   "metadata": {},
   "outputs": [],
   "source": [
    "#sum of digit\n",
    "n=int(input())\n",
    "sum=0\n",
    "while n>0:\n",
    "    digit=n%10\n",
    "    sum+=digit\n",
    "    n=n//10\n",
    "print(sum)"
   ]
  },
  {
   "cell_type": "code",
   "execution_count": null,
   "id": "aaa7e759",
   "metadata": {},
   "outputs": [],
   "source": [
    "n=int(input())\n",
    "a=0\n",
    "b=1\n",
    "sum=0\n",
    "count=0\n",
    "while count<=n:\n",
    "    \n",
    "    count+=1\n",
    "    \n",
    "    a=b\n",
    "    b=sum\n",
    "    print(sum,end=' ')   \n",
    "    sum=a+b\n",
    "     "
   ]
  },
  {
   "cell_type": "code",
   "execution_count": null,
   "id": "caa4d624",
   "metadata": {},
   "outputs": [],
   "source": [
    "n=int(input())\n",
    "i=1\n",
    "while i<=n:\n",
    "    j=1\n",
    "    while j<=i:\n",
    "        print(i*j,end=' ')\n",
    "        j=j+1\n",
    "    i=i+1\n",
    "    print()"
   ]
  },
  {
   "cell_type": "code",
   "execution_count": null,
   "id": "306680f0",
   "metadata": {},
   "outputs": [],
   "source": [
    "n=int(input())\n",
    "i=1\n",
    "while i<=n:\n",
    "    spaces=1\n",
    "    while spaces<=n-i:\n",
    "        print(' ',end=' ')\n",
    "        spaces=spaces+1\n",
    "    j=1\n",
    "    while j<=i:\n",
    "        print(\"*\",end=' ')\n",
    "        j=j+1\n",
    "    j=i-1\n",
    "    while j>=1:\n",
    "        print(\"*\",end=' ')\n",
    "        j=j-1\n",
    "    print('')\n",
    "    i=i+1"
   ]
  },
  {
   "cell_type": "code",
   "execution_count": null,
   "id": "363a30ba",
   "metadata": {},
   "outputs": [],
   "source": [
    "def add(a,b):\n",
    "    c=a+b\n",
    "    print(c)\n",
    "def sub(a,b):\n",
    "    c=a-b\n",
    "    print(c)\n",
    "def mul(a,b):\n",
    "    c=a*b\n",
    "    print(c)\n",
    "def div(a,b):\n",
    "    c=a//b\n",
    "    print(c)\n",
    "def swap(a,b):\n",
    "    c=a\n",
    "    a=b\n",
    "    b=c\n",
    "    print(a,b)\n",
    "    "
   ]
  },
  {
   "cell_type": "code",
   "execution_count": null,
   "id": "550a57e7",
   "metadata": {
    "scrolled": true
   },
   "outputs": [],
   "source": [
    "while 1:\n",
    "    n=int(input())\n",
    "    if n==1:\n",
    "        add(12,13)\n",
    "    elif n==2:\n",
    "        sub(13,12)\n",
    "    elif n==3:\n",
    "        mul(2,3)\n",
    "    elif n==4:\n",
    "        div(12,3)\n",
    "    elif n==5:\n",
    "        swap(12,25)\n",
    "    elif n==6:\n",
    "        print(\"\")\n",
    "        break\n",
    "    else:\n",
    "        print(\"Invalid operation\")"
   ]
  },
  {
   "cell_type": "code",
   "execution_count": null,
   "id": "5022f14e",
   "metadata": {},
   "outputs": [],
   "source": [
    "def factorial(n):\n",
    "    i=n\n",
    "    fact=1\n",
    "    while i>=1:\n",
    "        fact=fact*i\n",
    "        i-=1\n",
    "    print(fact)    \n",
    "x=int(input()) \n",
    "factorial(x)"
   ]
  },
  {
   "cell_type": "code",
   "execution_count": null,
   "id": "858dfc18",
   "metadata": {},
   "outputs": [],
   "source": [
    "def even(n):\n",
    "    for i in range(0,n+1,2):\n",
    "        print(i)\n",
    "x=int(input())\n",
    "even(x)"
   ]
  },
  {
   "cell_type": "code",
   "execution_count": null,
   "id": "7fd17c1f",
   "metadata": {},
   "outputs": [],
   "source": [
    "def myfact(a):\n",
    "    i=a\n",
    "    fact=1\n",
    "    while i>=1:\n",
    "        fact=fact*i\n",
    "        i-=1\n",
    "    return fact\n",
    "def ncr(n,r):\n",
    "    b=int((myfact(n))//(myfact(r)*myfact(n-r)))\n",
    "    print(b)\n",
    "          \n",
    "x=int(input())\n",
    "y=int(input())\n",
    "ncr(x,y)    \n",
    "    "
   ]
  },
  {
   "cell_type": "code",
   "execution_count": null,
   "id": "cd35d7ba",
   "metadata": {},
   "outputs": [],
   "source": [
    "#rev of a no\n",
    "def rev(a):\n",
    "    revnum=0\n",
    "    while a>0:\n",
    "        rem=a%10\n",
    "        revnum=revnum*10+rem\n",
    "        a=a//10\n",
    "    print(revnum) \n",
    "x=int(input())\n",
    "rev(x)\n",
    "    \n",
    "        "
   ]
  },
  {
   "cell_type": "code",
   "execution_count": null,
   "id": "a70209b0",
   "metadata": {},
   "outputs": [],
   "source": [
    "#rev of a string\n",
    "def revs(a):\n",
    "    b=a[::-1]\n",
    "    print(b)\n",
    "x=input()\n",
    "revs(x)"
   ]
  },
  {
   "cell_type": "code",
   "execution_count": 6,
   "id": "152e1d6b",
   "metadata": {},
   "outputs": [
    {
     "name": "stdout",
     "output_type": "stream",
     "text": [
      "5\n",
      "   *\n"
     ]
    },
    {
     "ename": "KeyboardInterrupt",
     "evalue": "",
     "output_type": "error",
     "traceback": [
      "\u001b[1;31m---------------------------------------------------------------------------\u001b[0m",
      "\u001b[1;31mKeyboardInterrupt\u001b[0m                         Traceback (most recent call last)",
      "Input \u001b[1;32mIn [6]\u001b[0m, in \u001b[0;36m<cell line: 3>\u001b[1;34m()\u001b[0m\n\u001b[0;32m     17\u001b[0m i\u001b[38;5;241m=\u001b[39mi\u001b[38;5;241m+\u001b[39m\u001b[38;5;241m1\u001b[39m  \n\u001b[0;32m     18\u001b[0m \u001b[38;5;28;01mwhile\u001b[39;00m i\u001b[38;5;241m<\u001b[39m\u001b[38;5;241m=\u001b[39mn\u001b[38;5;241m-\u001b[39m((n\u001b[38;5;241m/\u001b[39m\u001b[38;5;241m/\u001b[39m\u001b[38;5;241m2\u001b[39m)\u001b[38;5;241m+\u001b[39m\u001b[38;5;241m1\u001b[39m):\n\u001b[1;32m---> 19\u001b[0m      spaces\u001b[38;5;241m=\u001b[39m\u001b[38;5;241m1\u001b[39m\n\u001b[0;32m     20\u001b[0m \u001b[38;5;28;01mwhile\u001b[39;00m spaces\u001b[38;5;241m<\u001b[39m\u001b[38;5;241m=\u001b[39mn\u001b[38;5;241m-\u001b[39mi:\n\u001b[0;32m     21\u001b[0m     \u001b[38;5;28mprint\u001b[39m(\u001b[38;5;124m'\u001b[39m\u001b[38;5;124m \u001b[39m\u001b[38;5;124m'\u001b[39m,end\u001b[38;5;241m=\u001b[39m\u001b[38;5;124m'\u001b[39m\u001b[38;5;124m'\u001b[39m)\n",
      "\u001b[1;31mKeyboardInterrupt\u001b[0m: "
     ]
    }
   ],
   "source": [
    "n=int(input())\n",
    "i=1   \n",
    "while i<=(n//2)+1:\n",
    "    spaces=1\n",
    "    while spaces<=n-2*i:\n",
    "        print(' ',end='')\n",
    "        spaces=spaces+1\n",
    "    j=1\n",
    "    while j<=i:\n",
    "        print(\"*\",end='')\n",
    "        j=j+1\n",
    "    j=i-1\n",
    "    while j>=1:\n",
    "        print(\"*\",end='')\n",
    "        j=j-1\n",
    "    print('')\n",
    "    i=i+1  \n",
    "    while i<=n-((n//2)+1):\n",
    "         spaces=1\n",
    "    while spaces<=n-i:\n",
    "        print(' ',end='')\n",
    "        spaces=spaces+1\n",
    "    j=1\n",
    "    while j<=i:\n",
    "        print(\"*\",end='')\n",
    "        j=j+1\n",
    "    j=i-1\n",
    "    while j>=1:\n",
    "        print(\"*\",end='')\n",
    "        j=j-1\n",
    "    print('')\n",
    "    i=i+1\n",
    "    n=n//2+2\n",
    "    i=1\n",
    "    while i<=n:\n",
    "        spaces=1\n",
    "        while spaces<=i:\n",
    "            print(' ',end='')\n",
    "            spaces=spaces+1\n",
    "        j=1\n",
    "        while j<=n-i:\n",
    "            print(\"*\",end='')\n",
    "            j=j+1\n",
    "        print('')\n",
    "        i=i+2"
   ]
  },
  {
   "cell_type": "code",
   "execution_count": null,
   "id": "c46e85bc",
   "metadata": {},
   "outputs": [],
   "source": [
    "n=int(input())\n",
    "i=1\n",
    "while i<=n:\n",
    "    j=1\n",
    "    while j<=i:\n",
    "        print(j,end=(''))\n",
    "        j=j+1\n",
    "    print('')\n",
    "    i=i+1"
   ]
  },
  {
   "cell_type": "code",
   "execution_count": null,
   "id": "a62785af",
   "metadata": {
    "scrolled": true
   },
   "outputs": [],
   "source": [
    "5//2"
   ]
  },
  {
   "cell_type": "code",
   "execution_count": 21,
   "id": "223aa7e2",
   "metadata": {},
   "outputs": [
    {
     "name": "stdout",
     "output_type": "stream",
     "text": [
      "5\n",
      "* \n",
      " * * \n",
      "  * * * \n",
      " * * \n",
      "* \n"
     ]
    }
   ],
   "source": [
    "n = int(input())\n",
    "firstHalf = (n + 1) // 2\n",
    "secondHalf = n // 2\n",
    "#First Half\n",
    "currRow = 1 \n",
    "while currRow <= firstHalf:\n",
    "    spaces = 1 \n",
    "    while spaces < (currRow) :\n",
    "        print(\" \", end = \"\")\n",
    "        spaces += 1\n",
    "    currCol = 1\n",
    "    while currCol <=currRow :\n",
    "        print(\"*\", end = \" \")\n",
    "        currCol += 1\n",
    "        \n",
    "    print()\n",
    "    currRow += 1\n",
    "#Second Half \n",
    "currRow = 1\n",
    "while currRow <=secondHalf:\n",
    "    spaces = (secondHalf - currRow )\n",
    "    while spaces >=1  :\n",
    "        print(\" \", end = \"\") \n",
    "        spaces -= 1\n",
    "    currCol = 1 \n",
    "    while currCol <=secondHalf - currRow+1  :\n",
    "        print(\"*\", end = \" \") \n",
    "        currCol += 1\n",
    "    \n",
    "    print()\n",
    "    currRow += 1"
   ]
  },
  {
   "cell_type": "code",
   "execution_count": null,
   "id": "7f5df40f",
   "metadata": {},
   "outputs": [],
   "source": [
    "n=int(input())\n",
    "i=1\n",
    "while i<=n:\n",
    "    j=1\n",
    "    while j<=i:\n",
    "        print(j,end='')\n",
    "        j=j+1\n",
    "        spaces=1\n",
    "    while spaces<=2*(n-i):\n",
    "        print(' ',end='')\n",
    "        spaces+=1\n",
    "    j=i\n",
    "    while j>=1:\n",
    "        print(j,end='')\n",
    "        j=j-1\n",
    "    print('')\n",
    "    i=i+1"
   ]
  },
  {
   "cell_type": "code",
   "execution_count": null,
   "id": "aeba4020",
   "metadata": {
    "scrolled": true
   },
   "outputs": [],
   "source": [
    "n=int(input())\n",
    "i=1\n",
    "while i<=n:\n",
    "    j=1\n",
    "    while j<=n*2+1:\n",
    "        if i==j:\n",
    "            print('*',end='')\n",
    "        elif j==n+1:\n",
    "            print('*',end='')\n",
    "        elif i==n*2+1-j+1:\n",
    "            print('*',end='')\n",
    "            \n",
    "        else:\n",
    "            print('0',end='')\n",
    "        j=j+1 \n",
    "    print('')\n",
    "    i=i+1    "
   ]
  },
  {
   "cell_type": "code",
   "execution_count": 20,
   "id": "5e79ff0b",
   "metadata": {},
   "outputs": [
    {
     "name": "stdout",
     "output_type": "stream",
     "text": [
      "5\n",
      "    1\n",
      "   212\n",
      "  32123\n",
      " 4321234\n",
      "543212345\n"
     ]
    }
   ],
   "source": [
    "n=int(input())\n",
    "i=1\n",
    "while i<=n:\n",
    "    spaces=1\n",
    "    while spaces<=n-i:\n",
    "        print(' ',end='')\n",
    "        spaces=spaces+1\n",
    "    no=1\n",
    "    while no<=i:\n",
    "        print(i-no+1,end='')\n",
    "        no=no+1\n",
    "    \n",
    "    no=2\n",
    "    while no<=i:\n",
    "        print(no,end='')\n",
    "        no=no+1\n",
    "    print('')  \n",
    "    i=i+1"
   ]
  },
  {
   "cell_type": "code",
   "execution_count": null,
   "id": "022d3897",
   "metadata": {},
   "outputs": [],
   "source": [
    "n=int(input())\n",
    "i=1\n",
    "while i<=n:\n",
    "    j=1\n",
    "    while j<=n-i+1:\n",
    "        if i%2==0:\n",
    "            print('0',end='')\n",
    "        else:\n",
    "            print('1',end='')\n",
    "        j=j+1\n",
    "    print('')\n",
    "    i=i+1"
   ]
  },
  {
   "cell_type": "code",
   "execution_count": null,
   "id": "0bffb4b3",
   "metadata": {},
   "outputs": [],
   "source": [
    "# palindrome  string\n",
    "def revs(a):\n",
    "    b=a[::-1]\n",
    "    if a==b:\n",
    "        print(b)\n",
    "    else:\n",
    "        print('not palindrome ')\n",
    "x=input()\n",
    "revs(x)"
   ]
  },
  {
   "cell_type": "code",
   "execution_count": null,
   "id": "b1f3b2fa",
   "metadata": {},
   "outputs": [],
   "source": [
    "def art(a,b):\n",
    "    ar=0.5*a*b\n",
    "    print(\"Area of triangle= \",ar)\n",
    "def arc(r):\n",
    "    ar=3.14*r*r\n",
    "    print(\"Area of circle= \",ar)\n",
    "def arr(a,b):\n",
    "    ar=a*b\n",
    "    print(\"Area of rectangle= \",ar)\n",
    "n=int(input('your choice'))\n",
    "if n==1:\n",
    "    a=int(input('height' ))\n",
    "    b=int(input('base' ))\n",
    "    art(a,b)\n",
    "elif n==2:\n",
    "    r=int(input('radius' ))\n",
    "    arc(r)\n",
    "elif n==3:\n",
    "    a=int(input('length' ))\n",
    "    b=int(input('breadth' ))\n",
    "    arr(a,b)\n",
    "else:\n",
    "    print(\"invalid\")"
   ]
  },
  {
   "cell_type": "code",
   "execution_count": null,
   "id": "07733235",
   "metadata": {},
   "outputs": [],
   "source": [
    "a=list(input())\n",
    "print(a)\n",
    "for i in range(0,len(a)):\n",
    "    b=a[i]\n",
    "    b=b**2\n",
    "print(b)    "
   ]
  },
  {
   "cell_type": "code",
   "execution_count": null,
   "id": "453c68ad",
   "metadata": {},
   "outputs": [],
   "source": [
    "n=int(input())\n",
    "a=n\n",
    "m=len(str(n))\n",
    "\n",
    "sum=0\n",
    "while n>0:\n",
    "    rem=n%10\n",
    "    digit=rem**m\n",
    "    sum=sum+digit\n",
    "    n=n//10\n",
    "if a==sum:\n",
    "    print(\"true\")\n",
    "else:\n",
    "    print('false')"
   ]
  },
  {
   "cell_type": "code",
   "execution_count": null,
   "id": "b73440c9",
   "metadata": {},
   "outputs": [],
   "source": [
    "def func(a):\n",
    "    a = a + 10\n",
    "    return a\n",
    "a = 5\n",
    "func(a)\n",
    "print(a)"
   ]
  },
  {
   "cell_type": "code",
   "execution_count": null,
   "id": "1c16beb1",
   "metadata": {},
   "outputs": [],
   "source": [
    "def square(a):\n",
    "    ans  = a*a\n",
    "    return  ans\n",
    "\n",
    "a = 4\n",
    "a = square(a)\n",
    "print(a)\n"
   ]
  },
  {
   "cell_type": "code",
   "execution_count": null,
   "id": "6ee30d41",
   "metadata": {},
   "outputs": [],
   "source": [
    "a = 14\n",
    "def f():\n",
    "    a=12\n",
    "f()\n",
    "print(a)\n"
   ]
  },
  {
   "cell_type": "code",
   "execution_count": null,
   "id": "3d239e99",
   "metadata": {},
   "outputs": [],
   "source": [
    "def rev(a):\n",
    "    m=a\n",
    "    revnum=0\n",
    "    while a>0:\n",
    "        rem=a%10\n",
    "        revnum=revnum*10+rem\n",
    "        a=a//10\n",
    "    if m==revnum:\n",
    "        print('True')\n",
    "    else:\n",
    "        print('False')\n",
    "x=int(input())\n",
    "rev(x)\n",
    "    "
   ]
  },
  {
   "cell_type": "code",
   "execution_count": null,
   "id": "e7fee0de",
   "metadata": {},
   "outputs": [],
   "source": [
    "i=1\n",
    "while i<3:\n",
    "    j=0\n",
    "    while j<5:\n",
    "        j = j +1\n",
    "        if j==3:\n",
    "            continue\n",
    "        print(j,end=\"\")\n",
    "    i = i +1\n"
   ]
  },
  {
   "cell_type": "code",
   "execution_count": null,
   "id": "511cb541",
   "metadata": {},
   "outputs": [],
   "source": [
    "n=int(input('start point '))\n",
    "o=int(input('end point '))\n",
    "for i in range(n,o+1):\n",
    "    if i%2 !=0:\n",
    "        print(i,end='  ')\n",
    "      "
   ]
  },
  {
   "cell_type": "code",
   "execution_count": null,
   "id": "cf744d64",
   "metadata": {},
   "outputs": [],
   "source": [
    "n=int(input())\n",
    "sum=0\n",
    "for i in range(1,n+1):\n",
    "    cube=i**3\n",
    "    sum=sum+cube\n",
    "print(sum)    "
   ]
  },
  {
   "cell_type": "code",
   "execution_count": null,
   "id": "5e4f6932",
   "metadata": {},
   "outputs": [],
   "source": [
    "n=int(input())\n",
    "sum=0\n",
    "a=n\n",
    "m=len(str(n))\n",
    "while n>0:\n",
    "    digit=n%10\n",
    "    sum=sum+digit**m\n",
    "    n=n//10\n",
    "print(sum) \n",
    "if a==sum:\n",
    "    print('armstrong no')\n",
    "else :\n",
    "    print('not armstrong no')"
   ]
  },
  {
   "cell_type": "code",
   "execution_count": null,
   "id": "0886b792",
   "metadata": {},
   "outputs": [],
   "source": [
    "s=int(input('start point '))\n",
    "a=int(input('end point '))\n",
    "\n",
    "for i in range(s,a+1):\n",
    "    count=0\n",
    "    for n in range(2,i):\n",
    "        if i%n==0:\n",
    "            count+=1\n",
    "    if count==0:\n",
    "        print(i)"
   ]
  },
  {
   "cell_type": "code",
   "execution_count": null,
   "id": "48c97ad5",
   "metadata": {},
   "outputs": [],
   "source": [
    "a=input(\"name \")\n",
    "b=int(input(\"age \"))\n",
    "c=input(\"university name \")\n",
    "print(\"My name is {}, age is {}, university is {}\".format(a,b,c))"
   ]
  },
  {
   "cell_type": "code",
   "execution_count": null,
   "id": "ca31302f",
   "metadata": {},
   "outputs": [],
   "source": [
    "a=100.0142555\n",
    "print(\"value {:.5f}\".format(a))"
   ]
  },
  {
   "cell_type": "code",
   "execution_count": null,
   "id": "8b8394d8",
   "metadata": {
    "scrolled": true
   },
   "outputs": [],
   "source": [
    "a=[1,2,3,4,5]\n",
    "b=[2,\"a\",[4,5],4]\n",
    "b[2]\n",
    "print(type(a))"
   ]
  },
  {
   "cell_type": "code",
   "execution_count": null,
   "id": "b724b262",
   "metadata": {},
   "outputs": [],
   "source": [
    "a=[1,2,3,4,5]\n",
    "a[1:4] "
   ]
  },
  {
   "cell_type": "code",
   "execution_count": null,
   "id": "6604f4df",
   "metadata": {},
   "outputs": [],
   "source": [
    "a=[1,2,3,4,5,'m']\n",
    "n=int(input('integer no to checked  '))\n",
    "if n in a:\n",
    "    print('exists')\n",
    "else:\n",
    "    print('not exists')\n",
    "n=input('string to be checked  ')\n",
    "if n in a:\n",
    "    print('exists')\n",
    "else:\n",
    "    print('not exists')"
   ]
  },
  {
   "cell_type": "code",
   "execution_count": null,
   "id": "b5054a4d",
   "metadata": {},
   "outputs": [],
   "source": [
    "a=[1,2,3,4,5,'m']\n",
    "if 'm' in a:\n",
    "    print('exists')\n",
    "else:\n",
    "    print('not exists')"
   ]
  },
  {
   "cell_type": "code",
   "execution_count": null,
   "id": "1e7d335a",
   "metadata": {},
   "outputs": [],
   "source": [
    "a=[54,6,1,8]\n",
    "a.insert(2,'m')\n",
    "a"
   ]
  },
  {
   "cell_type": "code",
   "execution_count": null,
   "id": "d75a69e9",
   "metadata": {},
   "outputs": [],
   "source": [
    "a=[1,2,3,4,5]\n",
    "b=[6,7,8,9]\n",
    "a.extend(b)\n",
    "a"
   ]
  },
  {
   "cell_type": "code",
   "execution_count": null,
   "id": "3c305672",
   "metadata": {},
   "outputs": [],
   "source": [
    "n=list(input())\n",
    "print(n)\n",
    "sum=0\n",
    "for i in range(0,len(n)):\n",
    "    sum=sum+a[i]\n",
    "print(sum)    \n",
    "    "
   ]
  },
  {
   "cell_type": "code",
   "execution_count": null,
   "id": "e208db3b",
   "metadata": {},
   "outputs": [],
   "source": [
    "#wapp check element exist in list or not\n",
    "a=list(input())\n",
    "print(a)\n",
    "n=input('string to be checked  ')\n",
    "flag=False\n",
    "for i in range(0,len(a)):\n",
    "    if a[i]==n:\n",
    "        flag=True\n",
    "if flag:\n",
    "    print('exists')\n",
    "else:\n",
    "    print('not exists')"
   ]
  },
  {
   "cell_type": "code",
   "execution_count": null,
   "id": "f50fb5e8",
   "metadata": {
    "scrolled": true
   },
   "outputs": [],
   "source": [
    "#wapp interchange 1st & last element in a list\n",
    "n=list(input())\n",
    "print(n)\n",
    "n[0],n[-1]=n[-1],n[0]\n",
    "print(n)"
   ]
  },
  {
   "cell_type": "code",
   "execution_count": null,
   "id": "29351cba",
   "metadata": {},
   "outputs": [],
   "source": [
    "n=list(input())\n",
    "print(n)\n",
    "a=int(input())\n",
    "b=int(input())\n",
    "n[a],n[b]=n[b],n[a]\n",
    "print(n)"
   ]
  },
  {
   "cell_type": "code",
   "execution_count": null,
   "id": "815df380",
   "metadata": {},
   "outputs": [],
   "source": [
    "#wapp print duplicates from list of integers\n",
    "n=list(input())\n",
    "b=[]\n",
    "for i in range(0,len(n)):\n",
    "    \n",
    "    for a in range(i+1,len(n)):\n",
    "        if n[i]==n[a]:\n",
    "            b.append(n[i])\n",
    "print(b)            "
   ]
  },
  {
   "cell_type": "code",
   "execution_count": 19,
   "id": "2efb0de7",
   "metadata": {},
   "outputs": [
    {
     "name": "stdout",
     "output_type": "stream",
     "text": [
      "5\n",
      "12345\n",
      " 2345\n",
      "  345\n",
      "   45\n",
      "    5\n",
      "   45\n",
      "  345\n",
      " 2345\n",
      "12345\n"
     ]
    }
   ],
   "source": [
    "n=int(input())\n",
    "#first half\n",
    "\n",
    "for i in range(1,n+1):\n",
    "    for spaces in range(1,i):\n",
    "        print(' ',end='')\n",
    "    for j in range(n-i+1,0,-1):\n",
    "        print(n-j+1,end=\"\")\n",
    "    print('')    \n",
    "    \n",
    "#second half\n",
    "for i in range(1,n):\n",
    "    for spaces in range(n-i,1,-1):\n",
    "        print(' ',end='')\n",
    "    for j in range(0,i+1):\n",
    "        print(n-i+j,end='')\n",
    "    print('')    \n",
    "        "
   ]
  },
  {
   "cell_type": "code",
   "execution_count": null,
   "id": "ef366ced",
   "metadata": {},
   "outputs": [],
   "source": [
    "n=int(input())\n",
    "chars=2*n\n",
    "for i in range(1,chars):\n",
    "    k=n\n",
    "    for j in range(1,chars):\n",
    "        print(k,end='')\n",
    "        if j<i:\n",
    "            k=k-1\n",
    "        if j>=2*n-i:\n",
    "            k=k+1\n",
    "    print('')        "
   ]
  },
  {
   "cell_type": "code",
   "execution_count": null,
   "id": "e6b421e7",
   "metadata": {},
   "outputs": [],
   "source": [
    "a=int(input('start pt '))\n",
    "b=int(input('end point '))\n",
    "for i in range(a,b+1):\n",
    "    if i%2!=0:\n",
    "        print(i)"
   ]
  },
  {
   "cell_type": "code",
   "execution_count": null,
   "id": "81bc60dd",
   "metadata": {},
   "outputs": [],
   "source": [
    "#largest element in a list \n",
    "n=list(input())\n",
    "print(n)\n",
    "l=n[0]\n",
    "for i in range(0,len(n)):\n",
    "    if n[i]>l:\n",
    "        l=n[i]\n",
    "print(l)        \n",
    "        "
   ]
  },
  {
   "cell_type": "code",
   "execution_count": null,
   "id": "a30ec3ee",
   "metadata": {},
   "outputs": [],
   "source": [
    "n=list(input())\n",
    "print(n)\n",
    "l=n[0]\n",
    "b=n[0]\n",
    "for i in range(0,len(n)):\n",
    "    if n[i]>l:\n",
    "        l=n[i]\n",
    "for i in range(0,len(n)):\n",
    "    if l>n[i]>b:\n",
    "        b=n[i]\n",
    "print(b)        \n",
    "        \n",
    "        \n"
   ]
  },
  {
   "cell_type": "code",
   "execution_count": null,
   "id": "4445318c",
   "metadata": {},
   "outputs": [],
   "source": [
    "n=list(input())\n",
    "n.sort()\n",
    "print(n[-2])"
   ]
  },
  {
   "cell_type": "code",
   "execution_count": null,
   "id": "b8f11f43",
   "metadata": {},
   "outputs": [],
   "source": [
    "n=int(input())\n",
    "for i in range(1,n+1):\n",
    "    for j in range(1,i+1):\n",
    "        print('*',end=' ')\n",
    "    print()    "
   ]
  },
  {
   "cell_type": "code",
   "execution_count": null,
   "id": "a8188d0f",
   "metadata": {},
   "outputs": [],
   "source": [
    "n=int(input())\n",
    "for i in range(1,n+1):\n",
    "    for j in range(1,i+1):\n",
    "        print(i,end=' ')\n",
    "    print()    "
   ]
  },
  {
   "cell_type": "code",
   "execution_count": null,
   "id": "f066d9e4",
   "metadata": {},
   "outputs": [],
   "source": [
    "n=int(input())\n",
    "for i in range(1,n+1):\n",
    "    for spaces in range(1,n-i+1):\n",
    "        print(' ',end='')\n",
    "    for j in range(1,i+1):\n",
    "        print(i,end='')\n",
    "    print()    "
   ]
  },
  {
   "cell_type": "code",
   "execution_count": 17,
   "id": "19804afe",
   "metadata": {},
   "outputs": [
    {
     "name": "stdout",
     "output_type": "stream",
     "text": [
      "5\n",
      "    1 \n",
      "   2 3 \n",
      "  4 5 6 \n",
      " 7 8 9 10 \n",
      "11 12 13 14 15 \n"
     ]
    }
   ],
   "source": [
    "# equilateral triangle\n",
    "n=int(input())\n",
    "start_pt=1\n",
    "for i in range(1,n+1):\n",
    "    for spaces in range(1,n-i+1):\n",
    "        print(' ',end='')\n",
    "    for j in range(1,i+1):\n",
    "        print(start_pt,end=' ')\n",
    "        start_pt+=1\n",
    "    print()    "
   ]
  },
  {
   "cell_type": "code",
   "execution_count": 14,
   "id": "619a4118",
   "metadata": {},
   "outputs": [
    {
     "name": "stdout",
     "output_type": "stream",
     "text": [
      "5\n",
      "5432*\n",
      "543*1\n",
      "54*21\n",
      "5*321\n",
      "*4321\n"
     ]
    }
   ],
   "source": [
    "n=int(input())\n",
    "for i in range(1,n+1):\n",
    "    for j in range(1,n+1):\n",
    "        if i==n-j+1:\n",
    "            print('*',end='')\n",
    "        else:\n",
    "            print(n-j+1,end='')\n",
    "    print()        "
   ]
  },
  {
   "cell_type": "code",
   "execution_count": null,
   "id": "80443303",
   "metadata": {},
   "outputs": [],
   "source": [
    "def change(li):\n",
    "    li[1] = li[1] + 2\n",
    "li = [1,2,3,4,5]\n",
    "change(li)\n",
    "print(li)"
   ]
  },
  {
   "cell_type": "code",
   "execution_count": null,
   "id": "a01a08d8",
   "metadata": {},
   "outputs": [],
   "source": [
    "#lists\n",
    "a=[1,2,3]\n",
    "a[1:]"
   ]
  },
  {
   "cell_type": "code",
   "execution_count": null,
   "id": "428cff94",
   "metadata": {},
   "outputs": [],
   "source": [
    "a=[1,2,3,'r',8,9,109]\n",
    "a[::-1]\n"
   ]
  },
  {
   "cell_type": "code",
   "execution_count": null,
   "id": "bed9280d",
   "metadata": {},
   "outputs": [],
   "source": [
    "#delete operation\n",
    "#a=[1,2,3,4,5]\n",
    "#a.remove() #value\n",
    "#a.pop() #index\n",
    "#del a #clear identity\n",
    "#clear a #clear list but not identity"
   ]
  },
  {
   "cell_type": "code",
   "execution_count": null,
   "id": "8760c271",
   "metadata": {},
   "outputs": [],
   "source": [
    "n=int(input())\n",
    "list1=[]\n",
    "for i in range(0,n):\n",
    "    element=int(input())\n",
    "    list1.append(element)\n",
    "print(list1)    "
   ]
  },
  {
   "cell_type": "code",
   "execution_count": null,
   "id": "32567541",
   "metadata": {
    "scrolled": true
   },
   "outputs": [],
   "source": [
    "z=list(input())\n",
    "print(z)"
   ]
  },
  {
   "cell_type": "code",
   "execution_count": null,
   "id": "825e1de1",
   "metadata": {},
   "outputs": [],
   "source": [
    "n=int(input())\n",
    "a=0\n",
    "b=1\n",
    "sum=0\n",
    "while b<n:\n",
    "    a=b\n",
    "    b=sum\n",
    "    sum=a+b\n",
    "    \n",
    "if b==n:\n",
    "    print('true')\n",
    "else:\n",
    "    print('false')"
   ]
  },
  {
   "cell_type": "code",
   "execution_count": 13,
   "id": "e1f40771",
   "metadata": {},
   "outputs": [
    {
     "name": "stdout",
     "output_type": "stream",
     "text": [
      "5\n",
      "1 2 3 4 5 \n",
      "11 12 13 14 15 \n",
      "21 22 23 24 25 \n",
      "16 17 18 19 20 \n",
      "6 7 8 9 10 \n"
     ]
    }
   ],
   "source": [
    "n=int(input())\n",
    "if n%2!=0:\n",
    "    for i in range(1,((n+1)//2)+1):\n",
    "        for j in range(1,n+1):\n",
    "            print(n*2*(i-1)+j,end=\" \")\n",
    "        print()\n",
    "    for i in range(1,(n//2)+1):\n",
    "        for j in range(1,n+1):\n",
    "            print(n*(n-2*i)+j,end=\" \")\n",
    "        print()    \n",
    "else:\n",
    "    for i in range(1,((n+1)//2)+1):\n",
    "        for j in range(1,n+1):\n",
    "            print(n*2*(i-1)+j,end=\" \")\n",
    "        print()\n",
    "    for i in range(1,(n//2)+1):\n",
    "        for j in range(1,n+1):\n",
    "            print(n*((n+1)-(2*i))+j,end=\" \")\n",
    "        print()    "
   ]
  },
  {
   "cell_type": "code",
   "execution_count": null,
   "id": "dd993e53",
   "metadata": {},
   "outputs": [],
   "source": [
    "a = 5,6,7\n",
    "print(a[1:])"
   ]
  },
  {
   "cell_type": "code",
   "execution_count": null,
   "id": "c9f225ac",
   "metadata": {},
   "outputs": [],
   "source": [
    "a = 5,6,7\n",
    "a[2] = 9 \n",
    "print(a)"
   ]
  },
  {
   "cell_type": "code",
   "execution_count": null,
   "id": "808b086a",
   "metadata": {},
   "outputs": [],
   "source": [
    "a = 1,2\n",
    "b = (4,5)\n",
    "d = (a,b)\n",
    "print(d[0])\n"
   ]
  },
  {
   "cell_type": "code",
   "execution_count": null,
   "id": "83f9468e",
   "metadata": {},
   "outputs": [],
   "source": [
    "a = 1,2\n",
    "b = (4,5)\n",
    "d = a+b\n",
    "print(d[2])\n"
   ]
  },
  {
   "cell_type": "code",
   "execution_count": null,
   "id": "bcad9e39",
   "metadata": {},
   "outputs": [],
   "source": [
    "a = (\"ab\",\"abc\",\"def\")\n",
    "print(min(a))"
   ]
  },
  {
   "cell_type": "code",
   "execution_count": null,
   "id": "c9a1e7dd",
   "metadata": {},
   "outputs": [],
   "source": [
    "def sum_multiply(a,b,*more):\n",
    "    sum_value = a+b\n",
    "    m_value = a*b\n",
    "    for i in more:\n",
    "        sum_value += i\n",
    "        m_value*=i\n",
    "    return sum_value,m_value\n",
    "s_m = sum_multiply(2,3,4)\n",
    "print(s_m)"
   ]
  },
  {
   "cell_type": "code",
   "execution_count": null,
   "id": "7f7ae0db",
   "metadata": {},
   "outputs": [],
   "source": [
    "s=\"abcd\"\n",
    "s[0]='c'\n",
    "print(s) \n"
   ]
  },
  {
   "cell_type": "code",
   "execution_count": null,
   "id": "fafa68b4",
   "metadata": {},
   "outputs": [],
   "source": [
    "s =\"abcd\"\n",
    "a = \"abcd\"\n",
    "if id(s) == id(a):\n",
    "    print(\"They are same\")\n",
    "else:\n",
    "    print(\"They are not same\")\n"
   ]
  },
  {
   "cell_type": "code",
   "execution_count": null,
   "id": "de55f400",
   "metadata": {},
   "outputs": [],
   "source": [
    "s = \"abcd\"\n",
    "b = s + \"ef\"\n",
    "print(s)\n"
   ]
  },
  {
   "cell_type": "code",
   "execution_count": null,
   "id": "510b31b8",
   "metadata": {},
   "outputs": [],
   "source": [
    "s = \"abcd\"\n",
    "b = s + 2\n",
    "print(b)\n"
   ]
  },
  {
   "cell_type": "code",
   "execution_count": null,
   "id": "e446959a",
   "metadata": {},
   "outputs": [],
   "source": [
    "a = \"abce\" >= \"abcdef\"\n",
    "print(a)\n"
   ]
  },
  {
   "cell_type": "code",
   "execution_count": null,
   "id": "66efe40a",
   "metadata": {},
   "outputs": [],
   "source": [
    "#single line input in list\n",
    "#split(seperator)\n",
    "#comprehension()\n",
    "13689\n",
    "li = [x for x in input().split()]\n",
    "print(li)"
   ]
  },
  {
   "cell_type": "code",
   "execution_count": 8,
   "id": "b1ae8c93",
   "metadata": {},
   "outputs": [
    {
     "name": "stdout",
     "output_type": "stream",
     "text": [
      "123456789\n",
      "1 3 5 7 9 "
     ]
    }
   ],
   "source": [
    "n=list(input())\n",
    "for i in range(0,len(n),2):\n",
    "    print(n[i],end=\" \")"
   ]
  },
  {
   "cell_type": "code",
   "execution_count": null,
   "id": "bbd51065",
   "metadata": {},
   "outputs": [],
   "source": [
    "n=list(input())\n",
    "a=n[::-1]\n",
    "print(a)"
   ]
  },
  {
   "cell_type": "code",
   "execution_count": 6,
   "id": "c7bcace8",
   "metadata": {},
   "outputs": [
    {
     "name": "stdout",
     "output_type": "stream",
     "text": [
      "123526852\n",
      "8\n"
     ]
    }
   ],
   "source": [
    "n=list(input())\n",
    "l=n[0]\n",
    "for i in range(0,len(n)):\n",
    "    if n[i]>l:\n",
    "        l=n[i]\n",
    "print(l)        "
   ]
  },
  {
   "cell_type": "code",
   "execution_count": null,
   "id": "a987ad52",
   "metadata": {
    "scrolled": true
   },
   "outputs": [],
   "source": [
    "n=int(input())\n",
    "list=[]\n",
    "for i in range(1,n+1):\n",
    "    a=int(input())\n",
    "    list.append(a)\n",
    "print(list[::-1])    "
   ]
  },
  {
   "cell_type": "code",
   "execution_count": 7,
   "id": "09502ca8",
   "metadata": {},
   "outputs": [
    {
     "name": "stdout",
     "output_type": "stream",
     "text": [
      "46541654561541584548999\n",
      "9\n"
     ]
    }
   ],
   "source": [
    "n=list(input())\n",
    "l=n[0]\n",
    "i=0\n",
    "while(i<len(n)):\n",
    "    if n[i]>l:\n",
    "        l=n[i]\n",
    "    i+=1    \n",
    "print(l)        "
   ]
  },
  {
   "cell_type": "code",
   "execution_count": 4,
   "id": "64b92e38",
   "metadata": {},
   "outputs": [
    {
     "name": "stdout",
     "output_type": "stream",
     "text": [
      "4\n",
      "   1\n",
      "  21\n",
      " 321\n",
      "4321\n"
     ]
    }
   ],
   "source": [
    "n=int(input())\n",
    "for i in range(1,n+1,1):\n",
    "    for k in range(1,n-i+1,1):\n",
    "        print(\" \",end=\"\")\n",
    "    for j in range(i,0,-1):\n",
    "        print(j,end=\"\")\n",
    "    print()\n",
    "for l in range(2,)\n"
   ]
  },
  {
   "cell_type": "code",
   "execution_count": 8,
   "id": "8fc7edf4",
   "metadata": {
    "scrolled": true
   },
   "outputs": [
    {
     "name": "stdout",
     "output_type": "stream",
     "text": [
      "5\n",
      "1 \n",
      "1 1 \n",
      "1 1 1 \n",
      "1 1 1 1 \n",
      "1 1 1 1 1 \n"
     ]
    }
   ],
   "source": [
    "n=int(input())\n",
    "for i in range(1,n+1):\n",
    "    for j in range(1,i+1):\n",
    "        print(1,end=\" \")\n",
    "    print()    "
   ]
  },
  {
   "cell_type": "code",
   "execution_count": 7,
   "id": "1f8eeea0",
   "metadata": {},
   "outputs": [
    {
     "name": "stdout",
     "output_type": "stream",
     "text": [
      "626 666 516\n",
      "[626, 666, 516]\n",
      "666\n"
     ]
    }
   ],
   "source": [
    "#single line input      (split)\n",
    "a=list(map(int,input().strip().split()))\n",
    "print(a)\n",
    "print(a[1])"
   ]
  },
  {
   "cell_type": "code",
   "execution_count": 11,
   "id": "be624014",
   "metadata": {},
   "outputs": [
    {
     "name": "stdout",
     "output_type": "stream",
     "text": [
      "1211 6631 54 51 \n",
      "[1211, 6631, 54, 51]\n"
     ]
    }
   ],
   "source": [
    "#comprehension\n",
    "a=[int(x) for x in input().strip().split()]\n",
    "print(a)"
   ]
  },
  {
   "cell_type": "code",
   "execution_count": 12,
   "id": "43f2ca14",
   "metadata": {},
   "outputs": [
    {
     "name": "stdout",
     "output_type": "stream",
     "text": [
      "6\n"
     ]
    }
   ],
   "source": [
    "a=lambda x:x+3\n",
    "print(a(3))"
   ]
  },
  {
   "cell_type": "code",
   "execution_count": 26,
   "id": "93e6ccf3",
   "metadata": {},
   "outputs": [
    {
     "name": "stdout",
     "output_type": "stream",
     "text": [
      "10 11 2022\n"
     ]
    }
   ],
   "source": [
    "from datetime import datetime\n",
    "x=datetime.now()\n",
    "print(x.day,x.month,x.year)"
   ]
  },
  {
   "cell_type": "code",
   "execution_count": 29,
   "id": "8ddb4b4b",
   "metadata": {},
   "outputs": [
    {
     "data": {
      "text/plain": [
       "'November 10,2022'"
      ]
     },
     "execution_count": 29,
     "metadata": {},
     "output_type": "execute_result"
    }
   ],
   "source": [
    "x.strftime(\"%B %d,%Y\")"
   ]
  },
  {
   "cell_type": "code",
   "execution_count": 35,
   "id": "684a7634",
   "metadata": {},
   "outputs": [
    {
     "name": "stdout",
     "output_type": "stream",
     "text": [
      "today is nov\n",
      "TODAY IS NOV\n"
     ]
    }
   ],
   "source": [
    "#wapp that accepts a string from keyboard & create a new string after converting char of each word captilised. eg.today is nov\n",
    "#Today Is Nov\n",
    "#TODAY IS NOV\n",
    "a=input()\n",
    "b=a.upper()\n",
    "print(b)"
   ]
  },
  {
   "cell_type": "code",
   "execution_count": 39,
   "id": "d6973c34",
   "metadata": {},
   "outputs": [
    {
     "name": "stdout",
     "output_type": "stream",
     "text": [
      "today is nov\n",
      "Today Is Nov\n"
     ]
    }
   ],
   "source": [
    "a=input()\n",
    "a=a.title()\n",
    "print(a)"
   ]
  },
  {
   "cell_type": "code",
   "execution_count": 5,
   "id": "afc63a04",
   "metadata": {},
   "outputs": [
    {
     "name": "stdout",
     "output_type": "stream",
     "text": [
      "5\n",
      "513 55\n",
      "\n",
      "654\n",
      "154\n",
      "4\n",
      "0\n"
     ]
    }
   ],
   "source": [
    "n=int(input())\n",
    "sum=0\n",
    "for i in range(1,n+1):\n",
    "    a=[int() for i in input().strip().split()]\n",
    "    for j in range(0,len(a)):\n",
    "        sum=sum+a[j]\n",
    "print(sum)        "
   ]
  },
  {
   "cell_type": "code",
   "execution_count": 20,
   "id": "a3741001",
   "metadata": {
    "scrolled": true
   },
   "outputs": [
    {
     "name": "stdout",
     "output_type": "stream",
     "text": [
      "5\n",
      "1 2 3 4 5 6 7 8 9\n",
      "45\n"
     ]
    }
   ],
   "source": [
    "n=int(input())\n",
    "li=[int(x) for x in input().strip().split()]\n",
    "sum=0\n",
    "for i in range(0,len(li)):\n",
    "    sum=sum+li[i]\n",
    "print(sum)    "
   ]
  },
  {
   "cell_type": "code",
   "execution_count": 6,
   "id": "d014ca8f",
   "metadata": {},
   "outputs": [
    {
     "name": "stdout",
     "output_type": "stream",
     "text": [
      "1\n",
      "6\n",
      "12 45 82 82 92 842 352 52\n",
      "45 12 82 82 842 92 "
     ]
    }
   ],
   "source": [
    "a=int(input())\n",
    "b=int(input())\n",
    "li=[int(x) for x in input().strip().split()]\n",
    "for i in range(a-1,b,2):\n",
    "    li[i],li[i+1]=li[i+1],li[i]\n",
    "    print(li[i],li[i+1],end=\" \")"
   ]
  },
  {
   "cell_type": "code",
   "execution_count": 12,
   "id": "4d42ec1b",
   "metadata": {},
   "outputs": [
    {
     "name": "stdout",
     "output_type": "stream",
     "text": [
      "1\n",
      "4\n",
      "52 24 85 55 52\n",
      "[24, 52, 55, 85, 52]\n"
     ]
    }
   ],
   "source": [
    "a=int(input())\n",
    "for j in range(a):\n",
    "    b=int(input())\n",
    "\n",
    "    li=[int(x) for x in input().strip().split()]\n",
    "\n",
    "    for i in range(0,b-1,2):\n",
    "        li[i],li[i+1]=li[i+1],li[i]\n",
    "    print(li)\n",
    "    "
   ]
  },
  {
   "cell_type": "code",
   "execution_count": 13,
   "id": "d1a2e043",
   "metadata": {},
   "outputs": [
    {
     "name": "stdout",
     "output_type": "stream",
     "text": [
      "1\n",
      "4\n",
      "1 2 5 7 52 5 54554 55 \n",
      "2 1 7 5 52 5 54554 55\n"
     ]
    }
   ],
   "source": [
    "a=int(input())\n",
    "for j in range(a):\n",
    "    b=int(input())\n",
    "\n",
    "    li=[int(x) for x in input().strip().split()]\n",
    "\n",
    "    for i in range(0,b-1,2):\n",
    "        li[i],li[i+1]=li[i+1],li[i]\n",
    "    \n",
    "    print(*li)    "
   ]
  },
  {
   "cell_type": "code",
   "execution_count": 22,
   "id": "5ea4cec3",
   "metadata": {},
   "outputs": [
    {
     "name": "stdout",
     "output_type": "stream",
     "text": [
      "1\n",
      "5\n",
      "1 1 2 2 3\n",
      "3 "
     ]
    }
   ],
   "source": [
    "a=int(input())\n",
    "for j in range(a):\n",
    "    b=int(input())\n",
    "\n",
    "    li=[int(x) for x in input().strip().split()]\n",
    "    for i in range(len(li)):\n",
    "        count=0\n",
    "        for k in range(i+1,len(li)):\n",
    "            if li[i]==li[k]:\n",
    "                count=+1\n",
    "    if count==0:\n",
    "            print(li[i],end=' ') \n",
    "        "
   ]
  },
  {
   "cell_type": "code",
   "execution_count": 26,
   "id": "a77070dd",
   "metadata": {},
   "outputs": [
    {
     "name": "stdout",
     "output_type": "stream",
     "text": [
      "1\n",
      "4\n",
      "0 0 1 2\n",
      "0 "
     ]
    }
   ],
   "source": [
    "a=int(input())\n",
    "for j in range(a):\n",
    "    b=int(input())\n",
    "\n",
    "    li=[int(x) for x in input().strip().split()]\n",
    "    for i in range(len(li)):\n",
    "        count=0\n",
    "        for k in range(i+1,len(li)):\n",
    "            if li[i]==li[k]:\n",
    "                count=+1\n",
    "        if count>0:\n",
    "            print(li[i],end=' ') "
   ]
  },
  {
   "cell_type": "code",
   "execution_count": 35,
   "id": "b010115a",
   "metadata": {},
   "outputs": [
    {
     "name": "stdout",
     "output_type": "stream",
     "text": [
      "1\n",
      "0\n",
      "3\n",
      "1\n",
      "0\n"
     ]
    }
   ],
   "source": [
    "a=int(input())\n",
    "for j in range(a):\n",
    "    b=int(input())\n",
    "\n",
    "    li=[int(x) for x in input().strip().split()]\n",
    "    c=int(input())\n",
    "    count=0\n",
    "    for i in range(len(li)):\n",
    "\n",
    "        for k in range(len(li)):\n",
    "            if li[i]+li[k]==c:\n",
    "                count=count+1\n",
    "    print(count//2)"
   ]
  },
  {
   "cell_type": "code",
   "execution_count": null,
   "id": "95a89a99",
   "metadata": {},
   "outputs": [],
   "source": [
    "a=int(input())\n",
    "for j in range(a):\n",
    "    b=int(input())\n",
    "\n",
    "    li=[int(x) for x in input().strip().split()]\n",
    "    c=int(input())\n",
    "    count=0\n",
    "    for i in range(len(li)):\n",
    "\n",
    "        for k in range(len(li)):\n",
    "            for l in range(len(li)):\n",
    "                if li[i]+li[k]+li[l]==c:\n",
    "                    count=count+1\n",
    "    print(count//2)"
   ]
  },
  {
   "cell_type": "code",
   "execution_count": 1,
   "id": "5dae26b0",
   "metadata": {},
   "outputs": [
    {
     "ename": "SyntaxError",
     "evalue": "cannot assign to function call (3113800903.py, line 3)",
     "output_type": "error",
     "traceback": [
      "\u001b[1;36m  Input \u001b[1;32mIn [1]\u001b[1;36m\u001b[0m\n\u001b[1;33m    for len(li) in range(a+1):\u001b[0m\n\u001b[1;37m        ^\u001b[0m\n\u001b[1;31mSyntaxError\u001b[0m\u001b[1;31m:\u001b[0m cannot assign to function call\n"
     ]
    }
   ],
   "source": [
    "a=int(input())\n",
    "li=[]\n",
    "for len(li) in range(a+1):\n",
    "    \n",
    "    for j in range(a):\n",
    "        b=int(input())\n",
    "\n",
    "        c=int(x) for x in input().strip().split()\n",
    "        li.append(c)\n",
    "        for i in range(0,b-1,2):\n",
    "            li[i],li[i+1]=li[i+1],li[i]\n",
    "print(*li)    "
   ]
  },
  {
   "cell_type": "code",
   "execution_count": 6,
   "id": "bd4ab428",
   "metadata": {},
   "outputs": [
    {
     "name": "stdout",
     "output_type": "stream",
     "text": [
      "1\n",
      "5\n",
      "3 1 4 3 4\n",
      "4\n"
     ]
    }
   ],
   "source": [
    "a=int(input())\n",
    "li1=[]\n",
    "for j in range(a):\n",
    "    b=int(input())\n",
    "\n",
    "    li=[int(x) for x in input().strip().split()]\n",
    "    for i in range(len(li)):\n",
    "        count=0\n",
    "        for k in range(len(li)):\n",
    "            if li[i]==li[k]:\n",
    "                count=+1\n",
    "        if count==1:\n",
    "            li1.append(li[i])\n",
    "print(*li1)            "
   ]
  },
  {
   "cell_type": "code",
   "execution_count": 2,
   "id": "d91ce095",
   "metadata": {
    "scrolled": true
   },
   "outputs": [
    {
     "name": "stdout",
     "output_type": "stream",
     "text": [
      "5\n",
      "5 6 7 8 9 88\n",
      "35\n"
     ]
    }
   ],
   "source": [
    "n=int(input())\n",
    "li=[int(x) for x in input().split()]\n",
    "sum=0\n",
    "for i in range(0,n):\n",
    "    sum=sum+li[i]\n",
    "print(sum)    "
   ]
  },
  {
   "cell_type": "code",
   "execution_count": 1,
   "id": "667f2522",
   "metadata": {},
   "outputs": [
    {
     "name": "stdout",
     "output_type": "stream",
     "text": [
      "1\n",
      "5\n",
      "3 1 4 3 4\n",
      "1 "
     ]
    }
   ],
   "source": [
    "a=int(input())\n",
    "for j in range(a):\n",
    "    b=int(input())\n",
    "    \n",
    "    li=[int(x) for x in input().strip().split()]\n",
    "    for i in range(b):\n",
    "        count=0\n",
    "        for k in range(b):\n",
    "            if i==k:\n",
    "                continue\n",
    "            elif li[i]==li[k]:\n",
    "                count=+1\n",
    "        if count==0:\n",
    "            print(li[i],end=' ') "
   ]
  },
  {
   "cell_type": "code",
   "execution_count": null,
   "id": "2bba752c",
   "metadata": {},
   "outputs": [],
   "source": [
    "def rev(arr,n):\n",
    "    for i in range(n):\n",
    "        if arr.count(arr[i]) == 1:\n",
    "            res = arr[i]\n",
    "            return res\n",
    "t = int(input())\n",
    "for i in range(t):\n",
    "    n = int(input())\n",
    "    print()\n",
    "    arr = [int(x) for x in input().split()[:n]]\n",
    "    print(rev(arr,n,))\n"
   ]
  },
  {
   "cell_type": "code",
   "execution_count": 26,
   "id": "0c6861fc",
   "metadata": {},
   "outputs": [
    {
     "name": "stdout",
     "output_type": "stream",
     "text": [
      "November 11, 2022\n"
     ]
    }
   ],
   "source": [
    "from datetime import datetime\n",
    "x=datetime.now()\n",
    "print(x.strftime(\"%B %d, %Y\" ))"
   ]
  },
  {
   "cell_type": "code",
   "execution_count": 12,
   "id": "478f7106",
   "metadata": {},
   "outputs": [
    {
     "name": "stdout",
     "output_type": "stream",
     "text": [
      "4\n",
      "1     1\n",
      " 2   2\n",
      "  3 3\n",
      "   4\n",
      "  3 3\n",
      " 2   2\n",
      "1     1\n"
     ]
    }
   ],
   "source": [
    "n=int(input())\n",
    "\n",
    "for i in range(1,n+1):\n",
    "    for spaces in range(1,i):\n",
    "        print(' ',end='')\n",
    "    for j in range(1):\n",
    "        print(i,end='')\n",
    "    for spaces1 in range(1,2*(n-i)):\n",
    "        print(' ',end='')\n",
    "    if i<n:\n",
    "        for j1 in range(1):\n",
    "            print(i,end='')\n",
    "    print()    \n",
    "for i in range(n-1,0,-1):\n",
    "    for spaces in range(1,i):\n",
    "        print(' ',end='')\n",
    "    for j in range(1):\n",
    "        print(i,end='')\n",
    "    for spaces1 in range(1,2*(n-i)):\n",
    "        print(' ',end='')   \n",
    "    for j1 in range(1):\n",
    "            print(i,end='')\n",
    "    print()        "
   ]
  },
  {
   "cell_type": "code",
   "execution_count": 12,
   "id": "ceadef64",
   "metadata": {
    "scrolled": true
   },
   "outputs": [
    {
     "name": "stdout",
     "output_type": "stream",
     "text": [
      "5\n",
      "    1\n",
      "   212\n",
      "  32123\n",
      " 4321234\n",
      "543212345\n"
     ]
    }
   ],
   "source": [
    "n=int(input())\n",
    "for i in range(1,n+1):\n",
    "    for spaces in range(1,n-i+1):\n",
    "        print(' ',end='')\n",
    "    for j in range(1,2*i):\n",
    "        if j<=i:\n",
    "            print(i-j+1,end='')\n",
    "        elif j>i:\n",
    "            print(j-i+1,end='')\n",
    "    print()    "
   ]
  },
  {
   "cell_type": "code",
   "execution_count": 24,
   "id": "56ea7562",
   "metadata": {},
   "outputs": [
    {
     "ename": "AttributeError",
     "evalue": "module 'time' has no attribute 'clock'",
     "output_type": "error",
     "traceback": [
      "\u001b[1;31m---------------------------------------------------------------------------\u001b[0m",
      "\u001b[1;31mAttributeError\u001b[0m                            Traceback (most recent call last)",
      "Input \u001b[1;32mIn [24]\u001b[0m, in \u001b[0;36m<cell line: 2>\u001b[1;34m()\u001b[0m\n\u001b[0;32m      1\u001b[0m \u001b[38;5;28;01mimport\u001b[39;00m \u001b[38;5;21;01mtime\u001b[39;00m\n\u001b[1;32m----> 2\u001b[0m start\u001b[38;5;241m=\u001b[39m\u001b[43mtime\u001b[49m\u001b[38;5;241;43m.\u001b[39;49m\u001b[43mclock\u001b[49m()\n",
      "\u001b[1;31mAttributeError\u001b[0m: module 'time' has no attribute 'clock'"
     ]
    }
   ],
   "source": [
    "import time\n",
    "start=time.clock()"
   ]
  },
  {
   "cell_type": "code",
   "execution_count": 34,
   "id": "060abae4",
   "metadata": {},
   "outputs": [
    {
     "name": "stdout",
     "output_type": "stream",
     "text": [
      "1224\n"
     ]
    },
    {
     "ename": "TypeError",
     "evalue": "function missing required argument 'month' (pos 2)",
     "output_type": "error",
     "traceback": [
      "\u001b[1;31m---------------------------------------------------------------------------\u001b[0m",
      "\u001b[1;31mTypeError\u001b[0m                                 Traceback (most recent call last)",
      "Input \u001b[1;32mIn [34]\u001b[0m, in \u001b[0;36m<cell line: 2>\u001b[1;34m()\u001b[0m\n\u001b[0;32m      1\u001b[0m \u001b[38;5;28;01mfrom\u001b[39;00m \u001b[38;5;21;01mdatetime\u001b[39;00m \u001b[38;5;28;01mimport\u001b[39;00m date\n\u001b[1;32m----> 2\u001b[0m my_date\u001b[38;5;241m=\u001b[39m\u001b[43mdate\u001b[49m\u001b[43m(\u001b[49m\u001b[38;5;28;43mint\u001b[39;49m\u001b[43m(\u001b[49m\u001b[38;5;28;43minput\u001b[39;49m\u001b[43m(\u001b[49m\u001b[43m)\u001b[49m\u001b[43m)\u001b[49m\u001b[43m)\u001b[49m\n\u001b[0;32m      3\u001b[0m my_date\n",
      "\u001b[1;31mTypeError\u001b[0m: function missing required argument 'month' (pos 2)"
     ]
    }
   ],
   "source": [
    "from datetime import date\n",
    "my_date=date(int(input()))\n",
    "my_date"
   ]
  },
  {
   "cell_type": "code",
   "execution_count": 35,
   "id": "2d3781ee",
   "metadata": {},
   "outputs": [
    {
     "data": {
      "text/plain": [
       "28"
      ]
     },
     "execution_count": 35,
     "metadata": {},
     "output_type": "execute_result"
    }
   ],
   "source": [
    "x=7\n",
    "x<<2"
   ]
  },
  {
   "cell_type": "code",
   "execution_count": 36,
   "id": "a2320cb6",
   "metadata": {},
   "outputs": [
    {
     "data": {
      "text/plain": [
       "'0b1010b1110'"
      ]
     },
     "execution_count": 36,
     "metadata": {},
     "output_type": "execute_result"
    }
   ],
   "source": [
    "bin(12-7)+bin(10^4)"
   ]
  },
  {
   "cell_type": "code",
   "execution_count": 1,
   "id": "a4bc6aa5",
   "metadata": {},
   "outputs": [],
   "source": [
    "#wapp to add two matrixs of len m*n\n",
    "#wapp multiply two matrixes\n",
    "#wapp swap columns of matrixes"
   ]
  },
  {
   "cell_type": "code",
   "execution_count": 19,
   "id": "44b655b8",
   "metadata": {},
   "outputs": [
    {
     "name": "stdout",
     "output_type": "stream",
     "text": [
      "[[1, 2, 3], [4, 5, 6], [7, 8, 9], 2, 4, 6, 8, 10, 12]\n"
     ]
    }
   ],
   "source": [
    "a=[[1,2,3],[4,5,6],[7,8,9]]\n",
    "b=[[1,2,3],[4,5,6],[7,8,9]]\n",
    "for i in range(len(a)-1):\n",
    "    \n",
    "    for j in range(len(b)):\n",
    "        a.append(a[i][j]+b[i][j])\n",
    "    r.append(a)    \n",
    "\n",
    "for i in range(len(r)):\n",
    "    print(r[i])"
   ]
  },
  {
   "cell_type": "code",
   "execution_count": 7,
   "id": "8ad49166",
   "metadata": {},
   "outputs": [
    {
     "name": "stdout",
     "output_type": "stream",
     "text": [
      "1101\n",
      "['1', '1', '0', '1']\n",
      "['1', '0', '1', '1']\n",
      "not palindrome\n"
     ]
    }
   ],
   "source": [
    "n=list(input())\n",
    "print(n)\n",
    "a=n[::-1]\n",
    "print(a)\n",
    "if n==a:\n",
    "    print('palindrome')\n",
    "else:\n",
    "    print('not palindrome')"
   ]
  },
  {
   "cell_type": "code",
   "execution_count": 12,
   "id": "66a4877b",
   "metadata": {},
   "outputs": [
    {
     "name": "stdout",
     "output_type": "stream",
     "text": [
      "dxggvbnk,jgg\n",
      "ggj,knbvggxd\n"
     ]
    }
   ],
   "source": [
    "#wapp that accepts a string from user.create a new string in reverse of it\n",
    "n=input()\n",
    "a=n[::-1]\n",
    "print(a)"
   ]
  },
  {
   "cell_type": "code",
   "execution_count": 16,
   "id": "f3e8f55e",
   "metadata": {},
   "outputs": [
    {
     "name": "stdout",
     "output_type": "stream",
     "text": [
      "[[3, 4], [5, 6]]\n"
     ]
    }
   ],
   "source": [
    "#add of matrix\n",
    "a=[[1,2],[3,4]]\n",
    "b=[[2,2],[2,2]]\n",
    "c=[[0,0],[0,0]]\n",
    "for i in range(len(a)):\n",
    "    for j in range(len(a)):\n",
    "        c[i][j]=a[i][j]+b[i][j]\n",
    "print(c)        \n",
    "        "
   ]
  },
  {
   "cell_type": "code",
   "execution_count": 26,
   "id": "7cd61a62",
   "metadata": {},
   "outputs": [
    {
     "name": "stdout",
     "output_type": "stream",
     "text": [
      "[[6, 6], [14, 14]]\n"
     ]
    }
   ],
   "source": [
    "#mul of matrix\n",
    "a=[[1,2],[3,4]]\n",
    "b=[[2,2],[2,2]]\n",
    "mul=[[0,0],[0,0]]\n",
    "for i in range(len(a)):\n",
    "    for j in range(len(a)):\n",
    "    \n",
    "        for k in range(len(a)):\n",
    "            mul[i][j]+=a[i][k]*b[k][j]\n",
    "print(mul)            "
   ]
  },
  {
   "cell_type": "code",
   "execution_count": 29,
   "id": "109b42a6",
   "metadata": {},
   "outputs": [
    {
     "name": "stdout",
     "output_type": "stream",
     "text": [
      "27\n",
      "28\n",
      "40\n"
     ]
    }
   ],
   "source": [
    "#sum of rows\n",
    "li=[[10,12,3,2],[14,6,5,3],[3,10,12,15]]\n",
    "for i in range(len(li)):\n",
    "    sum=0\n",
    "    for j in range(len(li)+1):\n",
    "        sum+=li[i][j]\n",
    "    print(sum)    "
   ]
  },
  {
   "cell_type": "code",
   "execution_count": 30,
   "id": "f4efb8ad",
   "metadata": {},
   "outputs": [
    {
     "name": "stdout",
     "output_type": "stream",
     "text": [
      "[5, 6]\n"
     ]
    }
   ],
   "source": [
    "li=[[1,2,3],[4,5,6],[7,8,9]]\n",
    "print(li[1][1:3])"
   ]
  },
  {
   "cell_type": "code",
   "execution_count": 16,
   "id": "773e7431",
   "metadata": {},
   "outputs": [
    {
     "name": "stdout",
     "output_type": "stream",
     "text": [
      "23596525\n",
      "35965252\n",
      "59652523\n",
      "96525235\n",
      "65252359\n",
      "52523596\n",
      "25235965\n",
      "52359652\n"
     ]
    }
   ],
   "source": [
    "#swap of elements of integer\n",
    "n=int(input())\n",
    "swap=0\n",
    "\n",
    "\n",
    "for i in range(len(str(n))-1):\n",
    "    digit=n//10**(len(str(n))-1)\n",
    "    n=n%10**(len(str(n))-1)\n",
    "    swap=n*10+digit\n",
    "    n=swap\n",
    "\n",
    "    print(swap)\n",
    "\n",
    "\n"
   ]
  },
  {
   "cell_type": "code",
   "execution_count": 28,
   "id": "6326f961",
   "metadata": {
    "scrolled": true
   },
   "outputs": [
    {
     "name": "stdout",
     "output_type": "stream",
     "text": [
      "shift\n",
      "h i f t s\n",
      "i f t s h\n",
      "f t s h i\n",
      "t s h i f\n"
     ]
    }
   ],
   "source": [
    "#swap a string\n",
    "n=list(input())\n",
    "\n",
    "for i in range(len(n)-1):\n",
    "    a=n[0]\n",
    "    n.append(a)\n",
    "    n.pop(0)\n",
    "    print(*n)\n",
    "    "
   ]
  },
  {
   "cell_type": "code",
   "execution_count": 24,
   "id": "9e2a0731",
   "metadata": {},
   "outputs": [
    {
     "name": "stdout",
     "output_type": "stream",
     "text": [
      "shift\n",
      "hifts\n",
      "iftsh\n",
      "ftshi\n",
      "tshif\n"
     ]
    }
   ],
   "source": [
    "n=input()\n",
    "for i in range(len(n)-1):\n",
    "    s=n[1:]+n[0]\n",
    "    n=s\n",
    "    print(s)"
   ]
  },
  {
   "cell_type": "code",
   "execution_count": 32,
   "id": "9188ac36",
   "metadata": {},
   "outputs": [
    {
     "name": "stdout",
     "output_type": "stream",
     "text": [
      "HELLO\n",
      "O E L L H\n"
     ]
    }
   ],
   "source": [
    "n=list(input())\n",
    "n[0],n[-1]=n[-1],n[0]\n",
    "print(*n)"
   ]
  },
  {
   "cell_type": "code",
   "execution_count": 33,
   "id": "3cde22e6",
   "metadata": {},
   "outputs": [
    {
     "name": "stdout",
     "output_type": "stream",
     "text": [
      "examination 2021\n",
      "xamination 2021e\n"
     ]
    }
   ],
   "source": [
    "n=input()\n",
    "\n",
    "s=n[1:]+n[0]\n",
    "\n",
    "print(s)"
   ]
  },
  {
   "cell_type": "code",
   "execution_count": 38,
   "id": "8b1ca09c",
   "metadata": {},
   "outputs": [
    {
     "name": "stdout",
     "output_type": "stream",
     "text": [
      "exam\n",
      "m a x e\n"
     ]
    }
   ],
   "source": [
    "n=list(input())\n",
    "for i in range(len(n)//2):\n",
    "    n[i],n[-(i+1)]=n[-(i+1)],n[i]\n",
    "print(*n)    "
   ]
  },
  {
   "cell_type": "code",
   "execution_count": 39,
   "id": "62448d13",
   "metadata": {},
   "outputs": [
    {
     "name": "stdout",
     "output_type": "stream",
     "text": [
      "exam\n",
      "maxe\n"
     ]
    }
   ],
   "source": [
    "n=input()\n",
    "print(n[::-1])"
   ]
  },
  {
   "cell_type": "code",
   "execution_count": 41,
   "id": "14925756",
   "metadata": {},
   "outputs": [
    {
     "name": "stdout",
     "output_type": "stream",
     "text": [
      "[12, 13, 22, 42]\n",
      "[53, 24, 10, 8]\n",
      "[19, 20, 11, 12]\n"
     ]
    }
   ],
   "source": [
    "n=[[13,12,42,22],[24,53,8,10],[20,19,12,11]]\n",
    "for i in range(len(n)):\n",
    "    for j in range(0,len(n),2):\n",
    "        n[i][j],n[i][j+1]=n[i][j+1],n[i][j]\n",
    "for i in n:        \n",
    "    print(i)        "
   ]
  },
  {
   "cell_type": "code",
   "execution_count": 42,
   "id": "7c08258a",
   "metadata": {},
   "outputs": [
    {
     "name": "stdout",
     "output_type": "stream",
     "text": [
      "[12, 13, 22, 42]\n",
      "[53, 24, 10, 8]\n",
      "[19, 20, 11, 12]\n"
     ]
    }
   ],
   "source": [
    "def sw(arr):\n",
    "    for i in range(len(arr)):\n",
    "        for j in range(0,len(arr),2):\n",
    "            arr[i][j],arr[i][j+1]=arr[i][j+1],arr[i][j]\n",
    "    for i in arr:        \n",
    "        print(i)\n",
    "n=[[13,12,42,22],[24,53,8,10],[20,19,12,11]]\n",
    "sw(n)      \n",
    "    "
   ]
  },
  {
   "cell_type": "code",
   "execution_count": 53,
   "id": "9423952b",
   "metadata": {},
   "outputs": [
    {
     "name": "stdout",
     "output_type": "stream",
     "text": [
      "4\n",
      "0 0 0 1 \n",
      "0 0 1 2 \n",
      "0 1 2 2 \n",
      "1 2 2 2 \n"
     ]
    }
   ],
   "source": [
    "n=int(input())\n",
    "for i in range(n):\n",
    "    for j in range(n):\n",
    "        if j<n-i-1:\n",
    "            print(0,end=' ')\n",
    "        elif j==n-i-1:\n",
    "            print(1,end=' ')\n",
    "        else:\n",
    "            print(2,end=' ')\n",
    "    print()       "
   ]
  },
  {
   "cell_type": "code",
   "execution_count": 20,
   "id": "0c4f21df",
   "metadata": {},
   "outputs": [
    {
     "name": "stdout",
     "output_type": "stream",
     "text": [
      "52 65 5221 515 \n",
      "515\n"
     ]
    }
   ],
   "source": [
    "n = [int(x) for x in input().strip().split()]\n",
    "l = n[0]\n",
    "b = -2**31\n",
    "for i in range(0, len(n)):\n",
    "    if n[i] > l:\n",
    "        l = n[i]\n",
    "for i in range(0, len(n)):\n",
    "    if l > n[i] > b:\n",
    "        b = n[i]\n",
    "print(b)\n"
   ]
  },
  {
   "cell_type": "code",
   "execution_count": 29,
   "id": "6fd6bc5e",
   "metadata": {},
   "outputs": [
    {
     "data": {
      "text/plain": [
       "[[1, 2], [2, 100], [3, 4]]"
      ]
     },
     "execution_count": 29,
     "metadata": {},
     "output_type": "execute_result"
    }
   ],
   "source": [
    "#2d list\n",
    "a=[[1,2],\n",
    "   [2,3],\n",
    "   [3,4]]\n",
    "a[1][1]=100\n",
    "a"
   ]
  },
  {
   "cell_type": "code",
   "execution_count": 31,
   "id": "ebff5eaf",
   "metadata": {},
   "outputs": [
    {
     "name": "stdout",
     "output_type": "stream",
     "text": [
      "3\n",
      "4\n"
     ]
    },
    {
     "data": {
      "text/plain": [
       "[4, 4, 4]"
      ]
     },
     "execution_count": 31,
     "metadata": {},
     "output_type": "execute_result"
    }
   ],
   "source": [
    "rows=int(input())\n",
    "cols=int(input())\n",
    "l1=[cols]*rows\n",
    "l1"
   ]
  },
  {
   "cell_type": "code",
   "execution_count": 36,
   "id": "0efff38a",
   "metadata": {},
   "outputs": [
    {
     "name": "stdout",
     "output_type": "stream",
     "text": [
      "2\n",
      "3\n",
      "5\n",
      "6\n",
      "7\n",
      "8\n"
     ]
    }
   ],
   "source": [
    "a=[[2,3],[5,6],[7,8]]\n",
    "for i in a: \n",
    "    for j in i:\n",
    "        print(j)"
   ]
  },
  {
   "cell_type": "code",
   "execution_count": 42,
   "id": "11153955",
   "metadata": {},
   "outputs": [
    {
     "name": "stdout",
     "output_type": "stream",
     "text": [
      "4\n",
      "4\n",
      "[0, 0, 0, 0]\n",
      "[0, 0, 0, 0]\n",
      "[0, 0, 0, 0]\n",
      "[0, 0, 0, 0]\n"
     ]
    }
   ],
   "source": [
    "rows=int(input())\n",
    "cols=int(input())\n",
    "l1=[]\n",
    "for i in range(rows):\n",
    "    l1.append([0]*cols)\n",
    "for i in l1:\n",
    "    print(i)"
   ]
  },
  {
   "cell_type": "code",
   "execution_count": 51,
   "id": "4ef16aac",
   "metadata": {},
   "outputs": [
    {
     "name": "stdout",
     "output_type": "stream",
     "text": [
      "2\n",
      "2\n",
      "1\n",
      "2\n",
      "3\n",
      "4\n",
      "1\n",
      "2\n",
      "3\n",
      "4\n",
      "[[1, 2], [3, 4]]\n",
      "[[1, 2], [3, 4]]\n",
      "[[2, 4], [6, 8]]\n"
     ]
    }
   ],
   "source": [
    "rows=int(input())\n",
    "cols=int(input())\n",
    "l1=[]\n",
    "l2=[]\n",
    "l3=[]\n",
    "for i in range(rows):\n",
    "    l1.append([0]*cols)\n",
    "for i in range(rows):\n",
    "    l2.append([0]*cols)\n",
    "for i in range(rows):\n",
    "    l3.append([0]*cols)\n",
    "for i in range(rows):\n",
    "    for j in range(cols):\n",
    "        l1[i][j]=int(input())\n",
    "for i in range(rows):\n",
    "    for j in range(cols):\n",
    "        l2[i][j]=int(input())\n",
    "for i in range(rows):\n",
    "    for j in range(cols):\n",
    "        l3[i][j]=l1[i][j]+l2[i][j]\n",
    "print(l1)\n",
    "print(l2)\n",
    "print(l3)\n",
    "        \n"
   ]
  },
  {
   "cell_type": "code",
   "execution_count": 57,
   "id": "d0920208",
   "metadata": {},
   "outputs": [
    {
     "name": "stdout",
     "output_type": "stream",
     "text": [
      "2\n",
      "3\n",
      "4\n",
      "5\n",
      "6\n",
      "[4, 9, 16, 25, 36]\n"
     ]
    }
   ],
   "source": [
    "li=[]\n",
    "for i in range(5):\n",
    "    v=int(input())\n",
    "    li.append(v)\n",
    "a=[x**2 for x in li]\n",
    "print(a)"
   ]
  },
  {
   "cell_type": "code",
   "execution_count": 60,
   "id": "03823163",
   "metadata": {},
   "outputs": [
    {
     "name": "stdout",
     "output_type": "stream",
     "text": [
      "2 3 4 5 \n",
      "[4, 9, 16, 25]\n"
     ]
    }
   ],
   "source": [
    "n=[int(x) for x in input().split()]\n",
    "a=[x**2 for x in n]\n",
    "print(a)"
   ]
  },
  {
   "cell_type": "code",
   "execution_count": 8,
   "id": "2e2ae0a6",
   "metadata": {},
   "outputs": [
    {
     "name": "stdout",
     "output_type": "stream",
     "text": [
      "(10, 12, 14.2, [1, 12])\n"
     ]
    }
   ],
   "source": [
    "abc=(10,12,14.2,[10,12])\n",
    "abc[3][0]=1\n",
    "print(abc)"
   ]
  },
  {
   "cell_type": "code",
   "execution_count": 11,
   "id": "8aa91329",
   "metadata": {},
   "outputs": [
    {
     "name": "stdout",
     "output_type": "stream",
     "text": [
      "not present\n"
     ]
    }
   ],
   "source": [
    "abc=('hello','chitkara','university')\n",
    "if 'rajpura' not in abc:\n",
    "    print('not present')"
   ]
  },
  {
   "cell_type": "code",
   "execution_count": 15,
   "id": "8d74dcf8",
   "metadata": {},
   "outputs": [
    {
     "name": "stdout",
     "output_type": "stream",
     "text": [
      "[(10, 20, 100), (40, 50, 100), (70, 80, 100)]\n"
     ]
    }
   ],
   "source": [
    "li=[(10,20,30),(40,50,60),(70,80,90)]\n",
    "li[0]=list(li[0])\n",
    "li[1]=list(li[1])\n",
    "li[2]=list(li[2])\n",
    "li[0][2]=100\n",
    "li[1][2]=100\n",
    "li[2][2]=100\n",
    "li[0]=tuple(li[0])\n",
    "li[1]=tuple(li[1])\n",
    "li[2]=tuple(li[2])\n",
    "\n",
    "\n",
    "print(li)\n"
   ]
  },
  {
   "cell_type": "code",
   "execution_count": 23,
   "id": "82c70711",
   "metadata": {},
   "outputs": [
    {
     "name": "stdout",
     "output_type": "stream",
     "text": [
      "[(10, 20, 100), (40, 50, 100), (70, 80, 100)]\n"
     ]
    }
   ],
   "source": [
    "lst=[(10,20,30),(40,50,60),(70,80,90)]\n",
    "li=[]\n",
    "for x in lst:\n",
    "    y=x[:-1]+(100,)\n",
    "    li.append(y)\n",
    "print(li)    "
   ]
  },
  {
   "cell_type": "code",
   "execution_count": 24,
   "id": "5df191eb",
   "metadata": {},
   "outputs": [
    {
     "name": "stdout",
     "output_type": "stream",
     "text": [
      "[(10, 20, 100), (40, 50, 100), (70, 80, 100)]\n"
     ]
    }
   ],
   "source": [
    "li=[(10,20,30),(40,50,60),(70,80,90)]\n",
    "for i in range(len(li)):\n",
    "    li[i]=list(li[i])\n",
    "    li[i][-1]=100\n",
    "    li[i]=tuple(li[i])\n",
    "print(li)    "
   ]
  },
  {
   "cell_type": "code",
   "execution_count": 35,
   "id": "eafa4cce",
   "metadata": {},
   "outputs": [
    {
     "name": "stdout",
     "output_type": "stream",
     "text": [
      "color to be checked blue\n",
      "true\n"
     ]
    }
   ],
   "source": [
    "lst=[('red','white','blue'),\n",
    "     ('green','pink','purple'),\n",
    "     ('orange','yellow','lime')]\n",
    "n=input('color to be checked ')\n",
    "for i in range(len(lst)):\n",
    "    for j in range(len(lst)):\n",
    "        if lst[i][j]==n:\n",
    "            print('true')\n"
   ]
  },
  {
   "cell_type": "code",
   "execution_count": 53,
   "id": "debfae47",
   "metadata": {},
   "outputs": [
    {
     "name": "stdout",
     "output_type": "stream",
     "text": [
      "[(1, 2), (3, 4, 6, 723), (134, 234, 34)]\n"
     ]
    }
   ],
   "source": [
    "lst=[(3,4,6,723),(1,2),(134,234,34)]\n",
    "for i in range(len(lst)):\n",
    "    if i<len(lst)-1:\n",
    "        if lst[i][0]>lst[i+1][0]:\n",
    "            l2=lst[i]\n",
    "            lst[i]=lst[i+1]\n",
    "            lst[i+1]=l2\n",
    "print(lst)            \n",
    "            "
   ]
  },
  {
   "cell_type": "code",
   "execution_count": 52,
   "id": "1ea99152",
   "metadata": {},
   "outputs": [
    {
     "name": "stdout",
     "output_type": "stream",
     "text": [
      "[[3, 12], [8, 4]]\n"
     ]
    }
   ],
   "source": [
    "lst=[[12,3],[4,8]]\n",
    "for i in range(len(lst)):\n",
    "    lst[i][0],lst[i][1]=lst[i][1],lst[i][0]\n",
    "print(lst)    "
   ]
  },
  {
   "cell_type": "code",
   "execution_count": 6,
   "id": "4407023d",
   "metadata": {},
   "outputs": [
    {
     "name": "stdout",
     "output_type": "stream",
     "text": [
      "1 2 3 4 5\n",
      "[1, 3, 5]\n"
     ]
    }
   ],
   "source": [
    "n=[int(x) for x in input().split() if int(x)%2!=0]\n",
    "print(n)    "
   ]
  },
  {
   "cell_type": "code",
   "execution_count": 8,
   "id": "56c9eeae",
   "metadata": {},
   "outputs": [
    {
     "name": "stdout",
     "output_type": "stream",
     "text": [
      "1 4 5 7\n",
      "[1, 16, 25, 49]\n"
     ]
    }
   ],
   "source": [
    "n=[int(x)**2 for x in input().split() ]\n",
    "print(n)"
   ]
  },
  {
   "cell_type": "code",
   "execution_count": 17,
   "id": "b739ff2d",
   "metadata": {},
   "outputs": [
    {
     "name": "stdout",
     "output_type": "stream",
     "text": [
      "ab cd ef\n",
      "['ab', 'cd', 'ef']\n"
     ]
    }
   ],
   "source": [
    "X=[x for x in input().split()]\n",
    "Y=[x if x!='b' else 'e' for x in X]\n",
    "print(Y)"
   ]
  },
  {
   "cell_type": "code",
   "execution_count": 22,
   "id": "bbb7b4cd",
   "metadata": {},
   "outputs": [
    {
     "data": {
      "text/plain": [
       "['u?', 'r', 'whr', 'navjeet', 'helo']"
      ]
     },
     "execution_count": 22,
     "metadata": {},
     "output_type": "execute_result"
    }
   ],
   "source": [
    "s1=\"helo navjeet whr r u?\"\n",
    "s2=s1.split()\n",
    "s2[::-1]"
   ]
  },
  {
   "cell_type": "code",
   "execution_count": 23,
   "id": "ca1f2645",
   "metadata": {},
   "outputs": [],
   "source": [
    "#isupper()\n",
    "#islower()\n",
    "#isdecimal()\n",
    "#isalnum()"
   ]
  },
  {
   "cell_type": "code",
   "execution_count": 30,
   "id": "c2964e8a",
   "metadata": {},
   "outputs": [
    {
     "name": "stdout",
     "output_type": "stream",
     "text": [
      "Hello Hi\n",
      "2 5 1\n"
     ]
    }
   ],
   "source": [
    "s1=input()\n",
    "count1=0\n",
    "count2=0\n",
    "count3=0\n",
    "\n",
    "for i in s1:\n",
    "    if i.isupper():\n",
    "        count1+=1\n",
    "    elif i.islower():\n",
    "        count2+=1\n",
    "    elif i.isspace():\n",
    "        count3+=1\n",
    "    \n",
    "print(count1,count2,count3)    "
   ]
  },
  {
   "cell_type": "code",
   "execution_count": 31,
   "id": "fb4fca51",
   "metadata": {},
   "outputs": [
    {
     "name": "stdout",
     "output_type": "stream",
     "text": [
      "hello\n"
     ]
    },
    {
     "data": {
      "text/plain": [
       "'HELLO'"
      ]
     },
     "execution_count": 31,
     "metadata": {},
     "output_type": "execute_result"
    }
   ],
   "source": [
    "s1=input()\n",
    "s1.upper()"
   ]
  },
  {
   "cell_type": "code",
   "execution_count": 4,
   "id": "17c1ee08",
   "metadata": {},
   "outputs": [
    {
     "name": "stdout",
     "output_type": "stream",
     "text": [
      "2 5 4 26 525 451\n",
      "2 5 7 968 5 85\n",
      "[4, 26, 525, 451]\n"
     ]
    }
   ],
   "source": [
    "A=[int(x) for x in input().split()]\n",
    "B=[int(x) for x in input().split()]\n",
    "li=[]\n",
    "for i in range(len(A)):\n",
    "    if A[i] not in B:\n",
    "        li.append(A[i])\n",
    "print(li)        \n",
    "        "
   ]
  },
  {
   "cell_type": "code",
   "execution_count": 10,
   "id": "e2a8807b",
   "metadata": {},
   "outputs": [
    {
     "name": "stdout",
     "output_type": "stream",
     "text": [
      "(1, 2, 3, 16, 52)\n"
     ]
    }
   ],
   "source": [
    "a=(2,52,16,3,1)\n",
    "b=list(a)\n",
    "b.sort()\n",
    "c=tuple(b)\n",
    "print(c)"
   ]
  },
  {
   "cell_type": "code",
   "execution_count": 19,
   "id": "033f800d",
   "metadata": {},
   "outputs": [
    {
     "name": "stdout",
     "output_type": "stream",
     "text": [
      "[1, 2, 6, 42]\n"
     ]
    }
   ],
   "source": [
    "\n",
    "a=[(2),(42),(1),(6)]\n",
    "for i in range(len(a)):\n",
    "    for j in range(i+1,len(a)):\n",
    "        if a[i]>a[j]:\n",
    "            temp=a[i]\n",
    "            a[i]=a[j]\n",
    "            a[j]=temp\n",
    "print(a)        "
   ]
  },
  {
   "cell_type": "code",
   "execution_count": 28,
   "id": "c6422a71",
   "metadata": {},
   "outputs": [
    {
     "name": "stdout",
     "output_type": "stream",
     "text": [
      "[67, 10, 13, 20, 22, 55]\n"
     ]
    }
   ],
   "source": [
    "lst=[10,20,10,22,13,20,55,10,67,67]\n",
    "b=set(lst)\n",
    "lst=list(b)\n",
    "print(lst)"
   ]
  },
  {
   "cell_type": "code",
   "execution_count": 29,
   "id": "993b54b4",
   "metadata": {},
   "outputs": [
    {
     "name": "stdout",
     "output_type": "stream",
     "text": [
      "[10, 20, 22, 13, 55, 67]\n"
     ]
    }
   ],
   "source": [
    "l=[]\n",
    "lst=[10,20,10,22,13,20,55,10,67,67]\n",
    "for i in lst:\n",
    "    if i not in l:\n",
    "        l.append(i)\n",
    "print(l)        "
   ]
  },
  {
   "cell_type": "code",
   "execution_count": 38,
   "id": "336ac7ce",
   "metadata": {},
   "outputs": [
    {
     "name": "stdout",
     "output_type": "stream",
     "text": [
      "10 10 10 10 20 20 20 50 50 40\n",
      "[10, 20, 50]\n"
     ]
    }
   ],
   "source": [
    " \n",
    "\n",
    "li=[int(x) for x in input().strip().split()]\n",
    "li1=[]\n",
    "for i in range(len(li)):\n",
    "    count=0\n",
    "    for k in range(i+1,len(li)):\n",
    "        if li[i]==li[k]:\n",
    "            count=+1\n",
    "    if count>0:\n",
    "        li1.append(li[i]) \n",
    "li1=set(li1)\n",
    "li1=list(li1)\n",
    "print(li1)"
   ]
  },
  {
   "cell_type": "code",
   "execution_count": 21,
   "id": "0f0ec3ff",
   "metadata": {},
   "outputs": [
    {
     "name": "stdout",
     "output_type": "stream",
     "text": [
      "aa\n",
      "not heterogram\n"
     ]
    }
   ],
   "source": [
    "n=(input())\n",
    "heterogram=True\n",
    "for i in range(len(n)):\n",
    "    count=0\n",
    "    for j in range(i+1,len(n)):\n",
    "        if n[i]==n[j]:\n",
    "            count=+1\n",
    "    if count>0:\n",
    "        heterogram=False\n",
    "if heterogram:\n",
    "    print('heterogram')\n",
    "else:\n",
    "    print('not heterogram')"
   ]
  },
  {
   "cell_type": "code",
   "execution_count": 2,
   "id": "fd0d26ce",
   "metadata": {},
   "outputs": [
    {
     "name": "stdout",
     "output_type": "stream",
     "text": [
      "{'hello', 34.2, 12}\n"
     ]
    }
   ],
   "source": [
    "a={12,34.2,'hello'}\n",
    "print(a)"
   ]
  },
  {
   "cell_type": "code",
   "execution_count": 4,
   "id": "88aec6a6",
   "metadata": {},
   "outputs": [
    {
     "data": {
      "text/plain": [
       "{10, 12, 32}"
      ]
     },
     "execution_count": 4,
     "metadata": {},
     "output_type": "execute_result"
    }
   ],
   "source": [
    "b=(10,12,32,12)\n",
    "c=set(b)\n",
    "c"
   ]
  },
  {
   "cell_type": "code",
   "execution_count": 5,
   "id": "89124880",
   "metadata": {},
   "outputs": [
    {
     "name": "stdout",
     "output_type": "stream",
     "text": [
      "hello\n",
      "34.2\n",
      "12\n"
     ]
    }
   ],
   "source": [
    "a={12,34.2,'hello',12}\n",
    "for i in a:\n",
    "    print(i)"
   ]
  },
  {
   "cell_type": "code",
   "execution_count": 9,
   "id": "71290271",
   "metadata": {},
   "outputs": [
    {
     "data": {
      "text/plain": [
       "{12, 34.2, 'chitkara', 'hello'}"
      ]
     },
     "execution_count": 9,
     "metadata": {},
     "output_type": "execute_result"
    }
   ],
   "source": [
    "a={12,34.2,'hello',12}\n",
    "a.add('chitkara')\n",
    "a"
   ]
  },
  {
   "cell_type": "code",
   "execution_count": 12,
   "id": "e1c1d930",
   "metadata": {},
   "outputs": [
    {
     "data": {
      "text/plain": [
       "{12, 14.23, 34.2, 375, 'hello'}"
      ]
     },
     "execution_count": 12,
     "metadata": {},
     "output_type": "execute_result"
    }
   ],
   "source": [
    "a={12,34.2,'hello',12}\n",
    "b={14.23,375}\n",
    "a.update(b)\n",
    "a"
   ]
  },
  {
   "cell_type": "code",
   "execution_count": 28,
   "id": "356a464b",
   "metadata": {},
   "outputs": [],
   "source": [
    "a={12,34.2,'hello',12}\n",
    "del a\n"
   ]
  },
  {
   "cell_type": "code",
   "execution_count": 38,
   "id": "4a70fdf7",
   "metadata": {},
   "outputs": [
    {
     "data": {
      "text/plain": [
       "{3, 35, 49.56}"
      ]
     },
     "execution_count": 38,
     "metadata": {},
     "output_type": "execute_result"
    }
   ],
   "source": [
    "#a.union(b) #a|b\n",
    "#a.intersection(b) #a&b\n",
    "#a-b  #b-a\n",
    "a={12,34.2,'hello',12}\n",
    "b={3,35,49.56,12}\n",
    "b-a"
   ]
  },
  {
   "cell_type": "code",
   "execution_count": 41,
   "id": "84724aaa",
   "metadata": {},
   "outputs": [
    {
     "name": "stdout",
     "output_type": "stream",
     "text": [
      "123456\n",
      "2386\n",
      "{'2', '6', '3'}\n"
     ]
    }
   ],
   "source": [
    "#wapp to return set of identical items from 2 sets\n",
    "a=set(input())\n",
    "b=set(input())\n",
    "print(a&b)"
   ]
  },
  {
   "cell_type": "code",
   "execution_count": 42,
   "id": "de791487",
   "metadata": {},
   "outputs": [
    {
     "name": "stdout",
     "output_type": "stream",
     "text": [
      "12255\n",
      "5225\n",
      "{'2', '5'}\n"
     ]
    }
   ],
   "source": [
    "a=set(input())\n",
    "b=set(input())\n",
    "print(a&b)"
   ]
  },
  {
   "cell_type": "code",
   "execution_count": 44,
   "id": "c2ece43d",
   "metadata": {},
   "outputs": [
    {
     "name": "stdout",
     "output_type": "stream",
     "text": [
      "123\n",
      "456\n",
      "no common element\n"
     ]
    }
   ],
   "source": [
    "a=set(input())\n",
    "b=set(input())\n",
    "c=a&b\n",
    "if len(c)>0:\n",
    "    print(c)\n",
    "else:\n",
    "    print('no common element')"
   ]
  },
  {
   "cell_type": "code",
   "execution_count": null,
   "id": "b0dc31f1",
   "metadata": {},
   "outputs": [
    {
     "name": "stdout",
     "output_type": "stream",
     "text": [
      "3\n",
      "1\n",
      "2\n",
      "3\n",
      "3\n",
      "12\n"
     ]
    }
   ],
   "source": [
    "a=set()\n",
    "b=set()\n",
    "n=int(input())\n",
    "for i in range(n):\n",
    "    v=int(input())\n",
    "    a.add(v)\n",
    "n1=int(input())\n",
    "for i in range(n1):\n",
    "    v=int(input())\n",
    "    b.add(v)\n",
    "print(\"intersection\",a&b)\n",
    "print(\"union\",a|b)    "
   ]
  },
  {
   "cell_type": "code",
   "execution_count": 19,
   "id": "b2067298",
   "metadata": {},
   "outputs": [
    {
     "name": "stdout",
     "output_type": "stream",
     "text": [
      "10\n",
      "10 appears for 6 times\n"
     ]
    }
   ],
   "source": [
    "a=[10,21,22,10,13,10]\n",
    "v=int(input())\n",
    "c=0\n",
    "for i in range(len(a)):\n",
    "    if v in a:\n",
    "        c+=1\n",
    "print(v,\"appears for\",c,\"\n",
    "      times\")"
   ]
  },
  {
   "cell_type": "code",
   "execution_count": 3,
   "id": "4cdbd5b3",
   "metadata": {},
   "outputs": [
    {
     "name": "stdout",
     "output_type": "stream",
     "text": [
      "2 3 2 1 5 2 3 64 1\n",
      "2\n",
      "2 appears for  3 times\n"
     ]
    }
   ],
   "source": [
    "a=[ int(x) for x in input().split()]\n",
    "n=int(input())\n",
    "for i in range(len(a)):\n",
    "    count=0\n",
    "    for j in range(i,len(a)):\n",
    "        if a[i]==a[j]:\n",
    "            count+=1\n",
    "    \n",
    "print(n,'appears for ',b,'times')    \n",
    "    "
   ]
  },
  {
   "cell_type": "code",
   "execution_count": 11,
   "id": "6f2d4097",
   "metadata": {},
   "outputs": [
    {
     "name": "stdout",
     "output_type": "stream",
     "text": [
      "2 3 2 1 5 2 3 64 1\n",
      "64 1\n",
      "1 2\n",
      "2 3\n",
      "3 2\n",
      "5 1\n"
     ]
    }
   ],
   "source": [
    "a=[ int(x) for x in input().split()]\n",
    "a.sort()\n",
    "c=list(set(a))\n",
    "for i in c:\n",
    "    count=0\n",
    "    for j in a:\n",
    "        if i==j:\n",
    "            count+=1\n",
    "    print(i,count)        "
   ]
  },
  {
   "cell_type": "code",
   "execution_count": 15,
   "id": "783221a1",
   "metadata": {},
   "outputs": [
    {
     "name": "stdout",
     "output_type": "stream",
     "text": [
      "Python is great and Java also\n"
     ]
    }
   ],
   "source": [
    "a=['Python','is','great','and','Java','is','also','great']\n",
    "a.pop(7)\n",
    "a.pop(5)\n",
    "print(*a)"
   ]
  },
  {
   "cell_type": "code",
   "execution_count": 17,
   "id": "b694f83f",
   "metadata": {},
   "outputs": [
    {
     "name": "stdout",
     "output_type": "stream",
     "text": [
      "python is great and java is also great\n",
      "python is great and java also\n"
     ]
    }
   ],
   "source": [
    "a=[x for x in input().split()]\n",
    "li=[]\n",
    "for i in a:\n",
    "    if i not in li:\n",
    "        li.append(i)\n",
    "print(*li)        "
   ]
  },
  {
   "cell_type": "code",
   "execution_count": 13,
   "id": "a458e76f",
   "metadata": {},
   "outputs": [
    {
     "data": {
      "text/plain": [
       "{'manjeet': [1, 1, 1]}"
      ]
     },
     "execution_count": 13,
     "metadata": {},
     "output_type": "execute_result"
    }
   ],
   "source": [
    "dict1={'manjeet':[1,1,1],'akash':[1,1,1]}\n",
    "dict1.pop('akash')\n",
    "dict1"
   ]
  },
  {
   "cell_type": "code",
   "execution_count": 14,
   "id": "47f0a541",
   "metadata": {},
   "outputs": [
    {
     "name": "stdout",
     "output_type": "stream",
     "text": [
      "{'A': 101, 'B': 102, 'C': 103}\n"
     ]
    }
   ],
   "source": [
    "keys=['A','B','C']\n",
    "values=[101,102,103]\n",
    "a=dict(zip(keys,values))\n",
    "print(a)"
   ]
  },
  {
   "cell_type": "code",
   "execution_count": 15,
   "id": "bf21108b",
   "metadata": {},
   "outputs": [
    {
     "data": {
      "text/plain": [
       "{'A': 101, 'B': 102, 'C': 103, 'D': 104}"
      ]
     },
     "execution_count": 15,
     "metadata": {},
     "output_type": "execute_result"
    }
   ],
   "source": [
    "dict1={'A':101,'B':102}\n",
    "dict2={'C':103,'D':104}\n",
    "dict1.update(dict2)\n",
    "dict1"
   ]
  },
  {
   "cell_type": "code",
   "execution_count": 18,
   "id": "03c6f0fb",
   "metadata": {},
   "outputs": [
    {
     "name": "stdout",
     "output_type": "stream",
     "text": [
      "exists\n"
     ]
    }
   ],
   "source": [
    "dict1={'A':101,'B':102,'C':103}\n",
    "if 'A' in dict1.keys():\n",
    "    print(\"exists\")"
   ]
  },
  {
   "cell_type": "code",
   "execution_count": 24,
   "id": "fbc5a3a2",
   "metadata": {},
   "outputs": [
    {
     "data": {
      "text/plain": [
       "{'manjeet': [1], 'akash': [1, 8, 9]}"
      ]
     },
     "execution_count": 24,
     "metadata": {},
     "output_type": "execute_result"
    }
   ],
   "source": [
    "dict1={'manjeet':[1],'akash':[1,8,9]}\n",
    "a=dict1.values()\n",
    "for i in a:\n",
    "    for j in i:\n",
    "        b=i.count(j)\n",
    "    if b>1:\n",
    "        dict1.pop(j)\n",
    "dict1   "
   ]
  },
  {
   "cell_type": "code",
   "execution_count": 2,
   "id": "06fca9e3",
   "metadata": {},
   "outputs": [
    {
     "name": "stdout",
     "output_type": "stream",
     "text": [
      "121\n",
      "transaction proceed\n"
     ]
    }
   ],
   "source": [
    "n=int(input())\n",
    "a=n\n",
    "sum=0\n",
    "while n>0:\n",
    "    digit=n%10\n",
    "    sum=sum*10+digit\n",
    "    n=n//10\n",
    "if sum==a:\n",
    "    print('transaction proceed')\n",
    "else:\n",
    "    print('declined')\n",
    "    "
   ]
  },
  {
   "cell_type": "code",
   "execution_count": 6,
   "id": "ec72a73a",
   "metadata": {},
   "outputs": [
    {
     "name": "stdout",
     "output_type": "stream",
     "text": [
      "210\n",
      "600\n"
     ]
    }
   ],
   "source": [
    "n=int(input())\n",
    "amt=0\n",
    "if n<=100:\n",
    "    amt=0\n",
    "elif 100<n<=200:\n",
    "    amt=5*(n-100)\n",
    "else:\n",
    "    amt=5*100+10*(n-200)\n",
    "print(amt)        "
   ]
  },
  {
   "cell_type": "code",
   "execution_count": 11,
   "id": "18820c50",
   "metadata": {},
   "outputs": [
    {
     "name": "stdout",
     "output_type": "stream",
     "text": [
      "m\n",
      "15000\n",
      "16500.0\n"
     ]
    }
   ],
   "source": [
    "n=input()\n",
    "a=int(input())\n",
    "b='m'\n",
    "c='f'\n",
    "if n==b:\n",
    "    if a<10000:\n",
    "        a=a+(a*0.1)+(a*0.025)\n",
    "    else:\n",
    "        a=a+(a*0.1)\n",
    "elif n==c:\n",
    "    if a<10000:\n",
    "        a=a+(a*0.15)+(a*0.025)\n",
    "    else:\n",
    "        a=a+(a*0.15)\n",
    "print(a)        "
   ]
  },
  {
   "cell_type": "code",
   "execution_count": 12,
   "id": "af690cc3",
   "metadata": {},
   "outputs": [
    {
     "name": "stdout",
     "output_type": "stream",
     "text": [
      "5\n",
      "1\n",
      "2\n",
      "3\n",
      "4\n",
      "5\n",
      "[1, 4, 9, 16, 25]\n"
     ]
    }
   ],
   "source": [
    "n=int(input())\n",
    "li=[]\n",
    "for i in range(n):\n",
    "    a=int(input())\n",
    "    \n",
    "    li.append(a**2)\n",
    "print(li)    "
   ]
  },
  {
   "cell_type": "code",
   "execution_count": 1,
   "id": "ea8a2903",
   "metadata": {},
   "outputs": [
    {
     "name": "stdout",
     "output_type": "stream",
     "text": [
      "1 2 3 4 5 6\n",
      "abc bcd cde def efg fgh\n",
      "{'1': 'abc', '2': 'bcd', '3': 'cde', '4': 'def', '5': 'efg', '6': 'fgh'}\n"
     ]
    }
   ],
   "source": [
    "li=[x for x in input().split()]\n",
    "li1=[x for x in input().split()]\n",
    "a=dict(zip(li,li1))\n",
    "print(a)"
   ]
  },
  {
   "cell_type": "code",
   "execution_count": 6,
   "id": "c57a3f03",
   "metadata": {},
   "outputs": [
    {
     "name": "stdout",
     "output_type": "stream",
     "text": [
      "[1, 4, 9]\n"
     ]
    }
   ],
   "source": [
    "li=[1,2,3]\n",
    "a=map(lambda x:x**2,li)\n",
    "print(list(a))"
   ]
  },
  {
   "cell_type": "code",
   "execution_count": 18,
   "id": "31400674",
   "metadata": {},
   "outputs": [
    {
     "name": "stdout",
     "output_type": "stream",
     "text": [
      "{'a': 1, 'b': 2, 'c': 3}\n"
     ]
    }
   ],
   "source": [
    "li=['a','b','c']\n",
    "l2=[1,2,3]\n",
    "a=map(lambda li,l2:(li,l2),li,l2)\n",
    "print(dict(a))"
   ]
  },
  {
   "cell_type": "code",
   "execution_count": 20,
   "id": "1978b0db",
   "metadata": {},
   "outputs": [
    {
     "name": "stdout",
     "output_type": "stream",
     "text": [
      "{1: 1, 2: 4, 3: 9}\n"
     ]
    }
   ],
   "source": [
    "li=[1,2,3]\n",
    "a=map(lambda x:x**2,li)\n",
    "a=list(a)\n",
    "b=map(lambda li,a:(li,a),li,a)\n",
    "print(dict(b))"
   ]
  },
  {
   "cell_type": "code",
   "execution_count": 21,
   "id": "6aade100",
   "metadata": {},
   "outputs": [
    {
     "name": "stdout",
     "output_type": "stream",
     "text": [
      "{1: 1, 2: 4, 3: 9}\n"
     ]
    }
   ],
   "source": [
    "li=[1,2,3]\n",
    "a=map(lambda li:(li,li**2),li)\n",
    "print(dict(a))"
   ]
  },
  {
   "cell_type": "code",
   "execution_count": 23,
   "id": "13a59dd9",
   "metadata": {},
   "outputs": [
    {
     "name": "stdout",
     "output_type": "stream",
     "text": [
      "[3, 45, 11]\n"
     ]
    }
   ],
   "source": [
    "li=[2,3,45,11,8,22,100]\n",
    "a=filter(lambda x:x%2!=0,li)\n",
    "print(list(a))"
   ]
  },
  {
   "cell_type": "code",
   "execution_count": 27,
   "id": "804776e2",
   "metadata": {},
   "outputs": [
    {
     "name": "stdout",
     "output_type": "stream",
     "text": [
      "['i', 'a', 'a']\n"
     ]
    }
   ],
   "source": [
    "li='chitkara'\n",
    "a=filter(lambda x:x=='a' or x=='e' or x=='i' or x=='o' or x=='u',li)\n",
    "print(list(a))\n"
   ]
  },
  {
   "cell_type": "code",
   "execution_count": 34,
   "id": "49764b8c",
   "metadata": {},
   "outputs": [
    {
     "name": "stdout",
     "output_type": "stream",
     "text": [
      "1\n"
     ]
    }
   ],
   "source": [
    "from functools import reduce\n",
    "li=[1,2,3,4,5,6]\n",
    "a=reduce(lambda x,y:x if x<y else y,li)\n",
    "print(a)"
   ]
  },
  {
   "cell_type": "code",
   "execution_count": 2,
   "id": "14922a6d",
   "metadata": {},
   "outputs": [
    {
     "name": "stdout",
     "output_type": "stream",
     "text": [
      "1 5 9 2 6 10 3 7 11 4 8 12 "
     ]
    }
   ],
   "source": [
    "li=[[1,2,3,4],[5,6,7,8],[9,10,11,12]]\n",
    "for j in range(4):\n",
    "    for ele in li:\n",
    "        print(ele[j],end = ' ')"
   ]
  },
  {
   "cell_type": "code",
   "execution_count": 4,
   "id": "67198584",
   "metadata": {},
   "outputs": [
    {
     "ename": "ValueError",
     "evalue": "invalid literal for int() with base 10: ''",
     "output_type": "error",
     "traceback": [
      "\u001b[1;31m---------------------------------------------------------------------------\u001b[0m",
      "\u001b[1;31mValueError\u001b[0m                                Traceback (most recent call last)",
      "Input \u001b[1;32mIn [4]\u001b[0m, in \u001b[0;36m<cell line: 41>\u001b[1;34m()\u001b[0m\n\u001b[0;32m     37\u001b[0m     \u001b[38;5;28;01mreturn\u001b[39;00m mat, nRows, mCols\n\u001b[0;32m     40\u001b[0m \u001b[38;5;66;03m#main\u001b[39;00m\n\u001b[1;32m---> 41\u001b[0m t \u001b[38;5;241m=\u001b[39m \u001b[38;5;28;43mint\u001b[39;49m\u001b[43m(\u001b[49m\u001b[43mstdin\u001b[49m\u001b[38;5;241;43m.\u001b[39;49m\u001b[43mreadline\u001b[49m\u001b[43m(\u001b[49m\u001b[43m)\u001b[49m\u001b[38;5;241;43m.\u001b[39;49m\u001b[43mrstrip\u001b[49m\u001b[43m(\u001b[49m\u001b[43m)\u001b[49m\u001b[43m)\u001b[49m\n\u001b[0;32m     43\u001b[0m \u001b[38;5;28;01mwhile\u001b[39;00m t \u001b[38;5;241m>\u001b[39m \u001b[38;5;241m0\u001b[39m :\n\u001b[0;32m     45\u001b[0m     mat, nRows, mCols \u001b[38;5;241m=\u001b[39m take2DInput()\n",
      "\u001b[1;31mValueError\u001b[0m: invalid literal for int() with base 10: ''"
     ]
    }
   ],
   "source": [
    "from sys import stdin\n",
    "\n",
    "def findLargest(arr, nRows, mCols):\n",
    "    #Your code goes here\n",
    "    sum1= -2147483648\n",
    "    sum2= -2147483648\n",
    "    index1=0\n",
    "    index2=0\n",
    "    for i in range(nRows):\n",
    "        sum=0\n",
    "        for j in range(mCols):\n",
    "            sum+=arr[i][j]\n",
    "        if sum>sum1:\n",
    "            sum1=sum\n",
    "            index1=i\n",
    "    for j in range(mCols):\n",
    "        sum=0\n",
    "        for i in range(nRows):\n",
    "            sum+=arr[i][j]\n",
    "        if sum>sum1:\n",
    "            sum2=sum\n",
    "            index2=j  \n",
    "    if sum1>=sum2:\n",
    "        print('row', index1, sum1)\n",
    "    elif sum2>sum1:\n",
    "        print('column', index2, sum2)\n",
    "#Taking Input Using Fast I/O\n",
    "def take2DInput() :\n",
    "    li = stdin.readline().rstrip().split(\" \")\n",
    "    nRows = int(li[0])\n",
    "    mCols = int(li[1])\n",
    "    \n",
    "    if nRows == 0 :\n",
    "        return list(), 0, 0\n",
    "    \n",
    "    mat = [list(map(int, input().strip().split(\" \"))) for row in range(nRows)]\n",
    "    return mat, nRows, mCols\n",
    "\n",
    "\n",
    "#main\n",
    "t = int(stdin.readline().rstrip())\n",
    "\n",
    "while t > 0 :\n",
    "\n",
    "    mat, nRows, mCols = take2DInput()\n",
    "    findLargest(mat, nRows, mCols)\n",
    "\n",
    "    t -= 1"
   ]
  },
  {
   "cell_type": "code",
   "execution_count": 5,
   "id": "ced5d657",
   "metadata": {},
   "outputs": [
    {
     "name": "stdout",
     "output_type": "stream",
     "text": [
      "5\n"
     ]
    }
   ],
   "source": [
    "d = {1:2, 'abc':5, 'def':7}\n",
    "print(d.get(0,5))"
   ]
  },
  {
   "cell_type": "code",
   "execution_count": 1,
   "id": "72be1e79",
   "metadata": {},
   "outputs": [
    {
     "name": "stdout",
     "output_type": "stream",
     "text": [
      "7\n"
     ]
    }
   ],
   "source": [
    "a = {1:2,'list':[1,2],3:5}\n",
    "b = {4:5,3:7}\n",
    "a.update(b)\n",
    "print(a[3])"
   ]
  },
  {
   "cell_type": "code",
   "execution_count": 2,
   "id": "8fb6a4dc",
   "metadata": {},
   "outputs": [
    {
     "name": "stdout",
     "output_type": "stream",
     "text": [
      "[3, 5]\n"
     ]
    }
   ],
   "source": [
    "a = {1:2,'list':[1,2],3:5}\n",
    "a.pop('list')\n",
    "a['list'] = [3,5]\n",
    "print(a['list'])"
   ]
  },
  {
   "cell_type": "code",
   "execution_count": 3,
   "id": "f156d231",
   "metadata": {},
   "outputs": [
    {
     "name": "stdout",
     "output_type": "stream",
     "text": [
      "5 5\n"
     ]
    }
   ],
   "source": [
    "s = {1,2,3,5,4,2,3,1}\n",
    "print(len(s),end= ' ')\n",
    "s.add(4)\n",
    "s.add(3)\n",
    "print(len(s))"
   ]
  },
  {
   "cell_type": "code",
   "execution_count": 4,
   "id": "7714980a",
   "metadata": {},
   "outputs": [
    {
     "ename": "AttributeError",
     "evalue": "'dict' object has no attribute 'add'",
     "output_type": "error",
     "traceback": [
      "\u001b[1;31m---------------------------------------------------------------------------\u001b[0m",
      "\u001b[1;31mAttributeError\u001b[0m                            Traceback (most recent call last)",
      "Input \u001b[1;32mIn [4]\u001b[0m, in \u001b[0;36m<cell line: 2>\u001b[1;34m()\u001b[0m\n\u001b[0;32m      1\u001b[0m s \u001b[38;5;241m=\u001b[39m {}\n\u001b[1;32m----> 2\u001b[0m \u001b[43ms\u001b[49m\u001b[38;5;241;43m.\u001b[39;49m\u001b[43madd\u001b[49m(\u001b[38;5;241m4\u001b[39m)\n\u001b[0;32m      3\u001b[0m s\u001b[38;5;241m.\u001b[39madd(\u001b[38;5;241m4\u001b[39m)\n\u001b[0;32m      4\u001b[0m \u001b[38;5;28mprint\u001b[39m(\u001b[38;5;28mlen\u001b[39m(s))\n",
      "\u001b[1;31mAttributeError\u001b[0m: 'dict' object has no attribute 'add'"
     ]
    }
   ],
   "source": [
    "s = {}\n",
    "s.add(4)\n",
    "s.add(4)\n",
    "print(len(s))"
   ]
  },
  {
   "cell_type": "code",
   "execution_count": 5,
   "id": "25dbe171",
   "metadata": {},
   "outputs": [
    {
     "name": "stdout",
     "output_type": "stream",
     "text": [
      "{1, 2, 3, 4, 5}\n"
     ]
    },
    {
     "data": {
      "text/plain": [
       "{2, 3, 4, 5}"
      ]
     },
     "execution_count": 5,
     "metadata": {},
     "output_type": "execute_result"
    }
   ],
   "source": [
    "set={1,2,3,4,3,5,1,2}\n",
    "print(set)\n",
    "set.pop()\n",
    "set"
   ]
  },
  {
   "cell_type": "code",
   "execution_count": 4,
   "id": "fa367606",
   "metadata": {},
   "outputs": [
    {
     "name": "stdout",
     "output_type": "stream",
     "text": [
      "hello world\n",
      "2\n",
      "lr\n"
     ]
    }
   ],
   "source": [
    "n=input().split()\n",
    "w=int(input())\n",
    "new=\"\"\n",
    "for i in n:\n",
    "    new=new+i[w]\n",
    "print(new)\n",
    "    "
   ]
  },
  {
   "cell_type": "code",
   "execution_count": 4,
   "id": "69a6a7c5",
   "metadata": {},
   "outputs": [
    {
     "name": "stdout",
     "output_type": "stream",
     "text": [
      "<generator object <genexpr> at 0x000001C958E43F20>\n"
     ]
    }
   ],
   "source": [
    "a=[324,43,5]\n",
    "print(t[:-1]+500 for t in a)"
   ]
  },
  {
   "cell_type": "code",
   "execution_count": 153,
   "id": "7611c6c5",
   "metadata": {},
   "outputs": [
    {
     "name": "stdout",
     "output_type": "stream",
     "text": [
      "5\n",
      "7\n",
      "7\n",
      "Bently porsche\n"
     ]
    }
   ],
   "source": [
    "print(\"5\")\n",
    "print(\"7\")\n",
    "print(\"7\")\n",
    "print(\"Bently porsche\")"
   ]
  },
  {
   "cell_type": "code",
   "execution_count": 151,
   "id": "b1644d60",
   "metadata": {},
   "outputs": [
    {
     "name": "stdout",
     "output_type": "stream",
     "text": [
      "None\n"
     ]
    }
   ],
   "source": [
    "#random numbers\n",
    "import random \n",
    "s=random.seed(5)\n",
    "print(random.seed(5))"
   ]
  },
  {
   "cell_type": "code",
   "execution_count": 129,
   "id": "893911f3",
   "metadata": {},
   "outputs": [
    {
     "name": "stdout",
     "output_type": "stream",
     "text": [
      "4\n",
      "{None}\n"
     ]
    }
   ],
   "source": [
    "n=int(input())\n",
    "a=[]\n",
    "for i in range(n):\n",
    "    s=random.seed(10)\n",
    "    a.append(s)\n",
    "print(set(a))    "
   ]
  },
  {
   "cell_type": "code",
   "execution_count": 158,
   "id": "5d0b2f82",
   "metadata": {},
   "outputs": [
    {
     "name": "stdout",
     "output_type": "stream",
     "text": [
      "515\n",
      "130\n",
      "200\n"
     ]
    }
   ],
   "source": [
    "#generate 3 random no bw 100&555 which are divisible by 5\n",
    "for i in range(3):\n",
    "    s=random.randrange(100,555,5)\n",
    "    print(s)"
   ]
  },
  {
   "cell_type": "code",
   "execution_count": 165,
   "id": "0ad1ed0b",
   "metadata": {},
   "outputs": [
    {
     "name": "stdout",
     "output_type": "stream",
     "text": [
      "abc\n"
     ]
    }
   ],
   "source": [
    "lst=['abc','xyz','pqr']\n",
    "print(random.choice(lst))"
   ]
  },
  {
   "cell_type": "code",
   "execution_count": 27,
   "id": "d0fec0cb",
   "metadata": {},
   "outputs": [
    {
     "name": "stdout",
     "output_type": "stream",
     "text": [
      "1\n",
      "5\n",
      "b:2\n"
     ]
    }
   ],
   "source": [
    "import random\n",
    "lst=[1,2,4,'abc',32,'xyz']\n",
    "st={1,5,3,'am'}\n",
    "dict={'abc':1,'b':2}\n",
    "print(random.choice(lst))\n",
    "print(random.choice(list(st)))\n",
    "s=random.choice(list(dict))\n",
    "print(s,end=':')\n",
    "print(dict[s])"
   ]
  },
  {
   "cell_type": "code",
   "execution_count": 34,
   "id": "96c1030a",
   "metadata": {},
   "outputs": [
    {
     "name": "stdout",
     "output_type": "stream",
     "text": [
      "[123, 789, 101, 303, 456]\n"
     ]
    }
   ],
   "source": [
    "lst=[123,456,789,101,202,303]\n",
    "print(random.sample(lst,5))"
   ]
  },
  {
   "cell_type": "code",
   "execution_count": 40,
   "id": "f056564c",
   "metadata": {},
   "outputs": [
    {
     "name": "stdout",
     "output_type": "stream",
     "text": [
      "5\n",
      "[190, 982, 974, 480, 790]\n",
      "3\n",
      "[974, 982, 190]\n"
     ]
    }
   ],
   "source": [
    "#create a list of random int & select multiple items from given list\n",
    "n=int(input())\n",
    "li=[]\n",
    "for i in range(n):\n",
    "    s=random.randint(1,1000)\n",
    "    li.append(s)\n",
    "print(li)    \n",
    "k=int(input())\n",
    "print(random.sample(li,k))"
   ]
  },
  {
   "cell_type": "code",
   "execution_count": 48,
   "id": "9a14cb44",
   "metadata": {},
   "outputs": [
    {
     "name": "stdout",
     "output_type": "stream",
     "text": [
      "15.54403108838303\n"
     ]
    }
   ],
   "source": [
    "print(random.uniform(15,30))"
   ]
  },
  {
   "cell_type": "code",
   "execution_count": 1,
   "id": "cd6bbb85",
   "metadata": {},
   "outputs": [
    {
     "ename": "NameError",
     "evalue": "name 'random' is not defined",
     "output_type": "error",
     "traceback": [
      "\u001b[1;31m---------------------------------------------------------------------------\u001b[0m",
      "\u001b[1;31mNameError\u001b[0m                                 Traceback (most recent call last)",
      "Input \u001b[1;32mIn [1]\u001b[0m, in \u001b[0;36m<cell line: 2>\u001b[1;34m()\u001b[0m\n\u001b[0;32m      1\u001b[0m \u001b[38;5;66;03m#wapp a python program to set a random seed & get a random no bw 0&1\u001b[39;00m\n\u001b[1;32m----> 2\u001b[0m \u001b[43mrandom\u001b[49m\u001b[38;5;241m.\u001b[39mseed(\u001b[38;5;241m0\u001b[39m)\n\u001b[0;32m      3\u001b[0m \u001b[38;5;28mprint\u001b[39m(random\u001b[38;5;241m.\u001b[39muniform(\u001b[38;5;241m0\u001b[39m,\u001b[38;5;241m1\u001b[39m))\n",
      "\u001b[1;31mNameError\u001b[0m: name 'random' is not defined"
     ]
    }
   ],
   "source": [
    "#wapp a python program to set a random seed & get a random no bw 0&1\n",
    "random.seed(0)\n",
    "print(random.uniform(0,1))"
   ]
  },
  {
   "cell_type": "code",
   "execution_count": 2,
   "id": "c0c8b13d",
   "metadata": {},
   "outputs": [],
   "source": [
    "from tkinter import *\n",
    "import tkinter.messagebox as tmsg\n",
    "root=Tk()\n",
    "root.geometry('455x233')\n",
    "root.title('Candidates')\n",
    "def elem():\n",
    "    tmsg.showinfo('Vote Casted',f'Thanks for voting')\n",
    "var=StringVar()\n",
    "var.set('Radio')\n",
    "Label(root,text='Select Your Candidate ',font='lucida 19 bold',\n",
    "     justify=LEFT,padx=14).pack()\n",
    "radio=Radiobutton(root,text='Candidate A',padx=14,variable='var',value='Candidate A').pack(anchor='w')\n",
    "radio=Radiobutton(root,text='Candidate B',padx=14,variable='var',value='Candidate B').pack(anchor='w')\n",
    "radio=Radiobutton(root,text='Candidate C',padx=14,variable='var',value='Candidate C').pack(anchor='w')\n",
    "radio=Radiobutton(root,text='Candidate D',padx=14,variable='var',value='Candidate D').pack(anchor='w')\n",
    "Button(text='Vote Now',command=elem).pack()\n",
    "root.mainloop()"
   ]
  },
  {
   "cell_type": "code",
   "execution_count": 7,
   "id": "f7aca0bb",
   "metadata": {},
   "outputs": [
    {
     "name": "stdout",
     "output_type": "stream",
     "text": [
      "helo hi\n",
      "HELOHI\n"
     ]
    }
   ],
   "source": [
    "s=input().split()\n",
    "str1=''\n",
    "for i in s:\n",
    "        if i.isupper():\n",
    "            i=i.lower()\n",
    "            str1=str1+i\n",
    "        elif i.islower():\n",
    "            i=i.upper()\n",
    "            str1=str1+i\n",
    "print(str1)"
   ]
  },
  {
   "cell_type": "code",
   "execution_count": 5,
   "id": "9634f510",
   "metadata": {},
   "outputs": [
    {
     "name": "stdout",
     "output_type": "stream",
     "text": [
      "1 2 3 5 9\n",
      "7\n",
      "no not found\n"
     ]
    }
   ],
   "source": [
    "li=[int(x) for x in input().split()]\n",
    "n=int(input())\n",
    "for i in range(len(li)):\n",
    "    if li[i]==n:\n",
    "        print('no found at',i)\n",
    "if n not in li:\n",
    "    print('no not found')"
   ]
  },
  {
   "cell_type": "code",
   "execution_count": 11,
   "id": "4b8fa99f",
   "metadata": {},
   "outputs": [
    {
     "name": "stdout",
     "output_type": "stream",
     "text": [
      "2 8 6 9 4 55 3 \n",
      "9\n"
     ]
    },
    {
     "ename": "TypeError",
     "evalue": "object of type 'NoneType' has no len()",
     "output_type": "error",
     "traceback": [
      "\u001b[1;31m---------------------------------------------------------------------------\u001b[0m",
      "\u001b[1;31mTypeError\u001b[0m                                 Traceback (most recent call last)",
      "Input \u001b[1;32mIn [11]\u001b[0m, in \u001b[0;36m<cell line: 17>\u001b[1;34m()\u001b[0m\n\u001b[0;32m     15\u001b[0m arr\u001b[38;5;241m=\u001b[39marr\u001b[38;5;241m.\u001b[39msort()\n\u001b[0;32m     16\u001b[0m x\u001b[38;5;241m=\u001b[39m\u001b[38;5;28mint\u001b[39m(\u001b[38;5;28minput\u001b[39m())\n\u001b[1;32m---> 17\u001b[0m result\u001b[38;5;241m=\u001b[39m\u001b[43mbinary_search\u001b[49m\u001b[43m(\u001b[49m\u001b[43marr\u001b[49m\u001b[43m,\u001b[49m\u001b[43mx\u001b[49m\u001b[43m)\u001b[49m\n\u001b[0;32m     18\u001b[0m \u001b[38;5;28;01mif\u001b[39;00m result\u001b[38;5;241m!=\u001b[39m\u001b[38;5;241m-\u001b[39m\u001b[38;5;241m1\u001b[39m:\n\u001b[0;32m     19\u001b[0m     \u001b[38;5;28mprint\u001b[39m(\u001b[38;5;124m'\u001b[39m\u001b[38;5;124mno is present\u001b[39m\u001b[38;5;124m'\u001b[39m,result)\n",
      "Input \u001b[1;32mIn [11]\u001b[0m, in \u001b[0;36mbinary_search\u001b[1;34m(arr, x)\u001b[0m\n\u001b[0;32m      1\u001b[0m \u001b[38;5;28;01mdef\u001b[39;00m \u001b[38;5;21mbinary_search\u001b[39m(arr,x):\n\u001b[0;32m      2\u001b[0m     low\u001b[38;5;241m=\u001b[39m\u001b[38;5;241m0\u001b[39m\n\u001b[1;32m----> 3\u001b[0m     high\u001b[38;5;241m=\u001b[39m\u001b[38;5;28;43mlen\u001b[39;49m\u001b[43m(\u001b[49m\u001b[43marr\u001b[49m\u001b[43m)\u001b[49m\u001b[38;5;241m-\u001b[39m\u001b[38;5;241m1\u001b[39m\n\u001b[0;32m      4\u001b[0m     mid\u001b[38;5;241m=\u001b[39m\u001b[38;5;241m0\u001b[39m\n\u001b[0;32m      5\u001b[0m     \u001b[38;5;28;01mwhile\u001b[39;00m low\u001b[38;5;241m<\u001b[39m\u001b[38;5;241m=\u001b[39mhigh:\n",
      "\u001b[1;31mTypeError\u001b[0m: object of type 'NoneType' has no len()"
     ]
    }
   ],
   "source": [
    "def binary_search(arr,x):\n",
    "    low=0\n",
    "    high=len(arr)-1\n",
    "    mid=0\n",
    "    while low<=high:\n",
    "        mid=(low+high)//2\n",
    "        if arr[mid]<x:\n",
    "            low=mid+1\n",
    "        elif arr[mid]>x:\n",
    "            high=mid-1\n",
    "        else:\n",
    "            return mid\n",
    "    return -1\n",
    "arr=[int(x) for x in input().split()]\n",
    "arr=arr.sort()\n",
    "x=int(input())\n",
    "result=binary_search(arr,x)\n",
    "if result!=-1:\n",
    "    print('no is present',result)\n",
    "else:\n",
    "    print('no not present')\n",
    "    "
   ]
  },
  {
   "cell_type": "code",
   "execution_count": 19,
   "id": "16a69fcb",
   "metadata": {},
   "outputs": [
    {
     "name": "stdout",
     "output_type": "stream",
     "text": [
      "2 5 8 3 7 4 9 28 1 58\n",
      "[1, 2, 3, 4, 5, 7, 8, 9, 28, 58]\n",
      "58\n"
     ]
    },
    {
     "ename": "KeyboardInterrupt",
     "evalue": "",
     "output_type": "error",
     "traceback": [
      "\u001b[1;31m---------------------------------------------------------------------------\u001b[0m",
      "\u001b[1;31mKeyboardInterrupt\u001b[0m                         Traceback (most recent call last)",
      "Input \u001b[1;32mIn [19]\u001b[0m, in \u001b[0;36m<cell line: 7>\u001b[1;34m()\u001b[0m\n\u001b[0;32m      6\u001b[0m end\u001b[38;5;241m=\u001b[39m\u001b[38;5;28mlen\u001b[39m(arr)\u001b[38;5;241m-\u001b[39m\u001b[38;5;241m1\u001b[39m\n\u001b[0;32m      7\u001b[0m \u001b[38;5;28;01mwhile\u001b[39;00m beg\u001b[38;5;241m<\u001b[39m\u001b[38;5;241m=\u001b[39mend:\n\u001b[1;32m----> 8\u001b[0m     mid\u001b[38;5;241m=\u001b[39m(beg\u001b[38;5;241m+\u001b[39mend)\u001b[38;5;241m/\u001b[39m\u001b[38;5;241m/\u001b[39m\u001b[38;5;241m2\u001b[39m\n\u001b[0;32m      9\u001b[0m     \u001b[38;5;28;01mif\u001b[39;00m arr[mid]\u001b[38;5;241m==\u001b[39mx:\n\u001b[0;32m     10\u001b[0m         \u001b[38;5;28mprint\u001b[39m(\u001b[38;5;124m'\u001b[39m\u001b[38;5;124mno is present at\u001b[39m\u001b[38;5;124m'\u001b[39m,mid)\n",
      "\u001b[1;31mKeyboardInterrupt\u001b[0m: "
     ]
    }
   ],
   "source": [
    "arr=[int(x) for x in input().split()]\n",
    "arr.sort()\n",
    "print(arr)\n",
    "x=int(input())\n",
    "beg=0\n",
    "end=len(arr)-1\n",
    "while beg<=end:\n",
    "    mid=(beg+end)//2\n",
    "    if arr[mid]==x:\n",
    "        print('no is present at',mid)\n",
    "        break\n",
    "    elif arr[mid]<x:\n",
    "        beg=mid\n",
    "    elif arr[mid]>x:\n",
    "        end=mid\n",
    "if x not in arr:\n",
    "    print('no is not present')"
   ]
  },
  {
   "cell_type": "code",
   "execution_count": 14,
   "id": "abfb0422",
   "metadata": {},
   "outputs": [],
   "source": [
    "x=[3,4,1,2,6,5]\n",
    "x.sort()"
   ]
  },
  {
   "cell_type": "code",
   "execution_count": 15,
   "id": "155160be",
   "metadata": {},
   "outputs": [
    {
     "name": "stdout",
     "output_type": "stream",
     "text": [
      "[1, 2, 3, 4, 5, 6]\n"
     ]
    }
   ],
   "source": [
    "print(x)"
   ]
  },
  {
   "cell_type": "code",
   "execution_count": 21,
   "id": "6f32c625",
   "metadata": {},
   "outputs": [
    {
     "name": "stdout",
     "output_type": "stream",
     "text": [
      "846513 784651 86532 96532 95632\n",
      "[86532, 95632, 96532, 784651, 846513]\n",
      "8654\n",
      "no is not present\n"
     ]
    }
   ],
   "source": [
    "arr=[int(x) for x in input().split()]\n",
    "arr.sort()\n",
    "print(arr)\n",
    "x=int(input())\n",
    "beg=0\n",
    "end=len(arr)-1\n",
    "while beg<=end:\n",
    "    mid=(beg+end)//2\n",
    "    if arr[mid]==x:\n",
    "        print('no is present at',mid)\n",
    "        break\n",
    "    elif arr[mid]<x:\n",
    "        beg=mid+1\n",
    "    elif arr[mid]>x:\n",
    "        end=mid-1\n",
    "else:\n",
    "    print('no is not present')"
   ]
  },
  {
   "cell_type": "code",
   "execution_count": 25,
   "id": "edfabaa2",
   "metadata": {},
   "outputs": [
    {
     "name": "stdout",
     "output_type": "stream",
     "text": [
      "10 2 22 9 8 6\n",
      "[2, 10, 22, 9, 8, 6]\n",
      "[2, 10, 22, 9, 8, 6]\n",
      "[2, 10, 9, 22, 8, 6]\n",
      "[2, 10, 9, 8, 22, 6]\n",
      "[2, 10, 9, 8, 6, 22]\n",
      "[2, 10, 9, 8, 6, 22]\n",
      "[2, 9, 10, 8, 6, 22]\n",
      "[2, 9, 8, 10, 6, 22]\n",
      "[2, 9, 8, 6, 10, 22]\n",
      "[2, 9, 8, 6, 10, 22]\n",
      "[2, 9, 8, 6, 10, 22]\n",
      "[2, 8, 9, 6, 10, 22]\n",
      "[2, 8, 6, 9, 10, 22]\n",
      "[2, 8, 6, 9, 10, 22]\n",
      "[2, 8, 6, 9, 10, 22]\n",
      "[2, 8, 6, 9, 10, 22]\n",
      "[2, 6, 8, 9, 10, 22]\n",
      "[2, 6, 8, 9, 10, 22]\n",
      "[2, 6, 8, 9, 10, 22]\n",
      "[2, 6, 8, 9, 10, 22]\n",
      "[2, 6, 8, 9, 10, 22]\n",
      "[2, 6, 8, 9, 10, 22]\n",
      "[2, 6, 8, 9, 10, 22]\n",
      "[2, 6, 8, 9, 10, 22]\n",
      "[2, 6, 8, 9, 10, 22]\n",
      "0:00:00\n"
     ]
    }
   ],
   "source": [
    "#bubble sort\n",
    "from datetime import datetime\n",
    "\n",
    "li=[int(x) for x in input().split()]\n",
    "a=datetime.now()\n",
    "for n in range(1,len(li)):\n",
    "    for i in range(len(li)-1):\n",
    "        if li[i]>li[i+1]:\n",
    "            li[i],li[i+1]=li[i+1],li[i]\n",
    "        print(li)\n",
    "b=datetime.now()\n",
    "print(b-a)"
   ]
  },
  {
   "cell_type": "code",
   "execution_count": 31,
   "id": "99310dab",
   "metadata": {},
   "outputs": [
    {
     "name": "stdout",
     "output_type": "stream",
     "text": [
      "10 2 22 9 8 6\n",
      "[10, 2, 22, 9, 8, 6]\n",
      "[2, 10, 22, 9, 8, 6]\n",
      "[2, 10, 22, 9, 8, 6]\n",
      "[2, 9, 10, 22, 8, 6]\n",
      "[2, 8, 9, 10, 22, 6]\n",
      "[2, 6, 8, 9, 10, 22]\n",
      "0:00:00\n"
     ]
    }
   ],
   "source": [
    "#insertion sort\n",
    "from datetime import datetime\n",
    "\n",
    "li=[int(x) for x in input().split()]\n",
    "a=datetime.now()\n",
    "\n",
    "for i in range(len(li)):\n",
    "    for j in range(i):\n",
    "        if li[j]>li[i]:\n",
    "            li.insert(j,li[i])\n",
    "            li.pop(i+1)\n",
    "    print(li)\n",
    "b=datetime.now()\n",
    "print(b-a)"
   ]
  },
  {
   "cell_type": "code",
   "execution_count": null,
   "id": "61577ff6",
   "metadata": {},
   "outputs": [],
   "source": [
    "#selection sort\n",
    "li=[int(x) for x in input().split()]\n"
   ]
  },
  {
   "cell_type": "code",
   "execution_count": 10,
   "id": "ba078f1e",
   "metadata": {},
   "outputs": [
    {
     "name": "stdout",
     "output_type": "stream",
     "text": [
      "5\n",
      "0 0 0 0 1\n",
      "0 0 0 1 2\n",
      "0 0 1 2 2\n",
      "0 1 2 2 2\n",
      "1 2 2 2 2\n"
     ]
    }
   ],
   "source": [
    "n=int(input())\n",
    "li=[]\n",
    "for i in range(n):\n",
    "    li1=[]\n",
    "    for j in range(n):\n",
    "        if j<n-i-1:\n",
    "            li1.append('0')\n",
    "        elif j==n-i-1:\n",
    "            li1.append('1')\n",
    "        else:\n",
    "            li1.append('2')\n",
    "    li.append(li1) \n",
    "for i in li:\n",
    "    print(*i)\n",
    "    \n",
    "    "
   ]
  },
  {
   "cell_type": "code",
   "execution_count": 8,
   "id": "193bd253",
   "metadata": {},
   "outputs": [
    {
     "name": "stdout",
     "output_type": "stream",
     "text": [
      "1634\n",
      "armstrong\n"
     ]
    }
   ],
   "source": [
    "n=int(input())\n",
    "a=n\n",
    "sum=0\n",
    "m=len(str(n))\n",
    "while n>0:\n",
    "    digit=n%10\n",
    "    sum=sum+digit**m\n",
    "    n=n//10\n",
    "if a==sum:\n",
    "    print('armstrong')\n",
    "    "
   ]
  },
  {
   "cell_type": "code",
   "execution_count": 13,
   "id": "8f43e517",
   "metadata": {},
   "outputs": [
    {
     "name": "stdout",
     "output_type": "stream",
     "text": [
      "121\n",
      "palindrome\n"
     ]
    }
   ],
   "source": [
    "n=int(input())\n",
    "a=n\n",
    "sum=0\n",
    "while n>0:\n",
    "    digit=n%10\n",
    "    sum=sum*10+digit\n",
    "    n=n//10\n",
    "if sum==a:\n",
    "    print('palindrome')\n",
    "else:\n",
    "    print('not')"
   ]
  },
  {
   "cell_type": "code",
   "execution_count": 15,
   "id": "a00e25b9",
   "metadata": {},
   "outputs": [
    {
     "name": "stdout",
     "output_type": "stream",
     "text": [
      "aba\n",
      "pa\n"
     ]
    }
   ],
   "source": [
    "n=input()\n",
    "a=n[::-1]\n",
    "if a==n:\n",
    "    print('pa')\n",
    "else:\n",
    "    print('not')"
   ]
  },
  {
   "cell_type": "code",
   "execution_count": 17,
   "id": "d6de9d3a",
   "metadata": {},
   "outputs": [
    {
     "name": "stdout",
     "output_type": "stream",
     "text": [
      "bhuvesh\n",
      "hsevuhb\n"
     ]
    }
   ],
   "source": [
    "n=input()\n",
    "print(n[::-1])"
   ]
  },
  {
   "cell_type": "code",
   "execution_count": 19,
   "id": "66d9791d",
   "metadata": {},
   "outputs": [
    {
     "name": "stdout",
     "output_type": "stream",
     "text": [
      "uhygtfrdfghjkljhg\n",
      "u 1\n",
      "h 3\n",
      "y 1\n",
      "g 3\n",
      "t 1\n",
      "f 2\n",
      "r 1\n",
      "d 1\n",
      "f 2\n",
      "g 3\n",
      "h 3\n",
      "j 2\n",
      "k 1\n",
      "l 1\n",
      "j 2\n",
      "h 3\n",
      "g 3\n"
     ]
    }
   ],
   "source": [
    "n=input()\n",
    "for i in n:\n",
    "    count1=n.count(i)\n",
    "    print(i,count1)\n",
    "    "
   ]
  },
  {
   "cell_type": "code",
   "execution_count": 31,
   "id": "08bd0351",
   "metadata": {},
   "outputs": [
    {
     "name": "stdout",
     "output_type": "stream",
     "text": [
      "aaaabbc\n",
      "a 4\n",
      "b 2\n",
      "c 1\n"
     ]
    }
   ],
   "source": [
    "n=input()\n",
    "li=[]\n",
    "\n",
    "for i in n:\n",
    "    if i not in li:\n",
    "        li.append(i)\n",
    "for i in li:\n",
    "    count1=n.count(i)\n",
    "    print(i,count1)"
   ]
  },
  {
   "cell_type": "code",
   "execution_count": 33,
   "id": "b9017695",
   "metadata": {},
   "outputs": [
    {
     "name": "stdout",
     "output_type": "stream",
     "text": [
      "aasdcxdxczs\n",
      "{'a': 2, 's': 2, 'd': 2, 'c': 2, 'x': 2, 'z': 1}\n"
     ]
    }
   ],
   "source": [
    "n=input()\n",
    "li=[]\n",
    "li2=[]\n",
    "for i in n:\n",
    "    if i not in li:\n",
    "        li.append(i)\n",
    "for i in li:\n",
    "    count1=n.count(i)\n",
    "    li2.append(count1)\n",
    "a=dict(zip(li,li2))\n",
    "print(a)"
   ]
  },
  {
   "cell_type": "code",
   "execution_count": 34,
   "id": "6a17522a",
   "metadata": {},
   "outputs": [
    {
     "name": "stdout",
     "output_type": "stream",
     "text": [
      "aadfsasfdzdzdz\n",
      "3 11\n"
     ]
    }
   ],
   "source": [
    "n=input()\n",
    "count1=0\n",
    "count2=0\n",
    "a=['a','e','i','o','u']\n",
    "for i in n:\n",
    "    if i in a:\n",
    "        count1+=1\n",
    "    else:\n",
    "        count2+=1\n",
    "print(count1,count2)        "
   ]
  },
  {
   "cell_type": "code",
   "execution_count": 46,
   "id": "1c49552f",
   "metadata": {},
   "outputs": [
    {
     "name": "stdout",
     "output_type": "stream",
     "text": [
      "asaszsdxc\n",
      "s s z s d x c\n"
     ]
    }
   ],
   "source": [
    "n=list(input())\n",
    "a=['a','e','i','o','u']\n",
    "li=[]\n",
    "for i in n:\n",
    "    if i not in a:\n",
    "        li.append(i)\n",
    "print(*li)        "
   ]
  },
  {
   "cell_type": "code",
   "execution_count": 47,
   "id": "03506072",
   "metadata": {},
   "outputs": [
    {
     "name": "stdout",
     "output_type": "stream",
     "text": [
      "5\n",
      "120\n"
     ]
    }
   ],
   "source": [
    "n=int(input())\n",
    "p=1\n",
    "for d in range(n,0,-1):\n",
    "    p=p*d\n",
    "print(p)    "
   ]
  },
  {
   "cell_type": "code",
   "execution_count": 49,
   "id": "5af7f9c9",
   "metadata": {},
   "outputs": [
    {
     "name": "stdout",
     "output_type": "stream",
     "text": [
      "3\n",
      "prime\n"
     ]
    }
   ],
   "source": [
    "n=int(input())\n",
    "prime=True\n",
    "for i in range(2,n):\n",
    "    if n%i==0:\n",
    "        prime=False\n",
    "        break\n",
    "if prime:\n",
    "    print('prime')\n",
    "else:\n",
    "    print('not prime')"
   ]
  },
  {
   "cell_type": "code",
   "execution_count": 51,
   "id": "f32a278d",
   "metadata": {},
   "outputs": [
    {
     "name": "stdout",
     "output_type": "stream",
     "text": [
      "9\n",
      "0\n",
      "1\n",
      "1\n",
      "2\n",
      "3\n",
      "5\n",
      "8\n"
     ]
    }
   ],
   "source": [
    "n=int(input())\n",
    "a=0\n",
    "b=1\n",
    "sum=1\n",
    "while a<=n:\n",
    "    print(a)\n",
    "    a=b\n",
    "    b=sum\n",
    "    sum=a+b"
   ]
  },
  {
   "cell_type": "code",
   "execution_count": 53,
   "id": "f7b001ff",
   "metadata": {},
   "outputs": [
    {
     "name": "stdout",
     "output_type": "stream",
     "text": [
      "8\n",
      "0\n",
      "1\n",
      "1\n",
      "2\n",
      "3\n",
      "5\n",
      "8\n",
      "13\n"
     ]
    }
   ],
   "source": [
    "n=int(input())\n",
    "a=0\n",
    "b=1\n",
    "sum=1\n",
    "for i in range(n):\n",
    "    print(a)\n",
    "    a=b\n",
    "    b=sum\n",
    "    sum=a+b"
   ]
  },
  {
   "cell_type": "code",
   "execution_count": 54,
   "id": "550733c9",
   "metadata": {},
   "outputs": [
    {
     "name": "stdout",
     "output_type": "stream",
     "text": [
      "{8, 10}\n"
     ]
    }
   ],
   "source": [
    "print({x*2 for x in {4,5}})"
   ]
  },
  {
   "cell_type": "code",
   "execution_count": 55,
   "id": "af9d302e",
   "metadata": {},
   "outputs": [
    {
     "name": "stdout",
     "output_type": "stream",
     "text": [
      "['i', 'b', 'c']\n"
     ]
    }
   ],
   "source": [
    "txt='i#b#c'\n",
    "x=txt.split('#')\n",
    "print(x)"
   ]
  },
  {
   "cell_type": "code",
   "execution_count": 56,
   "id": "1698155c",
   "metadata": {},
   "outputs": [
    {
     "ename": "TypeError",
     "evalue": "'tuple' object does not support item assignment",
     "output_type": "error",
     "traceback": [
      "\u001b[1;31m---------------------------------------------------------------------------\u001b[0m",
      "\u001b[1;31mTypeError\u001b[0m                                 Traceback (most recent call last)",
      "Input \u001b[1;32mIn [56]\u001b[0m, in \u001b[0;36m<cell line: 5>\u001b[1;34m()\u001b[0m\n\u001b[0;32m      3\u001b[0m     \u001b[38;5;28;01mreturn\u001b[39;00m tup\n\u001b[0;32m      4\u001b[0m at\u001b[38;5;241m=\u001b[39m(\u001b[38;5;241m100\u001b[39m,\u001b[38;5;241m200\u001b[39m,\u001b[38;5;241m300\u001b[39m)\n\u001b[1;32m----> 5\u001b[0m \u001b[38;5;28mprint\u001b[39m(\u001b[43mti\u001b[49m\u001b[43m(\u001b[49m\u001b[43mat\u001b[49m\u001b[43m)\u001b[49m)\n",
      "Input \u001b[1;32mIn [56]\u001b[0m, in \u001b[0;36mti\u001b[1;34m(tup)\u001b[0m\n\u001b[0;32m      1\u001b[0m \u001b[38;5;28;01mdef\u001b[39;00m \u001b[38;5;21mti\u001b[39m(tup):\n\u001b[1;32m----> 2\u001b[0m     tup[\u001b[38;5;241m1\u001b[39m]\u001b[38;5;241m=\u001b[39m\u001b[38;5;241m800\u001b[39m\n\u001b[0;32m      3\u001b[0m     \u001b[38;5;28;01mreturn\u001b[39;00m tup\n",
      "\u001b[1;31mTypeError\u001b[0m: 'tuple' object does not support item assignment"
     ]
    }
   ],
   "source": [
    "def ti(tup):\n",
    "    tup[1]=800\n",
    "    return tup\n",
    "at=(100,200,300)\n",
    "print(ti(at))\n"
   ]
  },
  {
   "cell_type": "code",
   "execution_count": 59,
   "id": "ea39d8e9",
   "metadata": {},
   "outputs": [
    {
     "name": "stdout",
     "output_type": "stream",
     "text": [
      "10\n",
      "161 182 161 154 176 170 167 171 170 174\n",
      "168\n"
     ]
    }
   ],
   "source": [
    "n=int(input())\n",
    "li=[int(x) for x in input().split()]\n",
    "sum=0\n",
    "for i in li:\n",
    "    sum+=i\n",
    "sum=sum//n \n",
    "print(sum)"
   ]
  },
  {
   "cell_type": "code",
   "execution_count": 60,
   "id": "3b189639",
   "metadata": {},
   "outputs": [
    {
     "name": "stdout",
     "output_type": "stream",
     "text": [
      "Welcome To Chitkara\n",
      "emocleW oT araktihC "
     ]
    }
   ],
   "source": [
    "n=input().split()\n",
    "for i in n:\n",
    "    print(i[::-1],end=' ')"
   ]
  },
  {
   "cell_type": "code",
   "execution_count": 62,
   "id": "865e4017",
   "metadata": {},
   "outputs": [
    {
     "name": "stdout",
     "output_type": "stream",
     "text": [
      "keep exploring\n",
      "2\n",
      "ep"
     ]
    }
   ],
   "source": [
    "n=input().split()\n",
    "a=int(input())\n",
    "for i in n:\n",
    "    print(i[a],end='')"
   ]
  },
  {
   "cell_type": "code",
   "execution_count": 63,
   "id": "3b02f26c",
   "metadata": {},
   "outputs": [
    {
     "name": "stdout",
     "output_type": "stream",
     "text": [
      "1 2 5 10\n",
      "5 10 100 200\n",
      "1 2 100 200 303\n"
     ]
    }
   ],
   "source": [
    "n=[int(x) for x in input().split()]\n",
    "m=[int(x) for x in input().split()]\n",
    "li=[]\n",
    "for i in n:\n",
    "    if i not in m:\n",
    "        if i not in li:\n",
    "            li.append(i)\n",
    "for i in m:\n",
    "    if i not in n:\n",
    "        if i not in li:\n",
    "            li.append(i) \n",
    "sum=0\n",
    "for i in li:\n",
    "    sum=sum+i\n",
    "    print(i,end=' ')\n",
    "print(sum)    \n",
    "    \n",
    "        "
   ]
  },
  {
   "cell_type": "code",
   "execution_count": 67,
   "id": "2da49181",
   "metadata": {},
   "outputs": [
    {
     "name": "stdout",
     "output_type": "stream",
     "text": [
      "0\n",
      "0\n"
     ]
    }
   ],
   "source": [
    "n=int(input())\n",
    "li=[]\n",
    "if n==0:\n",
    "    print('0')\n",
    "else:    \n",
    "    for i in range(n):\n",
    "        a=int(input())\n",
    "        li.append(a)\n",
    "    b=max(li)\n",
    "    count1=li.count(a)\n",
    "    print(count1)"
   ]
  },
  {
   "cell_type": "code",
   "execution_count": 1,
   "id": "9b96fd7d",
   "metadata": {},
   "outputs": [
    {
     "name": "stdout",
     "output_type": "stream",
     "text": [
      "Hello world\n"
     ]
    }
   ],
   "source": [
    "print('Hello world')"
   ]
  },
  {
   "cell_type": "code",
   "execution_count": 2,
   "id": "1c6cae53",
   "metadata": {},
   "outputs": [
    {
     "name": "stdout",
     "output_type": "stream",
     "text": [
      "hello \n",
      "world\n"
     ]
    }
   ],
   "source": [
    "print('hello \\nworld')"
   ]
  },
  {
   "cell_type": "code",
   "execution_count": 3,
   "id": "0eb62947",
   "metadata": {},
   "outputs": [
    {
     "name": "stdout",
     "output_type": "stream",
     "text": [
      "hello world\n"
     ]
    }
   ],
   "source": [
    "print('hello',end=' ')\n",
    "print('world')"
   ]
  },
  {
   "cell_type": "code",
   "execution_count": 1,
   "id": "af95977b",
   "metadata": {},
   "outputs": [],
   "source": [
    "import numpy as np"
   ]
  },
  {
   "cell_type": "code",
   "execution_count": 2,
   "id": "556d9527",
   "metadata": {},
   "outputs": [
    {
     "data": {
      "text/plain": [
       "numpy.ndarray"
      ]
     },
     "execution_count": 2,
     "metadata": {},
     "output_type": "execute_result"
    }
   ],
   "source": [
    "a=np.array([1,2,3,4,5,6])\n",
    "type(a)"
   ]
  },
  {
   "cell_type": "code",
   "execution_count": 3,
   "id": "544a60f9",
   "metadata": {},
   "outputs": [],
   "source": [
    "import pandas as pd"
   ]
  },
  {
   "cell_type": "code",
   "execution_count": 1,
   "id": "1f08dca8",
   "metadata": {},
   "outputs": [
    {
     "ename": "ModuleNotFoundError",
     "evalue": "No module named 'cv2'",
     "output_type": "error",
     "traceback": [
      "\u001b[1;31m---------------------------------------------------------------------------\u001b[0m",
      "\u001b[1;31mModuleNotFoundError\u001b[0m                       Traceback (most recent call last)",
      "Input \u001b[1;32mIn [1]\u001b[0m, in \u001b[0;36m<cell line: 1>\u001b[1;34m()\u001b[0m\n\u001b[1;32m----> 1\u001b[0m \u001b[38;5;28;01mimport\u001b[39;00m \u001b[38;5;21;01mcv2\u001b[39;00m\n",
      "\u001b[1;31mModuleNotFoundError\u001b[0m: No module named 'cv2'"
     ]
    }
   ],
   "source": [
    "import cv2"
   ]
  },
  {
   "cell_type": "code",
   "execution_count": 3,
   "id": "847d30f7",
   "metadata": {},
   "outputs": [
    {
     "ename": "AttributeError",
     "evalue": "partially initialized module 'pandas' has no attribute 'core' (most likely due to a circular import)",
     "output_type": "error",
     "traceback": [
      "\u001b[1;31m---------------------------------------------------------------------------\u001b[0m",
      "\u001b[1;31mAttributeError\u001b[0m                            Traceback (most recent call last)",
      "Input \u001b[1;32mIn [3]\u001b[0m, in \u001b[0;36m<cell line: 1>\u001b[1;34m()\u001b[0m\n\u001b[1;32m----> 1\u001b[0m \u001b[38;5;28;01mimport\u001b[39;00m \u001b[38;5;21;01mpandas\u001b[39;00m \u001b[38;5;28;01mas\u001b[39;00m \u001b[38;5;21;01mpd\u001b[39;00m\n\u001b[0;32m      2\u001b[0m \u001b[38;5;28;01mfrom\u001b[39;00m \u001b[38;5;21;01msklearn\u001b[39;00m\u001b[38;5;21;01m.\u001b[39;00m\u001b[38;5;21;01mmodel_selection\u001b[39;00m \u001b[38;5;28;01mimport\u001b[39;00m train_test_split\n\u001b[0;32m      3\u001b[0m \u001b[38;5;28;01mfrom\u001b[39;00m \u001b[38;5;21;01msklearn\u001b[39;00m\u001b[38;5;21;01m.\u001b[39;00m\u001b[38;5;21;01mneighbors\u001b[39;00m \u001b[38;5;28;01mimport\u001b[39;00m KNeighborsClassifier\n",
      "File \u001b[1;32m~\\anaconda3\\lib\\site-packages\\pandas\\__init__.py:135\u001b[0m, in \u001b[0;36m<module>\u001b[1;34m\u001b[0m\n\u001b[0;32m    117\u001b[0m \u001b[38;5;28;01mfrom\u001b[39;00m \u001b[38;5;21;01mpandas\u001b[39;00m\u001b[38;5;21;01m.\u001b[39;00m\u001b[38;5;21;01mcore\u001b[39;00m\u001b[38;5;21;01m.\u001b[39;00m\u001b[38;5;21;01mcomputation\u001b[39;00m\u001b[38;5;21;01m.\u001b[39;00m\u001b[38;5;21;01mapi\u001b[39;00m \u001b[38;5;28;01mimport\u001b[39;00m \u001b[38;5;28meval\u001b[39m\n\u001b[0;32m    119\u001b[0m \u001b[38;5;28;01mfrom\u001b[39;00m \u001b[38;5;21;01mpandas\u001b[39;00m\u001b[38;5;21;01m.\u001b[39;00m\u001b[38;5;21;01mcore\u001b[39;00m\u001b[38;5;21;01m.\u001b[39;00m\u001b[38;5;21;01mreshape\u001b[39;00m\u001b[38;5;21;01m.\u001b[39;00m\u001b[38;5;21;01mapi\u001b[39;00m \u001b[38;5;28;01mimport\u001b[39;00m (\n\u001b[0;32m    120\u001b[0m     concat,\n\u001b[0;32m    121\u001b[0m     lreshape,\n\u001b[1;32m   (...)\u001b[0m\n\u001b[0;32m    132\u001b[0m     qcut,\n\u001b[0;32m    133\u001b[0m )\n\u001b[1;32m--> 135\u001b[0m \u001b[38;5;28;01mfrom\u001b[39;00m \u001b[38;5;21;01mpandas\u001b[39;00m \u001b[38;5;28;01mimport\u001b[39;00m api, arrays, errors, io, plotting, testing, tseries\n\u001b[0;32m    136\u001b[0m \u001b[38;5;28;01mfrom\u001b[39;00m \u001b[38;5;21;01mpandas\u001b[39;00m\u001b[38;5;21;01m.\u001b[39;00m\u001b[38;5;21;01mutil\u001b[39;00m\u001b[38;5;21;01m.\u001b[39;00m\u001b[38;5;21;01m_print_versions\u001b[39;00m \u001b[38;5;28;01mimport\u001b[39;00m show_versions\n\u001b[0;32m    138\u001b[0m \u001b[38;5;28;01mfrom\u001b[39;00m \u001b[38;5;21;01mpandas\u001b[39;00m\u001b[38;5;21;01m.\u001b[39;00m\u001b[38;5;21;01mio\u001b[39;00m\u001b[38;5;21;01m.\u001b[39;00m\u001b[38;5;21;01mapi\u001b[39;00m \u001b[38;5;28;01mimport\u001b[39;00m (\n\u001b[0;32m    139\u001b[0m     \u001b[38;5;66;03m# excel\u001b[39;00m\n\u001b[0;32m    140\u001b[0m     ExcelFile,\n\u001b[1;32m   (...)\u001b[0m\n\u001b[0;32m    168\u001b[0m     read_spss,\n\u001b[0;32m    169\u001b[0m )\n",
      "File \u001b[1;32m~\\anaconda3\\lib\\site-packages\\pandas\\testing.py:6\u001b[0m, in \u001b[0;36m<module>\u001b[1;34m\u001b[0m\n\u001b[0;32m      1\u001b[0m \u001b[38;5;124;03m\"\"\"\u001b[39;00m\n\u001b[0;32m      2\u001b[0m \u001b[38;5;124;03mPublic testing utility functions.\u001b[39;00m\n\u001b[0;32m      3\u001b[0m \u001b[38;5;124;03m\"\"\"\u001b[39;00m\n\u001b[1;32m----> 6\u001b[0m \u001b[38;5;28;01mfrom\u001b[39;00m \u001b[38;5;21;01mpandas\u001b[39;00m\u001b[38;5;21;01m.\u001b[39;00m\u001b[38;5;21;01m_testing\u001b[39;00m \u001b[38;5;28;01mimport\u001b[39;00m (\n\u001b[0;32m      7\u001b[0m     assert_extension_array_equal,\n\u001b[0;32m      8\u001b[0m     assert_frame_equal,\n\u001b[0;32m      9\u001b[0m     assert_index_equal,\n\u001b[0;32m     10\u001b[0m     assert_series_equal,\n\u001b[0;32m     11\u001b[0m )\n\u001b[0;32m     13\u001b[0m __all__ \u001b[38;5;241m=\u001b[39m [\n\u001b[0;32m     14\u001b[0m     \u001b[38;5;124m\"\u001b[39m\u001b[38;5;124massert_extension_array_equal\u001b[39m\u001b[38;5;124m\"\u001b[39m,\n\u001b[0;32m     15\u001b[0m     \u001b[38;5;124m\"\u001b[39m\u001b[38;5;124massert_frame_equal\u001b[39m\u001b[38;5;124m\"\u001b[39m,\n\u001b[0;32m     16\u001b[0m     \u001b[38;5;124m\"\u001b[39m\u001b[38;5;124massert_series_equal\u001b[39m\u001b[38;5;124m\"\u001b[39m,\n\u001b[0;32m     17\u001b[0m     \u001b[38;5;124m\"\u001b[39m\u001b[38;5;124massert_index_equal\u001b[39m\u001b[38;5;124m\"\u001b[39m,\n\u001b[0;32m     18\u001b[0m ]\n",
      "File \u001b[1;32m~\\anaconda3\\lib\\site-packages\\pandas\\_testing\\__init__.py:979\u001b[0m, in \u001b[0;36m<module>\u001b[1;34m\u001b[0m\n\u001b[0;32m    974\u001b[0m     \u001b[38;5;28;01mimport\u001b[39;00m \u001b[38;5;21;01mpytest\u001b[39;00m\n\u001b[0;32m    976\u001b[0m     \u001b[38;5;28;01mreturn\u001b[39;00m pytest\u001b[38;5;241m.\u001b[39mraises(expected_exception, match\u001b[38;5;241m=\u001b[39m\u001b[38;5;28;01mNone\u001b[39;00m)  \u001b[38;5;66;03m# noqa: PDF010\u001b[39;00m\n\u001b[1;32m--> 979\u001b[0m cython_table \u001b[38;5;241m=\u001b[39m \u001b[43mpd\u001b[49m\u001b[38;5;241;43m.\u001b[39;49m\u001b[43mcore\u001b[49m\u001b[38;5;241m.\u001b[39mcommon\u001b[38;5;241m.\u001b[39m_cython_table\u001b[38;5;241m.\u001b[39mitems()\n\u001b[0;32m    982\u001b[0m \u001b[38;5;28;01mdef\u001b[39;00m \u001b[38;5;21mget_cython_table_params\u001b[39m(ndframe, func_names_and_expected):\n\u001b[0;32m    983\u001b[0m     \u001b[38;5;124;03m\"\"\"\u001b[39;00m\n\u001b[0;32m    984\u001b[0m \u001b[38;5;124;03m    Combine frame, functions from com._cython_table\u001b[39;00m\n\u001b[0;32m    985\u001b[0m \u001b[38;5;124;03m    keys and expected result.\u001b[39;00m\n\u001b[1;32m   (...)\u001b[0m\n\u001b[0;32m    997\u001b[0m \u001b[38;5;124;03m        List of three items (DataFrame, function, expected result)\u001b[39;00m\n\u001b[0;32m    998\u001b[0m \u001b[38;5;124;03m    \"\"\"\u001b[39;00m\n",
      "\u001b[1;31mAttributeError\u001b[0m: partially initialized module 'pandas' has no attribute 'core' (most likely due to a circular import)"
     ]
    }
   ],
   "source": [
    "import pandas as pd\n",
    "from sklearn.model_selection import train_test_split\n",
    "from sklearn.neighbors import KNeighborsClassifier\n",
    "from sklearn.metrics import accuracy_score\n",
    "\n",
    "# Load the iris dataset\n",
    "url = \"https://archive.ics.uci.edu/ml/machine-learning-databases/iris/iris.data\"\n",
    "data = pd.read_csv(url, names=['sepal_length', 'sepal_width', 'petal_length', 'petal_width', 'class'])\n",
    "\n",
    "# Split the data into features and target\n",
    "features = data.iloc[:, :-1].values\n",
    "target = data.iloc[:, -1].values\n",
    "\n",
    "# Split the data into training and testing sets\n",
    "features_train, features_test, target_train, target_test = train_test_split(features, target, test_size=0.2, random_state=0)\n",
    "\n",
    "# Train a K-Nearest Neighbors classifier\n",
    "knn = KNeighborsClassifier(n_neighbors=5)\n",
    "knn.fit(features_train, target_train)\n",
    "\n",
    "# Test the classifier on the testing set\n",
    "target_pred = knn.predict(features_test)\n",
    "\n",
    "# Compute the accuracy of the classifier\n",
    "accuracy = accuracy_score(target_test, target_pred)\n",
    "print(\"Accuracy:\", accuracy)"
   ]
  },
  {
   "cell_type": "code",
   "execution_count": null,
   "id": "a29cf45e",
   "metadata": {},
   "outputs": [],
   "source": []
  }
 ],
 "metadata": {
  "kernelspec": {
   "display_name": "Python 3 (ipykernel)",
   "language": "python",
   "name": "python3"
  },
  "language_info": {
   "codemirror_mode": {
    "name": "ipython",
    "version": 3
   },
   "file_extension": ".py",
   "mimetype": "text/x-python",
   "name": "python",
   "nbconvert_exporter": "python",
   "pygments_lexer": "ipython3",
   "version": "3.9.12"
  }
 },
 "nbformat": 4,
 "nbformat_minor": 5
}
