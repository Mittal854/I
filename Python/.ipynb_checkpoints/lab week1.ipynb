{
 "cells": [
  {
   "cell_type": "code",
   "execution_count": 2,
   "id": "6e6fd531",
   "metadata": {},
   "outputs": [
    {
     "name": "stdout",
     "output_type": "stream",
     "text": [
      "154\n",
      "not armstrong\n"
     ]
    }
   ],
   "source": [
    "#python prog. to check a no is an armstrong no\n",
    "n=int(input())\n",
    "a=n\n",
    "sum=0\n",
    "b=len(str(n))\n",
    "while n>0:\n",
    "    digit=n%10\n",
    "    sum+=digit**b\n",
    "    n=n//10\n",
    "if sum==a:\n",
    "    print('armstrong no')\n",
    "else:\n",
    "    print('not armstrong')"
   ]
  },
  {
   "cell_type": "code",
   "execution_count": 24,
   "id": "5b79aa2b",
   "metadata": {},
   "outputs": [
    {
     "name": "stdout",
     "output_type": "stream",
     "text": [
      "2 \n",
      "10\n",
      "2\n",
      "3\n",
      "5\n",
      "7\n"
     ]
    }
   ],
   "source": [
    "#python prog. to print prime no in an interval\n",
    "n=int(input())\n",
    "m=int(input())\n",
    "for i in range(n,m):\n",
    "    count=0\n",
    "    for j in range(2,i):\n",
    "        if i%j==0:\n",
    "            count+=1\n",
    "    if count==0:\n",
    "        print(i)\n",
    "        "
   ]
  },
  {
   "cell_type": "code",
   "execution_count": 14,
   "id": "8336932e",
   "metadata": {},
   "outputs": [
    {
     "name": "stdout",
     "output_type": "stream",
     "text": [
      "6\n",
      "false\n"
     ]
    }
   ],
   "source": [
    "#python prog. to check no is fibonacci no\n",
    "n=int(input())\n",
    "a=0\n",
    "b=1\n",
    "sum=0\n",
    "while b<n:\n",
    "    a=b\n",
    "    b=sum\n",
    "    sum=a+b\n",
    "    \n",
    "if b==n:\n",
    "    print('true')\n",
    "else:\n",
    "    print('false')"
   ]
  },
  {
   "cell_type": "code",
   "execution_count": 15,
   "id": "3347cce8",
   "metadata": {},
   "outputs": [
    {
     "name": "stdout",
     "output_type": "stream",
     "text": [
      "5\n",
      "225\n"
     ]
    }
   ],
   "source": [
    "#python prog. to print cube sum of first n natural no\n",
    "n=int(input())\n",
    "sum=0\n",
    "for i in range(1,n+1):\n",
    "    sum+=i**3\n",
    "print(sum)    "
   ]
  },
  {
   "cell_type": "code",
   "execution_count": 17,
   "id": "10f91542",
   "metadata": {},
   "outputs": [
    {
     "name": "stdout",
     "output_type": "stream",
     "text": [
      "2\n",
      "10\n",
      "3\n",
      "5\n",
      "7\n",
      "9\n"
     ]
    }
   ],
   "source": [
    "#python prog to print all odd no in a range\n",
    "a=int(input())\n",
    "b=int(input())\n",
    "for i in range(a,b):\n",
    "    if i%2!=0:\n",
    "        print(i)"
   ]
  },
  {
   "cell_type": "code",
   "execution_count": 18,
   "id": "64a251e1",
   "metadata": {},
   "outputs": [
    {
     "name": "stdout",
     "output_type": "stream",
     "text": [
      "1 2 3 4 5 6 7 8 9\n",
      "['9', '2', '3', '4', '5', '6', '7', '8', '1']\n"
     ]
    }
   ],
   "source": [
    "#python prog. to interchange 1st & last element in a list\n",
    "li=[x for x in input().split()]\n",
    "for i in range(len(li)):\n",
    "    li[0],li[-1]=li[-1],li[0]\n",
    "print(li)    "
   ]
  },
  {
   "cell_type": "code",
   "execution_count": 20,
   "id": "313d7f3e",
   "metadata": {},
   "outputs": [
    {
     "name": "stdout",
     "output_type": "stream",
     "text": [
      "1 2 3 4 abc\n",
      "abc\n",
      "exists\n"
     ]
    }
   ],
   "source": [
    "#python prog. to check element exists in a list\n",
    "li=[x for x in input().split()]\n",
    "n=input()\n",
    "if n in li:\n",
    "    print('exists')"
   ]
  },
  {
   "cell_type": "code",
   "execution_count": 21,
   "id": "ca1151c3",
   "metadata": {},
   "outputs": [
    {
     "name": "stdout",
     "output_type": "stream",
     "text": [
      "1 2 3 4 5 6 7 8 9 \n",
      "45\n"
     ]
    }
   ],
   "source": [
    "#python prog to find sum of elem\n",
    "li=[int(x) for x in input().split()]\n",
    "sum=0\n",
    "for i in li:\n",
    "    sum+=i\n",
    "print(sum)    "
   ]
  },
  {
   "cell_type": "code",
   "execution_count": 22,
   "id": "ec0a6d5a",
   "metadata": {},
   "outputs": [
    {
     "name": "stdout",
     "output_type": "stream",
     "text": [
      "1 2 3 80 6 7 90 40 50 1\n",
      "80\n"
     ]
    }
   ],
   "source": [
    "n=[int(x) for x in input().split()]\n",
    "l=n[0]\n",
    "b=n[0]\n",
    "for i in range(0,len(n)):\n",
    "    if n[i]>l:\n",
    "        l=n[i]\n",
    "for i in range(0,len(n)):\n",
    "    if l>n[i]>b:\n",
    "        b=n[i]\n",
    "print(b)   "
   ]
  },
  {
   "cell_type": "code",
   "execution_count": 23,
   "id": "76f60af7",
   "metadata": {},
   "outputs": [
    {
     "name": "stdout",
     "output_type": "stream",
     "text": [
      "1 1 1 2 3 4 5 2 8 3 4 5\n",
      "[1, 2, 3, 4, 5]\n"
     ]
    }
   ],
   "source": [
    "li=[int(x) for x in input().strip().split()]\n",
    "li1=[]\n",
    "for i in range(len(li)):\n",
    "    count=0\n",
    "    for k in range(i+1,len(li)):\n",
    "        if li[i]==li[k]:\n",
    "            count=+1\n",
    "    if count>0:\n",
    "        li1.append(li[i]) \n",
    "li1=set(li1)\n",
    "li1=list(li1)\n",
    "print(li1)"
   ]
  }
 ],
 "metadata": {
  "kernelspec": {
   "display_name": "Python 3 (ipykernel)",
   "language": "python",
   "name": "python3"
  },
  "language_info": {
   "codemirror_mode": {
    "name": "ipython",
    "version": 3
   },
   "file_extension": ".py",
   "mimetype": "text/x-python",
   "name": "python",
   "nbconvert_exporter": "python",
   "pygments_lexer": "ipython3",
   "version": "3.9.12"
  }
 },
 "nbformat": 4,
 "nbformat_minor": 5
}
