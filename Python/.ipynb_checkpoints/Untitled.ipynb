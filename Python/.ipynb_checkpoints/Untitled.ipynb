{
 "cells": [
  {
   "cell_type": "markdown",
   "id": "215eb0cc",
   "metadata": {},
   "source": [
    "#roots of linear equation"
   ]
  },
  {
   "cell_type": "code",
   "execution_count": 6,
   "id": "1903842e",
   "metadata": {},
   "outputs": [
    {
     "ename": "SyntaxError",
     "evalue": "invalid syntax (3551488369.py, line 6)",
     "output_type": "error",
     "traceback": [
      "\u001b[1;36m  Input \u001b[1;32mIn [6]\u001b[1;36m\u001b[0m\n\u001b[1;33m    print(x)\u001b[0m\n\u001b[1;37m    ^\u001b[0m\n\u001b[1;31mSyntaxError\u001b[0m\u001b[1;31m:\u001b[0m invalid syntax\n"
     ]
    }
   ],
   "source": [
    "import math\n",
    "a=1\n",
    "b=5\n",
    "c=1\n",
    "x=(-b+(math.sqrt((b*b)-(4*a*c))/(2*a)        \n",
    "print(x)        "
   ]
  },
  {
   "cell_type": "code",
   "execution_count": 1,
   "id": "a7943630",
   "metadata": {},
   "outputs": [
    {
     "name": "stdout",
     "output_type": "stream",
     "text": [
      "7\n",
      "6\n",
      "1\n"
     ]
    }
   ],
   "source": [
    "n=int(input())\n",
    "a=int(input())\n",
    "b=int(input())\n",
    "while n<=6:\n",
    "    if n==1:\n",
    "        c=a+b\n",
    "        print(c) \n",
    "    elif n==2:\n",
    "        c=a-b\n",
    "        print(c)\n",
    "    elif n==3:\n",
    "        c=a*b\n",
    "        print(c) \n",
    "    elif n==4:\n",
    "        c=a/b\n",
    "        print(c)  \n",
    "    elif n==5:\n",
    "        c=a%b\n",
    "        print(c)    \n",
    "    elif n==6:\n",
    "        break\n",
    "    elif n>=7:\n",
    "        print(\"Invalid Operation\")"
   ]
  },
  {
   "cell_type": "code",
   "execution_count": null,
   "id": "12344322",
   "metadata": {},
   "outputs": [],
   "source": [
    "a=32\n",
    "b=43\n",
    "bin(a)"
   ]
  },
  {
   "cell_type": "code",
   "execution_count": null,
   "id": "bc021538",
   "metadata": {},
   "outputs": [],
   "source": [
    "a=32\n",
    "bin(a)"
   ]
  },
  {
   "cell_type": "code",
   "execution_count": 1,
   "id": "36ed546e",
   "metadata": {},
   "outputs": [
    {
     "name": "stdout",
     "output_type": "stream",
     "text": [
      "hello world\n"
     ]
    }
   ],
   "source": [
    "print(\"hello world\")"
   ]
  },
  {
   "cell_type": "code",
   "execution_count": null,
   "id": "42f81621",
   "metadata": {},
   "outputs": [],
   "source": []
  }
 ],
 "metadata": {
  "kernelspec": {
   "display_name": "Python 3 (ipykernel)",
   "language": "python",
   "name": "python3"
  },
  "language_info": {
   "codemirror_mode": {
    "name": "ipython",
    "version": 3
   },
   "file_extension": ".py",
   "mimetype": "text/x-python",
   "name": "python",
   "nbconvert_exporter": "python",
   "pygments_lexer": "ipython3",
   "version": "3.9.12"
  }
 },
 "nbformat": 4,
 "nbformat_minor": 5
}
