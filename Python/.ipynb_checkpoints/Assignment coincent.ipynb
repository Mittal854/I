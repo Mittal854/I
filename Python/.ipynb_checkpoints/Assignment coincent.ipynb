{
 "cells": [
  {
   "cell_type": "markdown",
   "id": "93003724",
   "metadata": {},
   "source": [
    "### Assignment coincent\n",
    "### -Bhuvesh Mittal"
   ]
  },
  {
   "cell_type": "markdown",
   "id": "80ef0e1c",
   "metadata": {},
   "source": [
    "Take list of elements from the user and find the square root of each\n",
    "number in the list and store in it another list and print that list."
   ]
  },
  {
   "cell_type": "code",
   "execution_count": 2,
   "id": "f0f3f193",
   "metadata": {},
   "outputs": [
    {
     "name": "stdout",
     "output_type": "stream",
     "text": [
      "16 36 4 \n",
      "[4.0, 6.0, 2.0]\n"
     ]
    }
   ],
   "source": [
    "li=[int(x) for x in input().split()]\n",
    "li1=[]\n",
    "for x in li:\n",
    "    li1.append(x**.5)\n",
    "print(li1)    \n",
    "    "
   ]
  },
  {
   "cell_type": "markdown",
   "id": "7728399a",
   "metadata": {},
   "source": [
    "Write a function which prints all the numbers divisible by 3 and 5"
   ]
  },
  {
   "cell_type": "code",
   "execution_count": 3,
   "id": "811f237d",
   "metadata": {},
   "outputs": [
    {
     "name": "stdout",
     "output_type": "stream",
     "text": [
      "range= 50\n",
      "15\n",
      "30\n",
      "45\n"
     ]
    }
   ],
   "source": [
    "n=int(input(\"range= \"))\n",
    "for i in range(1,n):\n",
    "    if i%15==0:\n",
    "        print(i)\n"
   ]
  },
  {
   "cell_type": "markdown",
   "id": "4b9727da",
   "metadata": {},
   "source": [
    "Write a program to check whether a given letter is vowel or\n",
    "consonant"
   ]
  },
  {
   "cell_type": "code",
   "execution_count": 5,
   "id": "6a400e46",
   "metadata": {},
   "outputs": [
    {
     "name": "stdout",
     "output_type": "stream",
     "text": [
      "b\n",
      "consonant\n"
     ]
    }
   ],
   "source": [
    "a=input()\n",
    "li=['a','e','i','o','u']\n",
    "if a in li:\n",
    "    print(\"vowel\")\n",
    "else:\n",
    "    print(\"consonant\")"
   ]
  },
  {
   "cell_type": "markdown",
   "id": "70b13488",
   "metadata": {},
   "source": [
    "Calculate the distance between any two characters given by user"
   ]
  },
  {
   "cell_type": "code",
   "execution_count": 6,
   "id": "00f570c3",
   "metadata": {},
   "outputs": [
    {
     "name": "stdout",
     "output_type": "stream",
     "text": [
      "enter the character 1= a\n",
      "enter the character 2= d\n",
      "diff bw  a & d is  3\n"
     ]
    }
   ],
   "source": [
    "a=input(\"enter the character 1= \")\n",
    "b=input(\"enter the character 2= \")\n",
    "ord1=ord(a)\n",
    "ord2=ord(b)\n",
    "diff=ord2-ord1\n",
    "print(\"diff bw \",a,\"&\",b,\"is \",diff)"
   ]
  },
  {
   "cell_type": "markdown",
   "id": "45859c35",
   "metadata": {},
   "source": [
    "Write a function which returns the number of vowels present in the given \n",
    "string "
   ]
  },
  {
   "cell_type": "code",
   "execution_count": 8,
   "id": "d175697b",
   "metadata": {},
   "outputs": [
    {
     "name": "stdout",
     "output_type": "stream",
     "text": [
      "my name is bhuvesh mittal\n",
      "total no of vowels=  7\n"
     ]
    }
   ],
   "source": [
    "a=input()\n",
    "li=['a','e','i','o','u']\n",
    "count=0\n",
    "for i in a:\n",
    "    if i in li:\n",
    "        count+=1\n",
    "print(\"total no of vowels= \",count)        "
   ]
  },
  {
   "cell_type": "markdown",
   "id": "8a62d208",
   "metadata": {},
   "source": [
    "Print all the alphabets by using loop and ascii code "
   ]
  },
  {
   "cell_type": "code",
   "execution_count": 10,
   "id": "f7633925",
   "metadata": {},
   "outputs": [
    {
     "name": "stdout",
     "output_type": "stream",
     "text": [
      "a b c d e f g h i j k l m n o p q r s t u v w x y z "
     ]
    }
   ],
   "source": [
    "for i in range (0,26):\n",
    "    alphabet=chr(97+i)\n",
    "    print(alphabet,end=\" \")"
   ]
  },
  {
   "cell_type": "markdown",
   "id": "23bd315e",
   "metadata": {},
   "source": [
    "write a program find the sum of all the even numbers of the list"
   ]
  },
  {
   "cell_type": "code",
   "execution_count": 12,
   "id": "69070dc2",
   "metadata": {},
   "outputs": [
    {
     "name": "stdout",
     "output_type": "stream",
     "text": [
      "1 2 3 4 5 6 7 8 9 10 11 12 13 14 15 16\n",
      "sum of even no = 72\n"
     ]
    }
   ],
   "source": [
    "li=[int(x) for x in input().split()]\n",
    "sum=0\n",
    "for i in li:\n",
    "    if i%2==0:\n",
    "        sum=sum+i\n",
    "print(\"sum of even no =\",sum)        "
   ]
  },
  {
   "cell_type": "markdown",
   "id": "78976af2",
   "metadata": {},
   "source": [
    "Write a program for print the squares of all the numbers, except for \n",
    "factors of 3"
   ]
  },
  {
   "cell_type": "code",
   "execution_count": 14,
   "id": "6b3f6151",
   "metadata": {},
   "outputs": [
    {
     "name": "stdout",
     "output_type": "stream",
     "text": [
      "range=10\n",
      "1\n",
      "4\n",
      "16\n",
      "25\n",
      "49\n",
      "64\n",
      "100\n"
     ]
    }
   ],
   "source": [
    "n=int(input(\"range=\"))\n",
    "for i in range(0,n+1):\n",
    "    if i%3!=0:\n",
    "        print(i*i)"
   ]
  },
  {
   "cell_type": "markdown",
   "id": "45637ef9",
   "metadata": {},
   "source": [
    "Take 2 strings from user and then replace all the A’s with a’s and then \n",
    "concatenate the 2 strings and print"
   ]
  },
  {
   "cell_type": "code",
   "execution_count": 16,
   "id": "13c51f62",
   "metadata": {},
   "outputs": [
    {
     "name": "stdout",
     "output_type": "stream",
     "text": [
      "AAAAbb\n",
      "AAaaBB\n",
      "aaaabbaaaaBB\n"
     ]
    }
   ],
   "source": [
    "a=input()\n",
    "b=input()\n",
    "c=a.replace(\"A\",\"a\")\n",
    "d=b.replace(\"A\",\"a\")\n",
    "e=c+d\n",
    "print(e)"
   ]
  },
  {
   "cell_type": "markdown",
   "id": "39b3793e",
   "metadata": {},
   "source": [
    "write a program to get a list of odd number from the list of numbers \n",
    "given by user (use list comprehension)"
   ]
  },
  {
   "cell_type": "code",
   "execution_count": 19,
   "id": "444ab2b5",
   "metadata": {
    "scrolled": true
   },
   "outputs": [
    {
     "name": "stdout",
     "output_type": "stream",
     "text": [
      "1 2 3 4 5 6\n",
      "[1, 3, 5]\n"
     ]
    }
   ],
   "source": [
    "li=[int(x) for x in input().split() if int(x)%2!=0]\n",
    "print(li)"
   ]
  },
  {
   "cell_type": "markdown",
   "id": "43021698",
   "metadata": {},
   "source": [
    "write a program to print lower when you have upper letter in string and \n",
    "vice versa "
   ]
  },
  {
   "cell_type": "code",
   "execution_count": 6,
   "id": "4826d042",
   "metadata": {
    "scrolled": true
   },
   "outputs": [
    {
     "name": "stdout",
     "output_type": "stream",
     "text": [
      "AbCd\n",
      "aBcD\n"
     ]
    }
   ],
   "source": [
    "a=input()\n",
    "print(a.swapcase())       "
   ]
  },
  {
   "cell_type": "code",
   "execution_count": 1,
   "id": "faec09a8",
   "metadata": {},
   "outputs": [
    {
     "ename": "ModuleNotFoundError",
     "evalue": "No module named 'cv2'",
     "output_type": "error",
     "traceback": [
      "\u001b[1;31m---------------------------------------------------------------------------\u001b[0m",
      "\u001b[1;31mModuleNotFoundError\u001b[0m                       Traceback (most recent call last)",
      "Input \u001b[1;32mIn [1]\u001b[0m, in \u001b[0;36m<cell line: 1>\u001b[1;34m()\u001b[0m\n\u001b[1;32m----> 1\u001b[0m \u001b[38;5;28;01mfrom\u001b[39;00m \u001b[38;5;21;01mcv2\u001b[39;00m \u001b[38;5;28;01mimport\u001b[39;00m cv2\n\u001b[0;32m      3\u001b[0m \u001b[38;5;66;03m#training of data\u001b[39;00m\n\u001b[0;32m      4\u001b[0m trained_face_data \u001b[38;5;241m=\u001b[39m cv2\u001b[38;5;241m.\u001b[39mcascadeclassifier(\u001b[38;5;124m'\u001b[39m\u001b[38;5;124mhaarcascade_frontalface_default.xml\u001b[39m\u001b[38;5;124m'\u001b[39m)\n",
      "\u001b[1;31mModuleNotFoundError\u001b[0m: No module named 'cv2'"
     ]
    }
   ],
   "source": [
    "from cv2 import cv2\n",
    "\n",
    "#training of data\n",
    "trained_face_data = cv2.cascadeclassifier('haarcascade_frontalface_default.xml')\n",
    "\n",
    "# choose image to detect face\n",
    "img = cv2.imread('rdj.jpg')\n",
    "\n",
    "# detect face\n",
    "face_coordinates = trained_face_data.detectMultiScale(img)\n",
    "# print(face_coordinbates)\n",
    "\n",
    "#draw rectangle around the face\n",
    "for(x,y,w,h) in face_coordinates:\n",
    "    cv2.rectangle(img,(x,y), (x+w,y+h),(0,255,0),5)\n",
    "# show image on desktop\n",
    "cv2.imshow('image'.img)\n",
    "# to wait on screen\n",
    "cv2.waitkey(0)\n",
    "cv2.destroyAllWindows()"
   ]
  },
  {
   "cell_type": "code",
   "execution_count": null,
   "id": "951c3567",
   "metadata": {},
   "outputs": [],
   "source": []
  }
 ],
 "metadata": {
  "kernelspec": {
   "display_name": "Python 3 (ipykernel)",
   "language": "python",
   "name": "python3"
  },
  "language_info": {
   "codemirror_mode": {
    "name": "ipython",
    "version": 3
   },
   "file_extension": ".py",
   "mimetype": "text/x-python",
   "name": "python",
   "nbconvert_exporter": "python",
   "pygments_lexer": "ipython3",
   "version": "3.9.12"
  }
 },
 "nbformat": 4,
 "nbformat_minor": 5
}
