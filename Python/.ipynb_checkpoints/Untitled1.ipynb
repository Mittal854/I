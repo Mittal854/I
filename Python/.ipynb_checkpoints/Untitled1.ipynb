{
 "cells": [
  {
   "cell_type": "code",
   "execution_count": 2,
   "id": "8cb0f406",
   "metadata": {},
   "outputs": [
    {
     "name": "stdout",
     "output_type": "stream",
     "text": [
      "10\n",
      "20\n",
      "30\n"
     ]
    },
    {
     "data": {
      "text/plain": [
       "20.0"
      ]
     },
     "execution_count": 2,
     "metadata": {},
     "output_type": "execute_result"
    }
   ],
   "source": [
    "a=int(input())\n",
    "b=int(input())\n",
    "c=int(input())\n",
    "average=(a+b+c)/3\n",
    "average"
   ]
  },
  {
   "cell_type": "code",
   "execution_count": 4,
   "id": "454f0395",
   "metadata": {},
   "outputs": [
    {
     "name": "stdout",
     "output_type": "stream",
     "text": [
      "1000\n"
     ]
    }
   ],
   "source": [
    "a=10\n",
    "b=3\n",
    "print(a**b)\n"
   ]
  },
  {
   "cell_type": "code",
   "execution_count": 8,
   "id": "7022b48d",
   "metadata": {},
   "outputs": [
    {
     "name": "stdout",
     "output_type": "stream",
     "text": [
      "1\n",
      "3\n",
      "5\n",
      "2\n"
     ]
    }
   ],
   "source": [
    "a=int(input())\n",
    "b=int(input())\n",
    "c=int(input())\n",
    "d=(b-a)\n",
    "print(d)"
   ]
  },
  {
   "cell_type": "code",
   "execution_count": 1,
   "id": "55326760",
   "metadata": {},
   "outputs": [
    {
     "data": {
      "text/plain": [
       "'0b100000'"
      ]
     },
     "execution_count": 1,
     "metadata": {},
     "output_type": "execute_result"
    }
   ],
   "source": [
    "bin(32)"
   ]
  },
  {
   "cell_type": "code",
   "execution_count": 2,
   "id": "3ae8e87d",
   "metadata": {},
   "outputs": [
    {
     "data": {
      "text/plain": [
       "'0b101011'"
      ]
     },
     "execution_count": 2,
     "metadata": {},
     "output_type": "execute_result"
    }
   ],
   "source": [
    "bin(43)"
   ]
  },
  {
   "cell_type": "code",
   "execution_count": 8,
   "id": "60ddc7ff",
   "metadata": {},
   "outputs": [
    {
     "name": "stdout",
     "output_type": "stream",
     "text": [
      "54\n"
     ]
    }
   ],
   "source": [
    "a=32\n",
    "b=22\n",
    "print(a^b)"
   ]
  },
  {
   "cell_type": "code",
   "execution_count": 9,
   "id": "5e6019f1",
   "metadata": {},
   "outputs": [
    {
     "data": {
      "text/plain": [
       "64"
      ]
     },
     "execution_count": 9,
     "metadata": {},
     "output_type": "execute_result"
    }
   ],
   "source": [
    "625&330"
   ]
  },
  {
   "cell_type": "code",
   "execution_count": 10,
   "id": "cf5557c8",
   "metadata": {},
   "outputs": [
    {
     "data": {
      "text/plain": [
       "98"
      ]
     },
     "execution_count": 10,
     "metadata": {},
     "output_type": "execute_result"
    }
   ],
   "source": [
    "225^131"
   ]
  },
  {
   "cell_type": "code",
   "execution_count": 13,
   "id": "04942003",
   "metadata": {},
   "outputs": [
    {
     "name": "stdout",
     "output_type": "stream",
     "text": [
      "8465 8956 89 98 5398 6537 98654\n",
      "[89, 98, 5398, 6537, 8465, 8956, 98654]\n",
      "9563\n",
      "no is not present\n"
     ]
    }
   ],
   "source": [
    "arr=[int(x) for x in input().split()]\n",
    "arr.sort()\n",
    "print(arr)\n",
    "x=int(input())\n",
    "beg=0\n",
    "end=len(arr)-1\n",
    "while beg<=end:\n",
    "    mid=(beg+end)//2\n",
    "    if arr[mid]==x:\n",
    "        print('no is present at',mid)\n",
    "        break\n",
    "    elif arr[mid]<x:\n",
    "        beg=mid+1\n",
    "    elif arr[mid]>x:\n",
    "        end=mid-1\n",
    "else:\n",
    "    print('no is not present')"
   ]
  }
 ],
 "metadata": {
  "kernelspec": {
   "display_name": "Python 3 (ipykernel)",
   "language": "python",
   "name": "python3"
  },
  "language_info": {
   "codemirror_mode": {
    "name": "ipython",
    "version": 3
   },
   "file_extension": ".py",
   "mimetype": "text/x-python",
   "name": "python",
   "nbconvert_exporter": "python",
   "pygments_lexer": "ipython3",
   "version": "3.9.12"
  }
 },
 "nbformat": 4,
 "nbformat_minor": 5
}
