{
 "cells": [
  {
   "cell_type": "code",
   "execution_count": 2,
   "id": "c23cfe63",
   "metadata": {},
   "outputs": [
    {
     "name": "stdout",
     "output_type": "stream",
     "text": [
      "t\n"
     ]
    }
   ],
   "source": [
    "a=2\n",
    "b=3\n",
    "if((a>1) | (b<1)):\n",
    "    print('t')\n",
    "else:\n",
    "    print('f')"
   ]
  },
  {
   "cell_type": "code",
   "execution_count": null,
   "id": "1c555d41",
   "metadata": {},
   "outputs": [
    {
     "name": "stdout",
     "output_type": "stream",
     "text": [
      "Welcome to Online Banking\n",
      "Press 1 for new user \n",
      "Press 2 for existing usr\n",
      "1\n",
      "user id12345\n",
      "password12345\n",
      "Press 1 for new user \n",
      "Press 2 for existing usr\n",
      "2\n",
      "Enter user id 12345\n",
      "Enter password 12345\n",
      "Welcome\n",
      "Press 1 for Loan \n",
      "Press 2 for balance check \n",
      "Press 3 for Transfer Money \n",
      "Press 4 for Credit Card\n",
      "1\n",
      "Press 1 for new user \n",
      "Press 2 for existing usr\n",
      "2\n",
      "Enter user id 12345\n",
      "Enter password 12354\n",
      "invalid password\n",
      "tries left  2\n",
      "Press 1 for new user \n",
      "Press 2 for existing usr\n"
     ]
    }
   ],
   "source": [
    "print('Welcome to Online Banking')\n",
    "usid=[]\n",
    "uspass=[]\n",
    "while True:\n",
    "    print('Press 1 for new user \\nPress 2 for existing usr')\n",
    "    a=int(input())\n",
    "    if a==1:\n",
    "        b=input('user id')\n",
    "        usid.append(b)\n",
    "        c=input('password')\n",
    "        uspass.append(c)\n",
    "        \n",
    "    else:\n",
    "        d=input('Enter user id ')\n",
    "        e=input('Enter password ')\n",
    "    \n",
    "        for i in range(len(usid)):\n",
    "            if usid[i]==d:\n",
    "                count=0\n",
    "                if count<3:\n",
    "                    if uspass[i]==e:\n",
    "                        print('Welcome')\n",
    "                        print('Press 1 for Loan \\nPress 2 for balance check \\nPress 3 for Transfer Money \\nPress 4 for Credit Card')\n",
    "                        f=int(input())\n",
    "                    else:\n",
    "                        count+=1\n",
    "                        print('invalid password')\n",
    "                        print('tries left ',3-count)\n",
    "                else:\n",
    "                    print('id blocked')\n",
    "                    break\n",
    "            else:\n",
    "                print('id not exist')\n",
    "                break"
   ]
  }
 ],
 "metadata": {
  "kernelspec": {
   "display_name": "Python 3 (ipykernel)",
   "language": "python",
   "name": "python3"
  },
  "language_info": {
   "codemirror_mode": {
    "name": "ipython",
    "version": 3
   },
   "file_extension": ".py",
   "mimetype": "text/x-python",
   "name": "python",
   "nbconvert_exporter": "python",
   "pygments_lexer": "ipython3",
   "version": "3.9.12"
  }
 },
 "nbformat": 4,
 "nbformat_minor": 5
}
