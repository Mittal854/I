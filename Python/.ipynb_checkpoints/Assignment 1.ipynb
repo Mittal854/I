{
 "cells": [
  {
   "cell_type": "markdown",
   "id": "50cfd45f",
   "metadata": {},
   "source": [
    "## First & last element in a list"
   ]
  },
  {
   "cell_type": "code",
   "execution_count": 1,
   "id": "94e3c068",
   "metadata": {},
   "outputs": [
    {
     "name": "stdout",
     "output_type": "stream",
     "text": [
      "12345678\n",
      "['1', '2', '3', '4', '5', '6', '7', '8']\n",
      "1\n",
      "8\n"
     ]
    }
   ],
   "source": [
    "n=list(input())\n",
    "print(n)\n",
    "print(n[0])\n",
    "print(n[-1])"
   ]
  },
  {
   "cell_type": "markdown",
   "id": "82a3b492",
   "metadata": {},
   "source": [
    "## Swap two elements in a list "
   ]
  },
  {
   "cell_type": "code",
   "execution_count": 3,
   "id": "ed90bf45",
   "metadata": {},
   "outputs": [
    {
     "name": "stdout",
     "output_type": "stream",
     "text": [
      "12345\n",
      "['1', '2', '3', '4', '5']\n",
      "Position to be swaped: 1\n",
      "Position to be swaped: 2\n",
      "['2', '1', '3', '4', '5']\n"
     ]
    }
   ],
   "source": [
    "n=list(input())\n",
    "print(n)\n",
    "a=int(input(\"Position to be swaped: \"))\n",
    "b=int(input(\"Position to be swaped: \"))\n",
    "n[a-1],n[b-1]=n[b-1],n[a-1]\n",
    "print(n)"
   ]
  },
  {
   "cell_type": "markdown",
   "id": "2e120197",
   "metadata": {},
   "source": [
    "## Factorial of a no."
   ]
  },
  {
   "cell_type": "code",
   "execution_count": 4,
   "id": "307d18da",
   "metadata": {},
   "outputs": [
    {
     "name": "stdout",
     "output_type": "stream",
     "text": [
      "3\n",
      "6\n"
     ]
    }
   ],
   "source": [
    "n=int(input())\n",
    "fact=1\n",
    "while n>0:\n",
    "    fact=fact*n\n",
    "    n-=1\n",
    "print(fact)    \n",
    "    "
   ]
  },
  {
   "cell_type": "markdown",
   "id": "994d44f2",
   "metadata": {},
   "source": [
    "## Prime or not"
   ]
  },
  {
   "cell_type": "code",
   "execution_count": 15,
   "id": "11e8aa07",
   "metadata": {},
   "outputs": [
    {
     "name": "stdout",
     "output_type": "stream",
     "text": [
      "3253262\n",
      "no is not prime\n"
     ]
    }
   ],
   "source": [
    "n=int(input())\n",
    "d=2\n",
    "flag=False\n",
    "while d<n:\n",
    "    if n%d==0:\n",
    "        flag= True\n",
    "    d+=1\n",
    "if flag:\n",
    "    print(\"no is not prime\")\n",
    "else:\n",
    "    print(\"no is prime\")\n",
    "\n"
   ]
  },
  {
   "cell_type": "markdown",
   "id": "ed707c02",
   "metadata": {},
   "source": [
    "## Fibonacci sequence"
   ]
  },
  {
   "cell_type": "code",
   "execution_count": 16,
   "id": "d9d63811",
   "metadata": {},
   "outputs": [
    {
     "name": "stdout",
     "output_type": "stream",
     "text": [
      "6\n",
      "0 1 1 2 3 5 8 "
     ]
    }
   ],
   "source": [
    "n=int(input())\n",
    "a=0\n",
    "b=1\n",
    "sum=0\n",
    "count=0\n",
    "while count<=n:\n",
    "    \n",
    "    count+=1\n",
    "    \n",
    "    a=b\n",
    "    b=sum\n",
    "    print(sum,end=' ')   \n",
    "    sum=a+b\n",
    "     "
   ]
  },
  {
   "cell_type": "markdown",
   "id": "1778c38e",
   "metadata": {},
   "source": [
    "## Factors of a no."
   ]
  },
  {
   "cell_type": "code",
   "execution_count": null,
   "id": "43a55721",
   "metadata": {},
   "outputs": [],
   "source": []
  },
  {
   "cell_type": "markdown",
   "id": "d64f25d6",
   "metadata": {},
   "source": [
    "## Occurrences of an element"
   ]
  },
  {
   "cell_type": "code",
   "execution_count": null,
   "id": "12059bd1",
   "metadata": {},
   "outputs": [],
   "source": []
  },
  {
   "cell_type": "markdown",
   "id": "19fbaf96",
   "metadata": {},
   "source": [
    "## Sum of digit of no."
   ]
  },
  {
   "cell_type": "code",
   "execution_count": 19,
   "id": "a4ba878a",
   "metadata": {},
   "outputs": [
    {
     "name": "stdout",
     "output_type": "stream",
     "text": [
      "123456789\n",
      "45\n"
     ]
    }
   ],
   "source": [
    "n=int(input())\n",
    "sum=0\n",
    "while n>0:\n",
    "    digit=n%10\n",
    "    sum+=digit\n",
    "    n=n//10\n",
    "print(sum)    "
   ]
  },
  {
   "cell_type": "code",
   "execution_count": null,
   "id": "bf33e566",
   "metadata": {},
   "outputs": [],
   "source": []
  }
 ],
 "metadata": {
  "kernelspec": {
   "display_name": "Python 3 (ipykernel)",
   "language": "python",
   "name": "python3"
  },
  "language_info": {
   "codemirror_mode": {
    "name": "ipython",
    "version": 3
   },
   "file_extension": ".py",
   "mimetype": "text/x-python",
   "name": "python",
   "nbconvert_exporter": "python",
   "pygments_lexer": "ipython3",
   "version": "3.9.12"
  }
 },
 "nbformat": 4,
 "nbformat_minor": 5
}
